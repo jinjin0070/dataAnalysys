{
  "nbformat": 4,
  "nbformat_minor": 0,
  "metadata": {
    "colab": {
      "provenance": [],
      "authorship_tag": "ABX9TyOayOB0yy3NdR3GUBcnxmxM",
      "include_colab_link": true
    },
    "kernelspec": {
      "name": "python3",
      "display_name": "Python 3"
    },
    "language_info": {
      "name": "python"
    }
  },
  "cells": [
    {
      "cell_type": "markdown",
      "metadata": {
        "id": "view-in-github",
        "colab_type": "text"
      },
      "source": [
        "<a href=\"https://colab.research.google.com/github/jinjin0070/dataAnalysys/blob/main/6_%EC%9D%BC%EC%B0%A8_%ED%8C%8C%EC%9D%B4%EC%8D%AC%EA%B8%B0%EC%B4%88_%EC%A0%9C%EC%96%B4%EB%AC%B8%EC%8B%A4%EC%8A%B5.ipynb\" target=\"_parent\"><img src=\"https://colab.research.google.com/assets/colab-badge.svg\" alt=\"Open In Colab\"/></a>"
      ]
    },
    {
      "cell_type": "code",
      "execution_count": null,
      "metadata": {
        "id": "hcu5mKdSGqfC"
      },
      "outputs": [],
      "source": []
    },
    {
      "cell_type": "markdown",
      "source": [
        "# 제어문(조건문, 반복문) 실습문제 풀이"
      ],
      "metadata": {
        "id": "QXXm_SMkJflP"
      }
    },
    {
      "cell_type": "markdown",
      "source": [
        "### [실습문제]while 반복문(퀴즈 맞히기)"
      ],
      "metadata": {
        "id": "KBoRtG3bKOZe"
      }
    },
    {
      "cell_type": "code",
      "source": [
        "print('프로그램을 작성할 때 일정한 구간의 명령을\\n반복해서 실행하도록 구성한 문장을 무엇이라고 할까요?')\n",
        "while True:\n",
        "    answer = input('정답: ')\n",
        "    if answer == '반복문':\n",
        "        print('정답!')\n",
        "        break\n",
        "    elif answer == '반복':\n",
        "        print('좀 더 고민해 보세요~')\n",
        "        continue\n",
        "    print('오답')\n",
        "print('프로그램 종료!')"
      ],
      "metadata": {
        "colab": {
          "base_uri": "https://localhost:8080/"
        },
        "id": "euS-HLtvKWW6",
        "outputId": "a881c944-297a-4385-f415-5a2e343811eb"
      },
      "execution_count": null,
      "outputs": [
        {
          "output_type": "stream",
          "name": "stdout",
          "text": [
            "프로그램을 작성할 때 일정한 구간의 명령을\n",
            "반복해서 실행하도록 구성한 문장을 무엇이라고 할까요?\n",
            "정답: 제어\n",
            "오답\n",
            "정답: 반복\n",
            "좀 더 고민해 보세요~\n",
            "정답: 반복문\n",
            "정답!\n",
            "프로그램 종료!\n"
          ]
        }
      ]
    },
    {
      "cell_type": "markdown",
      "source": [
        "### [실습문제] 금리 계산하기"
      ],
      "metadata": {
        "id": "Nc3hBF5qMXaT"
      }
    },
    {
      "cell_type": "code",
      "source": [
        "seed, target = 1000, 2000\n",
        "balance, interest = 1000, 0.07\n",
        "year = 0\n",
        "while balance <= target:\n",
        "    balance = balance + balance * interest\n",
        "    year += 1 # year = year +1\n",
        "    print(f\"year:{year}, balance:{round(balance)}\")\n",
        "print(f\"{seed}원이 {target}이 되는데 {year}년이 걸립니다\")"
      ],
      "metadata": {
        "colab": {
          "base_uri": "https://localhost:8080/"
        },
        "id": "eQF1e30LNGk2",
        "outputId": "b1a9e6ce-ca1a-4646-857e-8a221a4881e1"
      },
      "execution_count": null,
      "outputs": [
        {
          "output_type": "stream",
          "name": "stdout",
          "text": [
            "year:1, balance:1070\n",
            "year:2, balance:1145\n",
            "year:3, balance:1225\n",
            "year:4, balance:1311\n",
            "year:5, balance:1403\n",
            "year:6, balance:1501\n",
            "year:7, balance:1606\n",
            "year:8, balance:1718\n",
            "year:9, balance:1838\n",
            "year:10, balance:1967\n",
            "year:11, balance:2105\n",
            "1000원이 2000이 되는데 11년이 걸립니다\n"
          ]
        }
      ]
    },
    {
      "cell_type": "markdown",
      "source": [
        "### [실습문제] 1-N까지 3의 배수 합계 구하기"
      ],
      "metadata": {
        "id": "pCLyyOc0JlsH"
      }
    },
    {
      "cell_type": "code",
      "source": [
        "result = sum([i for i in range(1,1001) if i%3==0])\n",
        "print(f'{result:,}')"
      ],
      "metadata": {
        "colab": {
          "base_uri": "https://localhost:8080/"
        },
        "id": "_zztEZhBJ1PI",
        "outputId": "9dbc7f05-c88a-4861-d960-af13980a0099"
      },
      "execution_count": null,
      "outputs": [
        {
          "output_type": "stream",
          "name": "stdout",
          "text": [
            "166,833\n"
          ]
        }
      ]
    },
    {
      "cell_type": "markdown",
      "source": [
        "### [실습문제] 숫자 입력받아 별 출력하기"
      ],
      "metadata": {
        "id": "RGoQUphDQrjO"
      }
    },
    {
      "cell_type": "code",
      "source": [
        "star = '⭐'\n",
        "numbers = input('숫자 여러 개 입력(0~9): ')\n",
        "for number in numbers:\n",
        "    for _ in range(int(number)*2):\n",
        "        print(star, end='')\n",
        "    print()"
      ],
      "metadata": {
        "colab": {
          "base_uri": "https://localhost:8080/"
        },
        "id": "XebKrCVpR3Me",
        "outputId": "3ff37ddb-cdd1-472c-ad9c-d9db58ede316"
      },
      "execution_count": null,
      "outputs": [
        {
          "output_type": "stream",
          "name": "stdout",
          "text": [
            "숫자 여러 개 입력(0~9): 23\n",
            "⭐⭐⭐⭐\n",
            "⭐⭐⭐⭐⭐⭐\n"
          ]
        }
      ]
    },
    {
      "cell_type": "code",
      "source": [
        "numbers = input('숫자 여러 개 입력(0~9): ')\n",
        "for number in numbers:\n",
        "    print('⭐'*int(number)*2)"
      ],
      "metadata": {
        "colab": {
          "base_uri": "https://localhost:8080/"
        },
        "id": "NF5Wiq7iTfyL",
        "outputId": "2d7e7fa4-a3fa-4de9-e533-9085462291ec"
      },
      "execution_count": null,
      "outputs": [
        {
          "output_type": "stream",
          "name": "stdout",
          "text": [
            "숫자 여러 개 입력(0~9): 25\n",
            "⭐⭐⭐⭐\n",
            "⭐⭐⭐⭐⭐⭐⭐⭐⭐⭐\n"
          ]
        }
      ]
    },
    {
      "cell_type": "markdown",
      "source": [
        "### [실습문제] 커피 자판기 프로그램"
      ],
      "metadata": {
        "id": "lnSWs8ilVAwl"
      }
    },
    {
      "cell_type": "code",
      "source": [
        "'''\n",
        "<< 메뉴 설명 >>\n",
        "1. 체크인\n",
        "    방 호수(1번부터 시작)를 입력 받습니다.\n",
        "    방이 이미 입실 중이면 \"입실 중인 방은 체크인 하실 수 없습니다.\"를 출력하세요.\n",
        "    빈 방인 경우 \"입실 완료!\"를 출력하고 메뉴로 돌아갑니다.\n",
        "2. 체크아웃\n",
        "    방 호수(1번부터 시작)를 입력 받습니다.\n",
        "    방이 빈 방이면 \"빈 방은 체크아웃 하실 수 없습니다.\"를 출력하세요.\n",
        "    체크인 상태인 경우 \"퇴실 완료!\"를 출력하고 메뉴로 돌아갑니다.\n",
        "3. '방호수 - 상태'를 출력합니다.\n",
        "    출력 예)\n",
        "    1호 : 빈 방\n",
        "    2호 : 입실 중\n",
        "    3호 : 입실 중\n",
        "    4호 : 빈 방\n",
        "    5호 : 빈 방\n",
        "0. 종료\n",
        "    반복을 종료하고 '영업 종료' 를 출력합니다.\n",
        "'''"
      ],
      "metadata": {
        "id": "gjT-lUEXzWo0"
      },
      "execution_count": null,
      "outputs": []
    },
    {
      "cell_type": "code",
      "source": [
        "menu = '''[커피 주문 머신 메뉴]\n",
        "-----------------------------\n",
        "- 아메리카노: 2500원\n",
        "- 카페라테:   3000원\n",
        "- 카페모카:   3000원\n",
        "-----------------------------\n",
        "원하시는 커피종류와 잔수를 입력하세요.'''\n",
        "print(menu)\n",
        "coffee1 = int(input('아메리카노 몇잔: '))\n",
        "coffee2 = int(input('카페라테   몇잔: '))\n",
        "coffee3 = int(input('카페모카   몇잔: '))\n",
        "\n",
        "total = 2500*coffee1 + 3000*coffee2 + 3000*coffee3\n",
        "print(f\"지불하실 총 금액은 {total:,}원 입니다.\")\n",
        "\n",
        "while True:\n",
        "    print('------------------------')\n",
        "    money = int(input('돈을 넣어 주세요: '))\n",
        "    change = money - total   # 거스름돈\n",
        "    if change < 0:\n",
        "        print(f\"돈이 부족합니다. {abs(change):,}원을 더 넣어주세요.\")\n",
        "        total = total - money\n",
        "    else:\n",
        "        print(f\"거스름돈은 {change:,}입니다. 커피 맛있게 드세요~\")\n",
        "        break"
      ],
      "metadata": {
        "colab": {
          "base_uri": "https://localhost:8080/"
        },
        "id": "x9euTyhtWnRc",
        "outputId": "438d4b6c-a90b-4b96-c81d-a6b8120b0d72"
      },
      "execution_count": 27,
      "outputs": [
        {
          "output_type": "stream",
          "name": "stdout",
          "text": [
            "[커피 주문 머신 메뉴]\n",
            "-----------------------------\n",
            "- 아메리카노: 2500원\n",
            "- 카페라테:   3000원\n",
            "- 카페모카:   3000원\n",
            "-----------------------------\n",
            "원하시는 커피종류와 잔수를 입력하세요.\n",
            "아메리카노 몇잔: 1\n",
            "카페라테   몇잔: 1\n",
            "카페모카   몇잔: 2\n",
            "지불하실 총 금액은 11,500원 입니다.\n",
            "------------------------\n",
            "돈을 넣어 주세요: 10000\n",
            "돈이 부족합니다. 1,500원을 더 넣어주세요.\n",
            "------------------------\n",
            "돈을 넣어 주세요: 20000\n",
            "거스름돈은 18,500입니다. 커피 맛있게 드세요~\n"
          ]
        }
      ]
    },
    {
      "cell_type": "markdown",
      "source": [
        "###[실습문제]호텔관리 시스템"
      ],
      "metadata": {
        "id": "_4mg60S-eYvA"
      }
    },
    {
      "cell_type": "code",
      "source": [
        "print('호텔관리 시스템입니다.')\n",
        "menu = '''\n",
        "1. 체크인\n",
        "2. 체크아웃\n",
        "3. 입실현황\n",
        "0. 종료'''\n",
        "number = int(input('호텔 방의 개수는(입력): '))\n",
        "hotel = [0 for _ in range(number)]\n",
        "print(f\"방 현황: {hotel} (0:빈방, 1:입실중)\")\n",
        "while True:\n",
        "    print('-------------------')\n",
        "    print(menu)\n",
        "    select = input('-->메뉴 선택: ')\n",
        "    if select == '0':\n",
        "        break\n",
        "\n",
        "    if select == '1': # 체크인\n",
        "        num = int(input(f'체크-in하실 방 호수(1~{len(hotel)}): '))\n",
        "        if hotel[num-1]:   # 이미 입실 중일 때\n",
        "            print(f\"{num}번 방은 이미 입실 중입니다.\")\n",
        "        else:\n",
        "            hotel[num-1] = 1\n",
        "        continue\n",
        "\n",
        "    if select == '2': # 체크아웃\n",
        "        num = int(input(f'체크-out하실 방 호수(1~{len(hotel)}): '))\n",
        "        if hotel[num-1]: # 체크아웃 처리\n",
        "            hotel[num-1] = 0    # 빈 방 상태로 만듦\n",
        "        else:\n",
        "            print(f'{hotel[num]}번 방은 빈 방입니다. 빈 방은 체크-out하실 수 없습니다.')\n",
        "\n",
        "    if select == '3': # 현황보기\n",
        "        for idx, room in enumerate(hotel): #[0, 0, 0]\n",
        "            if room == 0:\n",
        "                print(f\"{idx+1}호: 빈방\")\n",
        "            elif room == 1:\n",
        "                print(f\"{idx+1}호: 입실중\")\n",
        "\n",
        "\n",
        "print('-------------------')\n",
        "print('프로그램 종료!')\n"
      ],
      "metadata": {
        "colab": {
          "base_uri": "https://localhost:8080/"
        },
        "id": "hCipaL26eZNp",
        "outputId": "4b469a21-f9f5-4f69-ebbe-f0e2ee8b20c7"
      },
      "execution_count": 26,
      "outputs": [
        {
          "output_type": "stream",
          "name": "stdout",
          "text": [
            "호텔관리 시스템입니다.\n",
            "호텔 방의 개수는(입력): 3\n",
            "방 현황: [0, 0, 0] (0:빈방, 1:입실중)\n",
            "-------------------\n",
            "\n",
            "1. 체크인\n",
            "2. 체크아웃\n",
            "3. 입실현황\n",
            "0. 종료\n",
            "-->메뉴 선택: 1\n",
            "체크-in하실 방 호수(1~3): 3\n",
            "-------------------\n",
            "\n",
            "1. 체크인\n",
            "2. 체크아웃\n",
            "3. 입실현황\n",
            "0. 종료\n",
            "-->메뉴 선택: 1\n",
            "체크-in하실 방 호수(1~3): 1\n",
            "-------------------\n",
            "\n",
            "1. 체크인\n",
            "2. 체크아웃\n",
            "3. 입실현황\n",
            "0. 종료\n",
            "-->메뉴 선택: 2\n",
            "체크-out하실 방 호수(1~3): 1\n",
            "-------------------\n",
            "\n",
            "1. 체크인\n",
            "2. 체크아웃\n",
            "3. 입실현황\n",
            "0. 종료\n",
            "-->메뉴 선택: 3\n",
            "1호: 빈방\n",
            "2호: 빈방\n",
            "3호: 입실중\n",
            "-------------------\n",
            "\n",
            "1. 체크인\n",
            "2. 체크아웃\n",
            "3. 입실현황\n",
            "0. 종료\n",
            "-->메뉴 선택: 2\n",
            "체크-out하실 방 호수(1~3): 2\n",
            "1번 방은 빈 방입니다. 빈 방은 체크-out하실 수 없습니다.\n",
            "-------------------\n",
            "\n",
            "1. 체크인\n",
            "2. 체크아웃\n",
            "3. 입실현황\n",
            "0. 종료\n",
            "-->메뉴 선택: 0\n",
            "-------------------\n",
            "프로그램 종료!\n"
          ]
        }
      ]
    },
    {
      "cell_type": "markdown",
      "source": [
        "### [실습문제] 주사위 숫자 별 빈도 수 나타내기"
      ],
      "metadata": {
        "id": "uzUVKiCEqHCg"
      }
    },
    {
      "cell_type": "code",
      "source": [
        "import random\n",
        "print(f\"로또번호 출력: {sorted(random.sample(range(1,46), 6))}\")"
      ],
      "metadata": {
        "colab": {
          "base_uri": "https://localhost:8080/"
        },
        "id": "yvhKN7fbqHv9",
        "outputId": "9f5dcdfc-c7bc-48bd-a6fa-35b8aa0c2e10"
      },
      "execution_count": 33,
      "outputs": [
        {
          "output_type": "stream",
          "name": "stdout",
          "text": [
            "로또번호 출력: [11, 12, 22, 36, 38, 43]\n"
          ]
        }
      ]
    },
    {
      "cell_type": "code",
      "source": [
        "import random\n",
        "\n",
        "dice = [0, 0, 0, 0, 0, 0]\n",
        "for _ in range(100):\n",
        "  x = random.randint(1, 6)\n",
        "  dice[x-1] += 1\n",
        "print(f\"숫자별 개수 : {dice}\")\n",
        "\n",
        "maxValue = max(dice)\n",
        "max_dice = [idx+1  for idx, v in enumerate(dice)  if v==maxValue]\n",
        "# max_dice = []\n",
        "# for idx, v in enumerate(dice):\n",
        "#     if v==maxValue:\n",
        "#         max_dice.append(idx+1)\n",
        "\n",
        "print(f\"가장많이 나온 숫자: {max_dice}, 횟수: {maxValue}\")\n"
      ],
      "metadata": {
        "colab": {
          "base_uri": "https://localhost:8080/"
        },
        "id": "qEeFSoGXtBFc",
        "outputId": "915c64d1-d2d1-4d89-9a26-453dc2a722fe"
      },
      "execution_count": 32,
      "outputs": [
        {
          "output_type": "stream",
          "name": "stdout",
          "text": [
            "숫자별 개수 : [20, 16, 17, 21, 10, 16]\n",
            "가장많이 나온 숫자: [4], 횟수: 21\n"
          ]
        }
      ]
    }
  ]
}