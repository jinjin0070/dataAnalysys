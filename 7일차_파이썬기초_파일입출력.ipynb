{
  "nbformat": 4,
  "nbformat_minor": 0,
  "metadata": {
    "colab": {
      "provenance": [],
      "authorship_tag": "ABX9TyOWFxNj0LMFVKHRZvn0XIVQ",
      "include_colab_link": true
    },
    "kernelspec": {
      "name": "python3",
      "display_name": "Python 3"
    },
    "language_info": {
      "name": "python"
    }
  },
  "cells": [
    {
      "cell_type": "markdown",
      "metadata": {
        "id": "view-in-github",
        "colab_type": "text"
      },
      "source": [
        "<a href=\"https://colab.research.google.com/github/jinjin0070/dataAnalysys/blob/main/7%EC%9D%BC%EC%B0%A8_%ED%8C%8C%EC%9D%B4%EC%8D%AC%EA%B8%B0%EC%B4%88_%ED%8C%8C%EC%9D%BC%EC%9E%85%EC%B6%9C%EB%A0%A5.ipynb\" target=\"_parent\"><img src=\"https://colab.research.google.com/assets/colab-badge.svg\" alt=\"Open In Colab\"/></a>"
      ]
    },
    {
      "cell_type": "markdown",
      "source": [
        "# 6.파일 입출력"
      ],
      "metadata": {
        "id": "PFRbU2HAkplZ"
      }
    },
    {
      "cell_type": "markdown",
      "source": [
        "## 6-1.TXT"
      ],
      "metadata": {
        "id": "d5DtFfqamTVq"
      }
    },
    {
      "cell_type": "markdown",
      "source": [
        "## 파일 입출력"
      ],
      "metadata": {
        "id": "u0P75BX6mh8Y"
      }
    },
    {
      "cell_type": "code",
      "execution_count": 16,
      "metadata": {
        "id": "bFZ-IhDhkiYM"
      },
      "outputs": [],
      "source": [
        "f= open(\"./새파일.txt\", 'w')\n",
        "for i in range(1,11):\n",
        "    f.write(f\"{i:2>}번째 줄입니다.\\n\")\n",
        "f.close()"
      ]
    },
    {
      "cell_type": "markdown",
      "source": [
        "- readline()\n",
        "- readlines()\n",
        "- read()"
      ],
      "metadata": {
        "id": "XIpoUBfnoLAC"
      }
    },
    {
      "cell_type": "code",
      "source": [
        "#readline()\n",
        "f = open('./새파일.txt', 'r')\n",
        "line = f.readline()\n",
        "print(line)\n",
        "print('-----------------')\n",
        "\n",
        "while True:\n",
        "    line = f.readline()\n",
        "    if not line:\n",
        "        break\n",
        "    print(line.strip())\n",
        "f.close()"
      ],
      "metadata": {
        "colab": {
          "base_uri": "https://localhost:8080/"
        },
        "id": "mAPiHKizoPoQ",
        "outputId": "a73238ea-66ff-4c2a-c60b-8b789cc07a2d"
      },
      "execution_count": 17,
      "outputs": [
        {
          "output_type": "stream",
          "name": "stdout",
          "text": [
            "1번째 줄입니다.\n",
            "\n",
            "-----------------\n",
            "2번째 줄입니다.\n",
            "3번째 줄입니다.\n",
            "4번째 줄입니다.\n",
            "5번째 줄입니다.\n",
            "6번째 줄입니다.\n",
            "7번째 줄입니다.\n",
            "8번째 줄입니다.\n",
            "9번째 줄입니다.\n",
            "10번째 줄입니다.\n"
          ]
        }
      ]
    },
    {
      "cell_type": "code",
      "source": [
        "#readlines() : 결과가 리스트로 표현됨\n",
        "f = open('./새파일.txt', 'r')\n",
        "for line in f.readlines():\n",
        "    print(line.strip())\n",
        "f.close()"
      ],
      "metadata": {
        "colab": {
          "base_uri": "https://localhost:8080/"
        },
        "id": "62dZf_vSpzOJ",
        "outputId": "75cce444-7cfa-4eee-f8d0-32d0f7d8077c"
      },
      "execution_count": 18,
      "outputs": [
        {
          "output_type": "stream",
          "name": "stdout",
          "text": [
            "1번째 줄입니다.\n",
            "2번째 줄입니다.\n",
            "3번째 줄입니다.\n",
            "4번째 줄입니다.\n",
            "5번째 줄입니다.\n",
            "6번째 줄입니다.\n",
            "7번째 줄입니다.\n",
            "8번째 줄입니다.\n",
            "9번째 줄입니다.\n",
            "10번째 줄입니다.\n"
          ]
        }
      ]
    },
    {
      "cell_type": "code",
      "source": [
        "# read() : 결과는 문자열로 반환\n",
        "f= open('./새파일.txt', 'r')\n",
        "line = f.read()\n",
        "print(line)\n",
        "f.close()"
      ],
      "metadata": {
        "colab": {
          "base_uri": "https://localhost:8080/"
        },
        "id": "e-5srWwoqbcJ",
        "outputId": "2c0edd17-b1f5-4f4a-8c66-07aeb4626488"
      },
      "execution_count": 19,
      "outputs": [
        {
          "output_type": "stream",
          "name": "stdout",
          "text": [
            "1번째 줄입니다.\n",
            "2번째 줄입니다.\n",
            "3번째 줄입니다.\n",
            "4번째 줄입니다.\n",
            "5번째 줄입니다.\n",
            "6번째 줄입니다.\n",
            "7번째 줄입니다.\n",
            "8번째 줄입니다.\n",
            "9번째 줄입니다.\n",
            "10번째 줄입니다.\n",
            "\n"
          ]
        }
      ]
    },
    {
      "cell_type": "markdown",
      "source": [
        "### with문\n",
        "with문을 벗어나면 자동으로 파일 객체를 닫는다."
      ],
      "metadata": {
        "id": "zLqrkEZMrncY"
      }
    },
    {
      "cell_type": "code",
      "source": [
        "#f= open('./새파일.txt', 'r')\n",
        "#line = f.read()\n",
        "#print(line)\n",
        "#f.close()\n",
        "\n",
        "with open('./새파일.txt', 'r') as f:\n",
        "    data = f.read()\n",
        "    print(type(data))\n",
        "    data = data.replace('줄','사람')\n",
        "    print(data)"
      ],
      "metadata": {
        "colab": {
          "base_uri": "https://localhost:8080/"
        },
        "id": "8cgEoXIirwr3",
        "outputId": "06efb71f-719a-458f-e161-4717324c5278"
      },
      "execution_count": 20,
      "outputs": [
        {
          "output_type": "stream",
          "name": "stdout",
          "text": [
            "<class 'str'>\n",
            "1번째 사람입니다.\n",
            "2번째 사람입니다.\n",
            "3번째 사람입니다.\n",
            "4번째 사람입니다.\n",
            "5번째 사람입니다.\n",
            "6번째 사람입니다.\n",
            "7번째 사람입니다.\n",
            "8번째 사람입니다.\n",
            "9번째 사람입니다.\n",
            "10번째 사람입니다.\n",
            "\n"
          ]
        }
      ]
    },
    {
      "cell_type": "markdown",
      "source": [
        "### os모듈: 디렉토리 & 파일 관련 함수"
      ],
      "metadata": {
        "id": "vYq4zc_fsxbC"
      }
    },
    {
      "cell_type": "code",
      "source": [
        "import os\n",
        "print(f\"현재위치: {os.getcwd()}\")\n",
        "print(f\"현재위치 파일/폴더 목록: {os.listdir()}\")\n",
        "#os.chdir('../')\n",
        "#print(f\"현재위치 파일/폴더 목록: {os.listdir()}\")"
      ],
      "metadata": {
        "colab": {
          "base_uri": "https://localhost:8080/"
        },
        "id": "zIfk1Pqis9F4",
        "outputId": "cfa456c0-5f87-4885-910e-b7abc6616416"
      },
      "execution_count": 21,
      "outputs": [
        {
          "output_type": "stream",
          "name": "stdout",
          "text": [
            "현재위치: /\n",
            "현재위치 파일/폴더 목록: ['srv', 'sys', 'mnt', 'dev', 'proc', 'lib32', 'lib64', 'home', 'libx32', 'var', 'root', 'run', 'sbin', 'tmp', 'usr', 'boot', 'bin', 'lib', 'media', 'etc', 'opt', 'content', 'kaggle', '새파일.txt', '.dockerenv', 'datalab', 'tools', 'NGC-DL-CONTAINER-LICENSE', 'cuda-keyring_1.0-1_all.deb']\n"
          ]
        }
      ]
    },
    {
      "cell_type": "code",
      "source": [
        "import os\n",
        "file = '새파일.txt'\n",
        "if os.path.isfile(file):\n",
        "    os.remove(file)\n",
        "    print(f\"'{file}' 파일이 삭제되었습니다.\")\n",
        "else:\n",
        "    print(f\"'{file}' 파일이 존재하지 않습니다.\")"
      ],
      "metadata": {
        "colab": {
          "base_uri": "https://localhost:8080/"
        },
        "id": "-peKaX60uOtf",
        "outputId": "1b33a85f-da51-4212-9a1e-0741e0765110"
      },
      "execution_count": 23,
      "outputs": [
        {
          "output_type": "stream",
          "name": "stdout",
          "text": [
            "'새파일.txt' 파일이 존재하지 않습니다.\n"
          ]
        }
      ]
    },
    {
      "cell_type": "markdown",
      "source": [
        "###[실습문제] txt파일 만들고 임의의 정수 파일에 쓰기"
      ],
      "metadata": {
        "id": "92o-MP1WwYCe"
      }
    },
    {
      "cell_type": "code",
      "source": [
        "import random\n",
        "# 파일에 쓰기\n",
        "f=open('./sample.txt','w')\n",
        "for _ in range(10):\n",
        "    n = str(random.randint(1,100))\n",
        "    f.write(n+'\\n')\n",
        "f.close()\n",
        "\n",
        "f = open('./sample.txt','r')\n",
        "data = f.read()\n",
        "print(data)\n",
        "f.close()"
      ],
      "metadata": {
        "colab": {
          "base_uri": "https://localhost:8080/"
        },
        "id": "9UPWGryEwe_G",
        "outputId": "2fb8b44e-a45b-4b73-ef5c-18343b5536ea"
      },
      "execution_count": 24,
      "outputs": [
        {
          "output_type": "stream",
          "name": "stdout",
          "text": [
            "45\n",
            "88\n",
            "86\n",
            "45\n",
            "67\n",
            "86\n",
            "50\n",
            "22\n",
            "26\n",
            "84\n",
            "\n"
          ]
        }
      ]
    },
    {
      "cell_type": "markdown",
      "source": [
        "###[실습문제] 파일 읽어서 총합&평균 출력하기"
      ],
      "metadata": {
        "id": "RShjyGLGy_wv"
      }
    },
    {
      "cell_type": "code",
      "source": [
        "with open('./sample.txt','r') as f:\n",
        "    data = [int(line) for line in f.readlines()]\n",
        "    print(data)\n",
        "    hap = sum(data)\n",
        "    avg = hap / len(data)\n",
        "    content = f\"{data}\\n총합은 {hap}입니다.\\n평균은 {avg} 입니다.\"\n",
        "    print(content)\n",
        "\n",
        "with open('./result.txt', 'w') as f:\n",
        "\n",
        "\n",
        "    f.write(content)"
      ],
      "metadata": {
        "colab": {
          "base_uri": "https://localhost:8080/"
        },
        "id": "GzkghLoGzLiP",
        "outputId": "e0767628-5740-4a64-c07d-dc791014e664"
      },
      "execution_count": 27,
      "outputs": [
        {
          "output_type": "stream",
          "name": "stdout",
          "text": [
            "[45, 88, 86, 45, 67, 86, 50, 22, 26, 84]\n",
            "[45, 88, 86, 45, 67, 86, 50, 22, 26, 84]\n",
            "총합은 599입니다.\n",
            "평균은 59.9 입니다.\n"
          ]
        }
      ]
    },
    {
      "cell_type": "markdown",
      "source": [
        "# 7.클래스"
      ],
      "metadata": {
        "id": "U3C8PVDK-Yez"
      }
    },
    {
      "cell_type": "markdown",
      "source": [
        "## 7-1. 클래스 이해"
      ],
      "metadata": {
        "id": "i6bPiHcC-euK"
      }
    },
    {
      "cell_type": "code",
      "source": [
        "data1 = list()  #인스턴스\n",
        "data2 = list()  #인스턴스\n",
        "print(type(data))\n",
        "\n",
        "data1.append(100)\n",
        "data2.append(200)"
      ],
      "metadata": {
        "colab": {
          "base_uri": "https://localhost:8080/"
        },
        "id": "Mxkzr1_c-msL",
        "outputId": "7ac31a0e-4735-4696-fd4b-88123951af8b"
      },
      "execution_count": 29,
      "outputs": [
        {
          "output_type": "stream",
          "name": "stdout",
          "text": [
            "<class 'list'>\n"
          ]
        }
      ]
    }
  ]
}