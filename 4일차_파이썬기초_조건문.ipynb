{
  "nbformat": 4,
  "nbformat_minor": 0,
  "metadata": {
    "colab": {
      "provenance": [],
      "authorship_tag": "ABX9TyOJ1vqkdpftj+5G6kSM8ZTO",
      "include_colab_link": true
    },
    "kernelspec": {
      "name": "python3",
      "display_name": "Python 3"
    },
    "language_info": {
      "name": "python"
    }
  },
  "cells": [
    {
      "cell_type": "markdown",
      "metadata": {
        "id": "view-in-github",
        "colab_type": "text"
      },
      "source": [
        "<a href=\"https://colab.research.google.com/github/jinjin0070/dataAnalysys/blob/main/4%EC%9D%BC%EC%B0%A8_%ED%8C%8C%EC%9D%B4%EC%8D%AC%EA%B8%B0%EC%B4%88_%EC%A1%B0%EA%B1%B4%EB%AC%B8.ipynb\" target=\"_parent\"><img src=\"https://colab.research.google.com/assets/colab-badge.svg\" alt=\"Open In Colab\"/></a>"
      ]
    },
    {
      "cell_type": "markdown",
      "source": [
        "# 4.파이썬 조건문"
      ],
      "metadata": {
        "id": "E_YOa8FMbDGw"
      }
    },
    {
      "cell_type": "markdown",
      "source": [
        "## 1. if 조건문(if만 사용)"
      ],
      "metadata": {
        "id": "cja7ngn5cme5"
      }
    },
    {
      "cell_type": "code",
      "source": [
        "a=99\n",
        "if a < 100: #만약 a가 10보다 작으면\n",
        "  print(f\"{1}는 100보다 작군요\")"
      ],
      "metadata": {
        "colab": {
          "base_uri": "https://localhost:8080/"
        },
        "id": "G6okilcEdSph",
        "outputId": "2a242cd4-4dd2-442f-ab6e-d11c3e846856"
      },
      "execution_count": null,
      "outputs": [
        {
          "output_type": "stream",
          "name": "stdout",
          "text": [
            "1는 100보다 작군요\n"
          ]
        }
      ]
    },
    {
      "cell_type": "markdown",
      "source": [
        "## 2. if - else - 조건문"
      ],
      "metadata": {
        "id": "OgXkPGWSctz5"
      }
    },
    {
      "cell_type": "code",
      "execution_count": null,
      "metadata": {
        "id": "7IRn3BWpWa7v"
      },
      "outputs": [],
      "source": [
        "a= int(input('숫자를 입력하세요: '))\n",
        "if a < 100: #만약 a가 100보다 작으면(True)\n",
        "    print(f\"{1}는 100보다 작군요\")\n",
        "else: #그렇지 않다면(False)\n",
        "    print(f\"{a}는 100보다 작지 않군요\")"
      ]
    },
    {
      "cell_type": "markdown",
      "source": [
        "## 3. 중첩 if조건문(if문 안에 if문)"
      ],
      "metadata": {
        "id": "kynRlX6fc395"
      }
    },
    {
      "cell_type": "code",
      "source": [
        "a= int(input('숫자를 입력하세요: '))\n",
        "if a < 100: #만약 a가 100보다 작으면(True)\n",
        "    if a < 50:\n",
        "        print(f\"{a}는 50보다 작군요\")\n",
        "    else: #50<=a<100\n",
        "        print(f\"{a}는 50과 100의 사이군요.\")\n",
        "    if a==100:\n",
        "        print(f\"{a}는 100과 같군요\")\n",
        "    else:\n",
        "        print(f\"{a}는 100보다 작지 않군요.\")\n",
        "    print(f\"{a}는 100보다 작지 않군요\")"
      ],
      "metadata": {
        "id": "StKxszcEe5U6"
      },
      "execution_count": null,
      "outputs": []
    },
    {
      "cell_type": "markdown",
      "source": [
        "### [실습문제] 짝수/홀수 판별하기"
      ],
      "metadata": {
        "id": "LV2EVxC-ctlR"
      }
    },
    {
      "cell_type": "code",
      "source": [
        "x = int(input('숫자를 입력: '))\n",
        "if x%2==0:\n",
        "    print(f\"{x}는 짝수\")\n",
        "else:\n",
        "    print(f\"{x}는 홀수\")"
      ],
      "metadata": {
        "colab": {
          "base_uri": "https://localhost:8080/"
        },
        "id": "Xnb6hh3ngVwx",
        "outputId": "83338bdc-4ffd-46a4-a558-ae9e0683c83b"
      },
      "execution_count": null,
      "outputs": [
        {
          "output_type": "stream",
          "name": "stdout",
          "text": [
            "숫자를 입력: 34\n",
            "34는 짝수\n"
          ]
        }
      ]
    },
    {
      "cell_type": "code",
      "source": [
        "x = int(input('숫자를 입력: '))\n",
        "print(f\"{x}는 짝수\") if x%2==0 else print(f\"{x}는 홀수\")"
      ],
      "metadata": {
        "colab": {
          "base_uri": "https://localhost:8080/"
        },
        "id": "-V_xrF_chisy",
        "outputId": "5331ae50-157b-4ef2-b1d5-9794dfb21572"
      },
      "execution_count": null,
      "outputs": [
        {
          "output_type": "stream",
          "name": "stdout",
          "text": [
            "숫자를 입력: 34\n",
            "34는 짝수\n"
          ]
        }
      ]
    },
    {
      "cell_type": "markdown",
      "source": [
        "### [실습문제]가위/바위/보 게임"
      ],
      "metadata": {
        "id": "y4nMLiRciNJX"
      }
    },
    {
      "cell_type": "code",
      "source": [
        "import random           #난수 발생 모듈\n",
        "random.randint(1,10)    #1~10 사이의 임의의 정수 선택\n",
        "computer = random.choice(['가위','바위','보'])\n",
        "my = input('가위/바위/보 중 하나 입력: ')\n",
        "print(f\"computer:{computer}, my:{my}\")"
      ],
      "metadata": {
        "colab": {
          "base_uri": "https://localhost:8080/"
        },
        "id": "jAwDwwGBiUSG",
        "outputId": "77ffd0fa-8dd1-4ef8-d040-09ad3303f632"
      },
      "execution_count": null,
      "outputs": [
        {
          "output_type": "stream",
          "name": "stdout",
          "text": [
            "가위/바위/보 중 하나 입력: 바위\n",
            "computer:보, my:바위\n"
          ]
        }
      ]
    },
    {
      "cell_type": "code",
      "source": [
        "import random           #난수 발생 모듈\n",
        "random.randint(1,10)    #1~10 사이의 임의의 정수 선택\n",
        "print('가위/바위/보 게임을 시작합니다.')\n",
        "print('-'*30)\n",
        "computer = random.choice(['가위','바위','보'])\n",
        "print('컴퓨터는 정했습니다.')\n",
        "my = input('가위/바위/보 중 하나 입력: ')\n",
        "print('-'*30, '게임결과는?')\n",
        "print(f\"computer:{computer}, my:{my}\")\n",
        "\n",
        "# 결과 판단하기\n",
        "if computer==my:\n",
        "    print('서로 비겼습니다.')\n",
        "else:\n",
        "    if(computer=='가위' and my=='보') or \\\n",
        "      (computer=='바위' and my=='가위') or \\\n",
        "      (computer=='보' and my=='바위'):\n",
        "        print('컴퓨터가 이겼습니다.')\n",
        "    else:\n",
        "        print('내가 이겼습니다.')"
      ],
      "metadata": {
        "colab": {
          "base_uri": "https://localhost:8080/"
        },
        "id": "K5HZULL6jy5V",
        "outputId": "8fd96fa7-73fb-48cd-bffa-81657b509e2a"
      },
      "execution_count": null,
      "outputs": [
        {
          "output_type": "stream",
          "name": "stdout",
          "text": [
            "가위/바위/보 게임을 시작합니다.\n",
            "------------------------------\n",
            "컴퓨터는 정했습니다.\n",
            "가위/바위/보 중 하나 입력: 가위\n",
            "------------------------------ 게임결과는?\n",
            "computer:가위, my:가위\n",
            "서로 비겼습니다.\n"
          ]
        }
      ]
    },
    {
      "cell_type": "markdown",
      "source": [
        "###[실습문제] 직각삼각형 판별하기"
      ],
      "metadata": {
        "id": "Jrk8cUnfpmAG"
      }
    },
    {
      "cell_type": "code",
      "source": [
        "a = int(input('  변 a의 길이: '))\n",
        "b = int(input('  변 b의 길이: '))\n",
        "c = int(input('빗변 c의 길이: '))\n",
        "print('-'*30)\n",
        "if a**2 + b**2 == c**2:\n",
        "    print('직각삼각형 입니다.')\n",
        "else:\n",
        "    print('직각삼각형이 아닙니다.')"
      ],
      "metadata": {
        "colab": {
          "base_uri": "https://localhost:8080/"
        },
        "id": "ZlAsiFDPpu15",
        "outputId": "c4378168-aee7-409f-ab45-48d0a6951822"
      },
      "execution_count": null,
      "outputs": [
        {
          "output_type": "stream",
          "name": "stdout",
          "text": [
            "  변 a의 길이: 3\n",
            "  변 b의 길이: 4\n",
            "빗변 c의 길이: 5\n",
            "------------------------------\n",
            "직각삼각형 입니다.\n"
          ]
        }
      ]
    },
    {
      "cell_type": "markdown",
      "source": [
        "## 4.다중 조건문\n",
        "if~ else ~ if -> if ~ elif ~"
      ],
      "metadata": {
        "id": "bwyf9XDUyIaf"
      }
    },
    {
      "cell_type": "code",
      "source": [
        "#나이별 학생 구분하기\n",
        "age = input(input('나이를 입력하세요'))\n",
        "if age < 8:\n",
        "    print('미취학 아동입니다.')\n",
        "elif age < 14:\n",
        "    print('초등학생 입니다.')\n",
        "elif age < 17:\n",
        "    print('중학생 입니다.')\n",
        "elif age < 20:\n",
        "    print('고등학생 입니다.')\n",
        "else:\n",
        "    print('성인 입니다.')"
      ],
      "metadata": {
        "colab": {
          "base_uri": "https://localhost:8080/",
          "height": 391
        },
        "id": "0yt2O8fzyayv",
        "outputId": "9e50b7b6-b565-4661-92fe-cea84fe79be6"
      },
      "execution_count": null,
      "outputs": [
        {
          "name": "stdout",
          "output_type": "stream",
          "text": [
            "나이를 입력하세요25\n"
          ]
        },
        {
          "output_type": "error",
          "ename": "KeyboardInterrupt",
          "evalue": "Interrupted by user",
          "traceback": [
            "\u001b[0;31m---------------------------------------------------------------------------\u001b[0m",
            "\u001b[0;31mKeyboardInterrupt\u001b[0m                         Traceback (most recent call last)",
            "\u001b[0;32m<ipython-input-16-d1eba7fb7060>\u001b[0m in \u001b[0;36m<cell line: 2>\u001b[0;34m()\u001b[0m\n\u001b[1;32m      1\u001b[0m \u001b[0;31m#나이별 학생 구분하기\u001b[0m\u001b[0;34m\u001b[0m\u001b[0;34m\u001b[0m\u001b[0m\n\u001b[0;32m----> 2\u001b[0;31m \u001b[0mage\u001b[0m \u001b[0;34m=\u001b[0m \u001b[0minput\u001b[0m\u001b[0;34m(\u001b[0m\u001b[0minput\u001b[0m\u001b[0;34m(\u001b[0m\u001b[0;34m'나이를 입력하세요'\u001b[0m\u001b[0;34m)\u001b[0m\u001b[0;34m)\u001b[0m\u001b[0;34m\u001b[0m\u001b[0;34m\u001b[0m\u001b[0m\n\u001b[0m\u001b[1;32m      3\u001b[0m \u001b[0;32mif\u001b[0m \u001b[0mage\u001b[0m \u001b[0;34m<\u001b[0m \u001b[0;36m8\u001b[0m\u001b[0;34m:\u001b[0m\u001b[0;34m\u001b[0m\u001b[0;34m\u001b[0m\u001b[0m\n\u001b[1;32m      4\u001b[0m     \u001b[0mprint\u001b[0m\u001b[0;34m(\u001b[0m\u001b[0;34m'미취학 아동입니다.'\u001b[0m\u001b[0;34m)\u001b[0m\u001b[0;34m\u001b[0m\u001b[0;34m\u001b[0m\u001b[0m\n\u001b[1;32m      5\u001b[0m \u001b[0;32melif\u001b[0m \u001b[0mage\u001b[0m \u001b[0;34m<\u001b[0m \u001b[0;36m14\u001b[0m\u001b[0;34m:\u001b[0m\u001b[0;34m\u001b[0m\u001b[0;34m\u001b[0m\u001b[0m\n",
            "\u001b[0;32m/usr/local/lib/python3.10/dist-packages/ipykernel/kernelbase.py\u001b[0m in \u001b[0;36mraw_input\u001b[0;34m(self, prompt)\u001b[0m\n\u001b[1;32m    849\u001b[0m                 \u001b[0;34m\"raw_input was called, but this frontend does not support input requests.\"\u001b[0m\u001b[0;34m\u001b[0m\u001b[0;34m\u001b[0m\u001b[0m\n\u001b[1;32m    850\u001b[0m             )\n\u001b[0;32m--> 851\u001b[0;31m         return self._input_request(str(prompt),\n\u001b[0m\u001b[1;32m    852\u001b[0m             \u001b[0mself\u001b[0m\u001b[0;34m.\u001b[0m\u001b[0m_parent_ident\u001b[0m\u001b[0;34m,\u001b[0m\u001b[0;34m\u001b[0m\u001b[0;34m\u001b[0m\u001b[0m\n\u001b[1;32m    853\u001b[0m             \u001b[0mself\u001b[0m\u001b[0;34m.\u001b[0m\u001b[0m_parent_header\u001b[0m\u001b[0;34m,\u001b[0m\u001b[0;34m\u001b[0m\u001b[0;34m\u001b[0m\u001b[0m\n",
            "\u001b[0;32m/usr/local/lib/python3.10/dist-packages/ipykernel/kernelbase.py\u001b[0m in \u001b[0;36m_input_request\u001b[0;34m(self, prompt, ident, parent, password)\u001b[0m\n\u001b[1;32m    893\u001b[0m             \u001b[0;32mexcept\u001b[0m \u001b[0mKeyboardInterrupt\u001b[0m\u001b[0;34m:\u001b[0m\u001b[0;34m\u001b[0m\u001b[0;34m\u001b[0m\u001b[0m\n\u001b[1;32m    894\u001b[0m                 \u001b[0;31m# re-raise KeyboardInterrupt, to truncate traceback\u001b[0m\u001b[0;34m\u001b[0m\u001b[0;34m\u001b[0m\u001b[0m\n\u001b[0;32m--> 895\u001b[0;31m                 \u001b[0;32mraise\u001b[0m \u001b[0mKeyboardInterrupt\u001b[0m\u001b[0;34m(\u001b[0m\u001b[0;34m\"Interrupted by user\"\u001b[0m\u001b[0;34m)\u001b[0m \u001b[0;32mfrom\u001b[0m \u001b[0;32mNone\u001b[0m\u001b[0;34m\u001b[0m\u001b[0;34m\u001b[0m\u001b[0m\n\u001b[0m\u001b[1;32m    896\u001b[0m             \u001b[0;32mexcept\u001b[0m \u001b[0mException\u001b[0m \u001b[0;32mas\u001b[0m \u001b[0me\u001b[0m\u001b[0;34m:\u001b[0m\u001b[0;34m\u001b[0m\u001b[0;34m\u001b[0m\u001b[0m\n\u001b[1;32m    897\u001b[0m                 \u001b[0mself\u001b[0m\u001b[0;34m.\u001b[0m\u001b[0mlog\u001b[0m\u001b[0;34m.\u001b[0m\u001b[0mwarning\u001b[0m\u001b[0;34m(\u001b[0m\u001b[0;34m\"Invalid Message:\"\u001b[0m\u001b[0;34m,\u001b[0m \u001b[0mexc_info\u001b[0m\u001b[0;34m=\u001b[0m\u001b[0;32mTrue\u001b[0m\u001b[0;34m)\u001b[0m\u001b[0;34m\u001b[0m\u001b[0;34m\u001b[0m\u001b[0m\n",
            "\u001b[0;31mKeyboardInterrupt\u001b[0m: Interrupted by user"
          ]
        }
      ]
    },
    {
      "cell_type": "markdown",
      "source": [
        "## 5.조건부 표현식"
      ],
      "metadata": {
        "id": "rnPp1C9Tz4gC"
      }
    },
    {
      "cell_type": "code",
      "source": [
        "score = input('점수를 입력하세요: ')\n",
        "if score >= 80:\n",
        "    message = 'Success'\n",
        "else:\n",
        "    message = 'Failure'\n",
        "print(f\"당신의 점수 {score}점은 시험에 {message}하셨습니다.\")"
      ],
      "metadata": {
        "colab": {
          "base_uri": "https://localhost:8080/",
          "height": 239
        },
        "id": "OableZ_Nz8f6",
        "outputId": "055105b9-f202-4ad5-8498-082d4367bd47"
      },
      "execution_count": null,
      "outputs": [
        {
          "name": "stdout",
          "output_type": "stream",
          "text": [
            "점수를 입력하세요: 90\n"
          ]
        },
        {
          "output_type": "error",
          "ename": "TypeError",
          "evalue": "'>=' not supported between instances of 'str' and 'int'",
          "traceback": [
            "\u001b[0;31m---------------------------------------------------------------------------\u001b[0m",
            "\u001b[0;31mTypeError\u001b[0m                                 Traceback (most recent call last)",
            "\u001b[0;32m<ipython-input-14-318fd27cc482>\u001b[0m in \u001b[0;36m<cell line: 2>\u001b[0;34m()\u001b[0m\n\u001b[1;32m      1\u001b[0m \u001b[0mscore\u001b[0m \u001b[0;34m=\u001b[0m \u001b[0minput\u001b[0m\u001b[0;34m(\u001b[0m\u001b[0;34m'점수를 입력하세요: '\u001b[0m\u001b[0;34m)\u001b[0m\u001b[0;34m\u001b[0m\u001b[0;34m\u001b[0m\u001b[0m\n\u001b[0;32m----> 2\u001b[0;31m \u001b[0;32mif\u001b[0m \u001b[0mscore\u001b[0m \u001b[0;34m>=\u001b[0m \u001b[0;36m80\u001b[0m\u001b[0;34m:\u001b[0m\u001b[0;34m\u001b[0m\u001b[0;34m\u001b[0m\u001b[0m\n\u001b[0m\u001b[1;32m      3\u001b[0m     \u001b[0mmessage\u001b[0m \u001b[0;34m=\u001b[0m \u001b[0;34m'Success'\u001b[0m\u001b[0;34m\u001b[0m\u001b[0;34m\u001b[0m\u001b[0m\n\u001b[1;32m      4\u001b[0m \u001b[0;32melse\u001b[0m\u001b[0;34m:\u001b[0m\u001b[0;34m\u001b[0m\u001b[0;34m\u001b[0m\u001b[0m\n\u001b[1;32m      5\u001b[0m     \u001b[0mmessage\u001b[0m \u001b[0;34m=\u001b[0m \u001b[0;34m'Failure'\u001b[0m\u001b[0;34m\u001b[0m\u001b[0;34m\u001b[0m\u001b[0m\n",
            "\u001b[0;31mTypeError\u001b[0m: '>=' not supported between instances of 'str' and 'int'"
          ]
        }
      ]
    },
    {
      "cell_type": "code",
      "source": [
        "message = 'Success' if score >= 80 else 'Failure'\n",
        "print(f\"당신의 점수 {score}점은 시험에 {message}하셨습니다.\")"
      ],
      "metadata": {
        "colab": {
          "base_uri": "https://localhost:8080/",
          "height": 166
        },
        "id": "u0vtepYI024J",
        "outputId": "3607a237-29d5-4887-9510-38519a8750c5"
      },
      "execution_count": null,
      "outputs": [
        {
          "output_type": "error",
          "ename": "NameError",
          "evalue": "name 'score' is not defined",
          "traceback": [
            "\u001b[0;31m---------------------------------------------------------------------------\u001b[0m",
            "\u001b[0;31mNameError\u001b[0m                                 Traceback (most recent call last)",
            "\u001b[0;32m<ipython-input-1-f01393aac94d>\u001b[0m in \u001b[0;36m<cell line: 1>\u001b[0;34m()\u001b[0m\n\u001b[0;32m----> 1\u001b[0;31m \u001b[0mmessage\u001b[0m \u001b[0;34m=\u001b[0m \u001b[0;34m'Success'\u001b[0m \u001b[0;32mif\u001b[0m \u001b[0mscore\u001b[0m \u001b[0;34m>=\u001b[0m \u001b[0;36m80\u001b[0m \u001b[0;32melse\u001b[0m \u001b[0;34m'Failure'\u001b[0m\u001b[0;34m\u001b[0m\u001b[0;34m\u001b[0m\u001b[0m\n\u001b[0m\u001b[1;32m      2\u001b[0m \u001b[0mprint\u001b[0m\u001b[0;34m(\u001b[0m\u001b[0;34mf\"당신의 점수 {score}점은 시험에 {message}하셨습니다.\"\u001b[0m\u001b[0;34m)\u001b[0m\u001b[0;34m\u001b[0m\u001b[0;34m\u001b[0m\u001b[0m\n",
            "\u001b[0;31mNameError\u001b[0m: name 'score' is not defined"
          ]
        }
      ]
    },
    {
      "cell_type": "markdown",
      "source": [
        "### [실습문제] 일상생활의 상황을 조건문으로 표현하기"
      ],
      "metadata": {
        "id": "lqo6Orsc2ETz"
      }
    },
    {
      "cell_type": "code",
      "source": [
        "'''기온 조건 상황\n",
        "- 온도가 30 이상 에어컨 켜기\n",
        "- 온도가 20 미만이면 내복 입기\n",
        "- 온도가 10 이하면 난방기 켜기\n",
        "'''\n",
        "degree = int(input('온도를 입력해 주세요: '))\n",
        "\n",
        "if deagree >= 30:\n",
        "    print('에어컨을 켜세요!')\n",
        "elif degree <= 10:\n",
        "    print('난방기를 켜세요')\n",
        "elif degree < 20:\n",
        "    print('내복을 입으세요')\n",
        "else:\n",
        "    print('쾌적한 기온입니다.')"
      ],
      "metadata": {
        "colab": {
          "base_uri": "https://localhost:8080/",
          "height": 239
        },
        "id": "sh2eVd9v2p7L",
        "outputId": "617c964e-760d-473a-b573-b03e67a1d9e2"
      },
      "execution_count": null,
      "outputs": [
        {
          "name": "stdout",
          "output_type": "stream",
          "text": [
            "온도를 입력해 주세요: 30\n"
          ]
        },
        {
          "output_type": "error",
          "ename": "NameError",
          "evalue": "name 'deagree' is not defined",
          "traceback": [
            "\u001b[0;31m---------------------------------------------------------------------------\u001b[0m",
            "\u001b[0;31mNameError\u001b[0m                                 Traceback (most recent call last)",
            "\u001b[0;32m<ipython-input-3-141419e046ab>\u001b[0m in \u001b[0;36m<cell line: 8>\u001b[0;34m()\u001b[0m\n\u001b[1;32m      6\u001b[0m \u001b[0mdegree\u001b[0m \u001b[0;34m=\u001b[0m \u001b[0mint\u001b[0m\u001b[0;34m(\u001b[0m\u001b[0minput\u001b[0m\u001b[0;34m(\u001b[0m\u001b[0;34m'온도를 입력해 주세요: '\u001b[0m\u001b[0;34m)\u001b[0m\u001b[0;34m)\u001b[0m\u001b[0;34m\u001b[0m\u001b[0;34m\u001b[0m\u001b[0m\n\u001b[1;32m      7\u001b[0m \u001b[0;34m\u001b[0m\u001b[0m\n\u001b[0;32m----> 8\u001b[0;31m \u001b[0;32mif\u001b[0m \u001b[0mdeagree\u001b[0m \u001b[0;34m>=\u001b[0m \u001b[0;36m30\u001b[0m\u001b[0;34m:\u001b[0m\u001b[0;34m\u001b[0m\u001b[0;34m\u001b[0m\u001b[0m\n\u001b[0m\u001b[1;32m      9\u001b[0m     \u001b[0mprint\u001b[0m\u001b[0;34m(\u001b[0m\u001b[0;34m'에어컨을 켜세요!'\u001b[0m\u001b[0;34m)\u001b[0m\u001b[0;34m\u001b[0m\u001b[0;34m\u001b[0m\u001b[0m\n\u001b[1;32m     10\u001b[0m \u001b[0;32melif\u001b[0m \u001b[0mdegree\u001b[0m \u001b[0;34m<\u001b[0m \u001b[0;36m20\u001b[0m\u001b[0;34m:\u001b[0m\u001b[0;34m\u001b[0m\u001b[0;34m\u001b[0m\u001b[0m\n",
            "\u001b[0;31mNameError\u001b[0m: name 'deagree' is not defined"
          ]
        }
      ]
    },
    {
      "cell_type": "code",
      "source": [
        "degree = int(input('온도를 입력해 주세요: '))\n",
        "\n",
        "if degree >= 30:\n",
        "    print('에어컨을 켜세요!')\n",
        "else:\n",
        "    if 20 <= degree < 30:\n",
        "    print('쾌적한 기온입니다.')\n",
        "    if degree < 20:\n",
        "    print('내복을 입으세요')\n",
        "    if degree <= 10:\n",
        "    print('난방기를 켜세요.')"
      ],
      "metadata": {
        "colab": {
          "base_uri": "https://localhost:8080/",
          "height": 110
        },
        "id": "HtADa1FO68qx",
        "outputId": "d252acdf-97b5-4035-a22b-f23f8a964e0c"
      },
      "execution_count": null,
      "outputs": [
        {
          "output_type": "error",
          "ename": "IndentationError",
          "evalue": "expected an indented block after 'if' statement on line 6 (<ipython-input-5-4299e1024a96>, line 7)",
          "traceback": [
            "\u001b[0;36m  File \u001b[0;32m\"<ipython-input-5-4299e1024a96>\"\u001b[0;36m, line \u001b[0;32m7\u001b[0m\n\u001b[0;31m    print('쾌적한 기온입니다.')\u001b[0m\n\u001b[0m    ^\u001b[0m\n\u001b[0;31mIndentationError\u001b[0m\u001b[0;31m:\u001b[0m expected an indented block after 'if' statement on line 6\n"
          ]
        }
      ]
    },
    {
      "cell_type": "markdown",
      "source": [
        "### 커피 주문 머신 만들기"
      ],
      "metadata": {
        "id": "NXz9nF5u9S7h"
      }
    },
    {
      "cell_type": "code",
      "source": [
        "# gTTS사용하여 소리 나오게 하기\n",
        "from gtts import gTTS\n",
        "from IPython.display import Audio\n",
        "\n",
        "def speaker(stmt):\n",
        "    kor_wav = gTTS(stmt, lang = 'ko')\n",
        "    kor_wav.save('kor.wav')\n",
        "    display(Audio('kor.wav', autoplay=True))\n",
        "\n",
        "menu = '''[커피 주문 머신 메뉴]\n",
        "----------------------------------\n",
        "- 아메리카노 : 2500원\n",
        "- 카페라떼   : 3000원\n",
        "- 카페모카   : 3000원\n",
        "----------------------------------\n",
        "원하시는 커피종류와 잔수를 입력하세요.'''\n",
        "print(menu)\n",
        "speaker(menu)\n",
        "\n",
        "speaker('아메리카노 몇잔')\n",
        "coffee1 = int(input('아메리카노 몇잔: '))\n",
        "speaker('카페라테   몇잔')\n",
        "coffee2 = int(input('카페라떼   몇잔: '))\n",
        "speaker('카페모카   몇잔')\n",
        "coffee3 = int(input('카페모카   몇잔: '))\n",
        "total = 2500*coffee1 + 3000*coffee2 + 3000*coffee3\n",
        "\n",
        "\n",
        "\n",
        "print(f\"지불하실 총 금액은 {total:,}원 입니다.\")\n",
        "speaker(f\"지불하실 총 금액은 {total:,}원 입니다.\")\n",
        "money = int(input('돈을 넣어 주세요: '))\n",
        "change = total-money\n",
        "if total > money:\n",
        "    print(f\"돈이 부족합니다. {change:,}를 더 넣어주세요\")\n",
        "else:\n",
        "    print(f\"거스름돈은 {abs(change):,}입니다. 커피 맛있게 드세요~\")"
      ],
      "metadata": {
        "colab": {
          "base_uri": "https://localhost:8080/",
          "height": 370
        },
        "id": "sJskT8RB9WrY",
        "outputId": "19a5aa29-a11e-4693-c95f-d77c9c7e1cf3"
      },
      "execution_count": null,
      "outputs": [
        {
          "output_type": "stream",
          "name": "stdout",
          "text": [
            "[커피 주문 머신 메뉴]\n",
            "----------------------------------\n",
            "- 아메리카노 : 2500원\n",
            "- 카페라떼   : 3000원\n",
            "- 카페모카   : 3000원\n",
            "----------------------------------\n",
            "원하시는 커피종류와 잔수를 입력하세요.\n"
          ]
        },
        {
          "output_type": "display_data",
          "data": {
            "text/plain": [
              "<IPython.lib.display.Audio object>"
            ],
            "text/html": [
              "\n",
              "                <audio  controls=\"controls\" autoplay=\"autoplay\">\n",
              "                    <source src=\"data:audio/x-wav;base64,//NExAAQUFI0AHhEJC2ISCnGOr5wAgAocWcOLEAAIAgCAJg+D4Pg+CAIAgc+7lwfP//8u/ghlAGfE4Ph9wIBinB+UBAMCBy3ly4IAhOF1TkyOAuXKXO07Uaypqspqy2W//NExBEReGI8AVkYAOM3S45VqlqtUIioIuAAIlkFxePF2rselZctrJsOBFY1aCIoeDocmGjbHjkUVuov/9n/9q/SOrFYscwoLlMPbV9Ri5Cnyk0qp72FaXuWk8hBMseK//NExB4YiQpAAZswASHlThkMTtKVu+/qY1+7zGfXfWj062slDC74PePv/KmS/mfkQL1NM/KAyfe5Lir35/d/dOUKb3Wp/s+t/u0T/6aI51uM1WLJoKFPDVjwC2CRFqXV//NExA4U0w6YAY9oAJNExLsSplGDdxNi6aDJAoYSDy10kR2F1zH60G0DNdf/6KS1/7/Urqel/zr/////+t3U2upBmNknWn//9TKW1v9SZ1aB+lU+RSoqdb5rPmxmfqYm//NExA0USoqcAc8oAO+rZWw46nVdjrOc93GQNHgCKjkMTbSVqJWyX99rXq922z20Ip3etdy///V+l+klEkECM6n86IlGshil+UReVCRFL6P1qoZn2dhUZpOt9W9pyEhB//NExA4VijKcAMNEuPLxrKQALodBfa62JgcAVsLMW4lwXQaTcfSQLUi8bGR9JXrs9Xr731WXZGg4RlUjlZd3c6KVHcrXX/t///+/eqwUJPQVmU9/9VWpUbqYXo8O7L5A//NExAoSqWqwAMzKlMibx/msmGUlzQM8BEw1NiHAKsD3h3g0cChThiQEbClF0/mTfV1L1fTk4m8YHXwdqCedKBw2Mag51HP///+KNhtCmtu0YARN1RPWaKa3aiMx3XyD//NExBIVqXKsAM0OlGVAAsbIsVwwYDgJEh9AYBgFxy+aBbgqush2oneezB85zefoupLAwPOMBYL6CM9Bbigfa4toFLuPu/TZddO/66Kw0QIw1bnG6EsBOKo+gcxcfgWC//NExA4QqWasANTKlBzQ0PUqOwEpGxeBqAaCy4B/EMwX2G+faQVpx9baW69H0fTo9B5mCrwkK52w8bFdxXf///yK3TCgR66ipiNTPzDOBzQ6YceAKyazSQY20VjXICY2//NExB4R+WKMAM4ElGI5oaGJqV3Zh61jWpsq1Nf7+P444/jl+jGoZ6lqVsMKdAIVLo/5S3CgLR0CpegkxGIbAYZDICChjkYAYjAkBLgAoKQ1dltXKyrOjNxqsIxIlUtl//NExCkSORpYAOYEcOzfd491aV1dV8y9b7bLVmYsKyiWeLlcKpBVbkIiXWMWFBiAjGYpFZw8mGlBlAiOI8A51gKQsUl85QyCzMyrO84ThQ8/0PUwqkoDobJjg0o2kcWE//NExDMSCH5EAVwwAKITpoloDws4csspq0X1P3ps/6K99FUyAkyeWBiIN2E8zWZDSJHBQcliKD8gIJPNDs5K7kDQ2gimUVLYfCpcqNhqE4lFgX/LJStueKAvEN+2ltYe//NExD0gavo8AZxAASpPH3I2qt3l9o5qOEPBuxlNT9ddV9+9TtkCgwcYkK9TVfExNJ3UqOeCiDEh5PFxcPzxSqu//j7/R6Tm+fvnxRB6dGWx0lZGHulgkU0eisnl1rf1//NExA4UkdKkAY9oAG309qfT6a2OGqmU0yLjoScXDcd4Ub9TD0HAMAboMCvAUgVEvC2Hp/TepDRL5sIwO1Jf/W71r6CTnUzYc9/8pp///ucEqiBjVOwBYISJm3OMZXyR//NExA4SqWKkAc9AAH7194/rrOP/P1/31w2rsNGmw3r2SKmhyIqSawgCodHpN+VGNW9bKBcHRwsLgkAzCO0jULP/62oYy3up+LV6W1bEJDBtD/M6CqYs/arVQBWQRkPh//NExBYRGUasAMiQcBtX1f9P06B8NnGArEesu/Srrh4Ilhyhwtg3CDq0ehceaBRp////qo+v9K8GEjVqxvYjoo3blKSGMoqguzAdn9k9smJVmzbPoc5qMWmAyVpDEDL///NExCQTAVawAMtSlDQb1I56Q/zaa5QDJLyOs+illNG7Z6zhf//6L3MWjsdeMcqM3qg2FxSOtvFQvONc3XSEkSa9647AN/9kpfH/HG308toXxGHhpg+DSnEqttXl/iqO//NExCsSiVKwAMqQlCwKSWFRiRIUHMKieFNG0LJ//9HJb2s1A0BSRn+w+gdVmZdHSWWLDaGACCILApn3wv/5O5Kct6u+pHUfsVGhmTR5hKxKp6NP4OXUk51kGDp8wTe0//NExDMSQWKsANNWlB9sshWvKzLuj3///o+zj3/Q9QwQNBv/hsQXwfZlYGWX5TRaN3/wK1MXVtG252r5AbYmAEjVEOv79vY1c4IVWPva71qzA9Vp71HLr///RJF1AxzP//NExD0QsU6wAMqQlHlgAlz/re6Z+VDNfkLDVAXFYGwLjuGa4b+v/obsgYCEjXeuIXFfhogJQEgRvSLBVDNMZ+v9UCgZ4aBpbrcSw7rcoSlnoOklZ7FjBKzlTXGbgsMz//NExE0QILqoAMIETGfV/rdXHHgmIi/3/J58Rr/8/q99ZnLCzCEbZUpQsQePeWSSTV7J21jGo0KirZ8Uap7uHzgEGSFKBaTEaFNMqlPQDH//////8f+fgWP5v05c+E9J//NExF8SiWJwANBGlHuXinqfe+btKd3e+v/3/4T/v//ev4Sn5uXeBQyUrm/gxw7BuI4OBAWLny9oKCiFnwKGIKGYoYwoYKCgoZYBzJyT3DzSwvtnIT5/+Ju//uqMqNV2//NExGcUexasADhQuXXY5kAITKOCZo0rysXtLvFU/Ci0H1XCac1HaPErHzR8Q8FsYimUwo4oriJZrDaaOaHCtUzqg8XNNID8aEIpJgdB4PQaGTEk4Qyg/oUPcRhotAkk//NExGgasxq4ABlQvVDkkYHHEB2rIi0bL7PP0RLvIqKGUHICEQ9i1+VGAQEMaW1v1Xd0e329O3+VislHlN1UKF8a9XT9f+8XNmPdiiWyOiiqAX7YqvYeY0BKWkY0pHFN//NExFARCja8ABhEuWBABxG+1C/+vqctS+3Zp9iukdDBVJBGTDeSjlVJZYTh8H1pFMtqUECwlT//p/waALdkseApVTHigd3raJVqeiqZhoKXBaE8RjHgkyfQKLgcivvi//NExF4SkLKoAM4STPXM1KGfvFQ1KwgGJ6GgBT68+/ALDyFZyllKhhjoMOQQVpP5ctC4DCbixxn////9+zb+vVWhZAYHEAYkQ5mvhy4yQcMcJ0Y4wr7bxzkPqPQr1eJE//NExGYRmTakANMKcOEj9Q0iRu4e5YnpVzTFOrHUOCodAQPKMdXp/8wenk////5JTSPu/6CSd5QE1eTB0yXnDTR1RCOAaXZKls2+jueUJe7SQWUeK0ZN3U5c2e6U1B3q//NExHIR6TacANvKcE7Yy2+tC1Mo/JEwmAxTACo8av1XJ/9v//lT4uGjJuqAkO5hW+ZaFjgABqJCyBzASZocGLPu3OuTEm703MRL7lVkRcqSbETxb3NqftKEpQllstok//NExH0SEPaQANvScGjRHT9D7mZIZ03f///5tNKasQeY4tnMg8hMGc1K37HCUMF9wWLGzCzBGD1BGANM0i9ysaGMloMz1YvCzb76t58eHljDsPYswGGiRSIKK6URc5////NExIcRIP6UANvScP/6cm1N+OBcXIwt8wsDmjDT8zgOgpDFQYDhCAf0e1I0FfHFlFLcm5Yz3mHz/bIyP1rlPkoLYMMKAlFPN9CAuG5/////3EBv/1qlgoqxzdjm5lgQ//NExJURqPaUANvMcGeawEocTeG9halb2fGG/5TNClTVQQJlksgOjl9e39T66mZ7qY6mMh9RRUBRlC+/00SafHSDKd////1jgt/1sXN1gNxgIHPEWZK25tUE+yMGoigT//NExKEQ6PagANvEcC8ac2Ywv4l05G2omRnRIWR9uoVZ38TJnST32lRFYraAilCOXB1/pgqFidv////Uw5/+SXpU1HGD4jgBbZ3EsSeYvONMUYsqERGsnE2Srnypd9fH//NExLASmUagANYOcAu6GCqrrl/sx+ztst+TH7uqSXQhfFzfT9YbBQPhJyLv///XVD9v/qnetZtkoVAjwRUmGlcGajStz8gQnCAGWE9HS6wn/VOqvV5q4j6lVrPWCSUq//NExLgRMPKoANPQcC6gRHIgy8dzjEFRI0qHEY0Pt/051CUlb////1yKcFbQojm8Wi0WxmNPbvuoOCajMP6W7clNspEj8Yh626rWG5Z4E5xl3Ob+g3oGvRn2ixMmnagN//NExMYSYPaoAMvScATDq7FVjFXoYWU7d////12WIJzChmPGN8OHgGARjxfEw2S4IRORBJlqvpNDArQ5DQEScJHLfWrWqzYXmnGGLcJdV7xU+7vN2eLHU+dNhkuFygZl//NExM8RaUKcANvOcEiY2fjSxt6hYEgQQIZ9axzK7G/+9/+PZQaVcpDEwWTDmolBwSHASZrGY8AW6hwFGgFAx/wcJwOmKrwgTlRstuHr6fbfp5rCmR0zBRW8UWUVvo/3//NExNwRaPaMANvScBOsqbG1zZ4Kh0PVqU9qWvGF/////s4sn3EMIo852OiYDBcqmGBY0dKgHIZlzOSAXfk3iQQ2UJgnWy0cI14kbTG46KAOYE5B+Ewaj0sZBJwPDETg//NExOkXEPp8AOPecLAYQTBxrn7KGNYJtYAM/9v/mv0r2WIqlOhmAg7bPKYNSpnwDwwIhcViuWpVhk2PdylRZYpR9zaSEbDHG67+nJ2qx3jiOBDrtmm32aLFz7bxeUHF//NExN8T+P6EAOPScITShoskJ2SPQNyvr//0XfsbU8iGqoq+ZjkmdCAF9QbamFAbMTHQ0IDn8Lqlk7N/MApuS1EuPS3LHPXbWti5uZY7RO23ZeqoXE0PxIIoqQlAlVq3//NExOIUkQJ8AOPMcH///86vvXTOJ6JYUEgxtHsc2IKqHJSAcROKJWDnsgFjZnIyqoZ1xGAXs0k307jLrENetdJnX+Zu+q6mSDigXh6QHckA7C17UWtuSpEz+p//qehA//NExOIUEPp4AOPYcDpR4XDZj38Utppqi5Zg0TKDDQABQPNyokICQwLgUbVUgAIkunDblfeuKYB+E5L4c8vIFRPHYXDhKnq9a96lUl2atGbGxFHYOImH7OyG/1yLRk/f//NExOQR8Pp8ANsWcO39rf///7yUKzqQKgPK6N1uWMlhc0KVrJlhXXHg0wlzNxPkvzGQdPFQxEeZN9UsR4r6rJCOQGImDQR2Em9+73z0hJmIqd5r99dBpoqDwkHmAAbs//NExO8U0PJwANvQcP6////6CTZ1X/95JZK8BjFMNCA5AhUMMEFzCT0zEJMbHTQStUyLgcEGADRmELpQ4OmIWDwoB1gBZNslTlTOHmHs3p3bprGOpRb53tjlaxjewyYz//NExO4XmkZsAONEuHIm87uTwabkRt1kFGLmoFCQjFezmoj9zUQYfAADICcVf4s9mtn/6Goz/+uKNqWZgwwVtrEKWLOkPGVB0Bkgic4PiQ4ZhSCwySEQsJhsAm3cKpAM//NExOIR4PZ4ANvQcEcBgHqGbk/TOi1ClZVRwW8158L2q+5j92//mF/6i0HZTvVyucbEhQC9GzDAyzHMCasPJcmQ0Q5Uuek1Isw8IG3+n//vpUkY0SCFMzfpziwBiVXH//NExO0dIWJ8AN5SlCCzVYqEkUFkiC4xgi1kxuwsVQKZvRroh2VLOiymKtz3Awi62YPBCKLXb338Mub/9//P/PvvbrrzpeYefJDqWWtSWTLUmb2Op6VFnHSH///6ldTJ//NExMsdkWqMAN6WlIdy9lJHSlS9aGOCB2YbDwJnwEldSOE51d2KB2ovMMOlzMkal6wtdkMgwMhqFNZp6WvZzUQpDgTkZtE7aRg6FBIGihhssl///6/pYkUHi6Wnvm4C//NExKcUUVKoAM4SlGfC0FYJLvMGEJE1mdFymDV4dpftVPyprkMZoaksKgDAGH+2gbmzNbQyh50grBUkw6eJ50RZGkagp+t7anO71Xt61CqlC6Vl1jtBxAgjicVZOrV1//NExKgUMUaoAMYGcFtquN29Vvcj2I3fdFQ4CY6ma2vodpeU6MD8pZ6rKyUZJXa9RmkgRvvFiR6+oTSZ5tdTDIoQaQIItrisSdc+jgT2+kFGW02ir0E82GLEmJM0ogYP//NExKoS+LaoAMYSTEokDKM4kKaVojJgx6ZbEZ9JAgYlbdRpAoCCBtiajekjbEgBEVA0z9W/////o///z+Wuztdgshnts7DE5I1+XPkArMFiACj3IAUDIu+ZZAcp8u3G//NExLEgOwqcAHiSuQjaMfbVg9NCougU2J5ETJFILtKW3NNfUL4uSmRZGKb5KsoSNkysGlk1p2sdbMIZqZJEUGmjJo2lSI6x1KX//////bG9x/OwjvQtGowowUQoECyH//NExIMa+xqoACiSvCRAeSQmAQq6RQZ8yt13xFqeni17d2zoVma9vnhoZvH2daS7oz9nbLnvbt2K0uCn1z9lqv///+f//w/3/99sj3FVNRomVV6TcjLe8ByQPKPQOjKb//NExGoSUwq8AAgMuXZJtOJp4gVkeTCHEQxJ4+ObWNXXt0pa4qsd2mhurXi9kDO9AN3////L//8v/11hhsJz3VcoxdJKseOQgP6yzGCVRDFBYao5R6mXcjbmqa2UabQx//NExHMRKprEAABQuaJGNE3s9lHa0/wMrru+XVIerqIpmPPMdpjO+IWqr//////0ZX/7X1v//3MJjhcgig05hHcVKQfMcOwKEBIo+hjGUcaggG8ziu2rUMOd/PC2O5ce//NExIESisrEAABQuf+a40UbcUdiht/y1ccTwAIDQ5uEIMgetNsk3zOeQjUT/9bLSIPR0/Z0oqGcWRHVqO7ZWMgiKCQkDMLKqVESG1bQWKQWOrCbhCLDqqxESW5hHv7e//NExIkQSdbAAAhKmcv7XUL7jWjzNe+PFwisKKpkg4al+MZSGT8cFf5xjO79P/sZaUPETzQgWlqp94omMMqhd6OMYShHciAZ0YsFvVmUp94xP////R//W/26avyoTion//NExJoSqbKwAHiKlC6SgkRuMpDmb/YKvaoJj8kn+E/dXLPuvfwSC9MCo67xx/C3umNC8qAWiQ5b3S8d5UqSZqOP8zIP////7E/9BRz1yiQIdG3Xx83NeH8yqXIgtM+A//NExKISUV6wAMpQlCi0Dbj3fwbW2JryU31H+eeo+y02AGHlRSRP9Jdjt5qLOG7HZ/Od5/re1PPaqO1T////9f//K9R4sWXlqZNfRJkzdyU7jw5qwaYKAD5bfSf2+BWS//NExKsSqWawAMrQlMrw+66Y9abomIbZ8y6+lne2rH3X4Y6htQvQUCcxU2PSv96cqZOT9+///uf8gtNEQ0qtBqLxwOqJBCU4JeVcxBuCT8HUMynNgcd5DcjVhqLfXc17//NExLMRoVqkANJMlLj0N4GbECq2Xeh27OhaTITBZhhrWf8mB2LYr///+5Eq1z01m24AVNNrihIXQ8KI1FudFABQqUrg6aLsXY4lyg0bpvfWgMMbEGuJPlTZa0Uq1KYY//NExL8SaVKIAOPOlKo1txhIimiMDolSz12VRzWX/////clrKPRgQ7gsqhARAoKHn2s6cDhVavpetyYnS1CdnjF1bUCNbvt4vX/0nlqNS1DVJ5UbtKMDAqFxOLCEFQ22//NExMgRGP6MANvQcEdW1wsksr////R8YqBu5gCOZwQJqcIiB8zNBilCwZKfdV9XG7FHertgBxDRDqwmogr9F6y6rYTuTMZ50UY2qmhtDAAvVEzqdX/MjlMiMdes6Gms//NExNYRgP6MANvQcIZl6v/Sv//+ndvo9dSwyeetDIaqXcXhMNuztCUgADClwMYmjgYKZPfYERaF8diSHEV3Hc9p6taW/LKz6VVk/rZbBAaCwGfWivb7Wf///r0Jbooh//NExOMSKPaAAOPScASMSQhMop7MzyBMMgaM4xRAQ3AAHTBoFgUDSCFb0OqZI4Pq2tkBQwZZOPTTqEa2Mp5HP9U1jKrPOX7QUFypOiPosjSDIM0UWz7odCO70VmqbpKj//NExO0Wkl5oAOpEuXsyNp991/9P2fop0aGDgTCROENema2PqlLTGQA5A+D74gCjcj8MLy5gEG6zLyYVZBPBSVYpHN+r5oD/wXOPjGs40/fH8P/u7BZwQLRQJnaATRwQ//NExOUPYOpwANsEcDmWzEowfHxgrf//1IlCl51G7/5SRnMEh00bDDAw8MUDo1iETFoPMHipHhoxEGHMSHX7KJLrLu5ipel2UOdCmJluuaUz3P/z9bJdFAUI5gcgAhAk//NExPoa8lpUAOpEuF6RS5Bc8VfJX///6f/0VTCwTSPBnKZd0CJJ4yJb1FU5R4whQ0G49cF4qJkLkDAB1SLk0ToswWMZgRYQDFaHVG5LkgNoNWBgAUkMiHviA5qfd0AH//NExOETsOJkANvMcLEDiCQoogmFhwA8BfBaIOlB7ZOmB1FJEBQEBHGQcjD38ul40MEXUQQcseyBldX/9Lr////0KvQ6KbJufrf///u2/7umYMVDM+uBFY6/poTKXQQN//NExOUTSNZsAVxIAJkcGTB9WBiJgWOh5wc4Kl+M9O4yrlWk1fd2bdwlfmK51YnFOojBmnRGGghDaaCkckIakOW3xutKmcdQPt/nz7l3aBjcTUJ1FhObFFxCiDP//9hP//NExOojkxaQAZqIAGf/6VqDJRjtV6W7EACwaRAQPXQoNDAYwFVIHzzduwCEohNZZWczTWqZamRy1SJb9T0ljSEgfAzHSjpRAStpPKDS4qH0DSiabTOTcolKMqc9PFll//NExK4ZMV6kAdl4AB6545////XW9Hr+0+i6W1LspCrpFTD5iPjQ8kMWJv6xabVRi8eRU7ao/tE8v+/5fmbGIPleQG1V3E9MtnAMYYL9M1ih1GXBAgIAwgZNtkWQnutO//NExJwWKVqsAMMSlILzXJFyMkqD+aT//+nrpA2bd05xa1h5F9D11cqpLKTARoUIKH39IUVapa0WTX4yHmCokgmZR/bXM3zllUGoPInAcyon1UHiw+Z9ggFjEBaabVJK//NExJYXSWKoAMvSlNJJxuHi+4N8Pf///8XtUk+mZTYuRUbah40sdSq5BpDFYKzAkaJrSswAmV3Gm/XfY0kDuoFYrw+bUNnue/V5aT0ipKdAySjATal0njgQUEoCWx/s//NExIsU2VawAMnSlH0uNhhRgLj3///////w1XWTL3NIjRp3aiaqwlAaqc0MGhBYDG8URCVa2i5I4kE8JvrBfPsIc7T9L41p2/9LRKWW1bM5VNTTn6ISWX++ynZ///qs//NExIoRmVaoANJGlNjEf6V9SUGMO7DDQAVMTFUpQNI0eUk9wSBvbFQU5RuVCFTP2btc+m/cOmZdK7MK1BXCZBQe4n2m11vUcIHcx9PZl//5k7/2GTKszE38dOFiALgN//NExJYRsQqIANvMcJhQInFPq0VizsAIcwVUQ5gdudl8Vrn2nViMHx5iVefJvQgDjw+jVkqLnGCiwQcH//7PdR/yb/6FkFXGPAfRs4IwOoVlg49BylEuqTuNQLQquOdp//NExKIROQaEANvKcH5n//7idbIEMOxoUFEbHh93ZzttKKYbukcU30jxphNaJHUmBRzP//8V/Xdv7mpWlXoVxlwLPjwJYKCBwQ1hYYS+tQAI4uEWMZzUJma64ju6/jWY//NExLAQ6T6UANIKcLqyDOgDFO3DIt3dN6sSESB9Rrc2KWWxAwm4HTzUIX////fb/9NZgadWuIvovRsk25oqqtLhJsxFmBYeHdCml329JSXf/IZCbcFBsHyguHWHNtII//NExL8SkUqcAMoSlCNAjLkFofK8jssjss7ubkt21qW9////0sQ9zzjGs/+mnEnyPCT4Pk6SKLWUdn5UciwTuFh96rFl/VtBXZtWHM3IwjOuTqjusI3wK8geI3qmYP2N//NExMcSeTqkAMoScNXX9XcKxE0yzs6hIqLDqE///80GyYRq2aAkpzIsivECiYiCytH8MS2wBgaTUAlKJeLXerKJfLMNIBOeTtmWIlULJbF4Ez1yUepBJxVgVU/ER8Fi//NExNAScT6oAMIScM9kJKCbR49bv//9RP9FUOC9AFdjALjZgAYiLfAxoX7NYXZaNDaKBMBi0cJVVD6/pEyF3U4czEUzty05MUW1c1/x9Yi4qYDUkEYBeKDEmtOd+amk//NExNkSUTqoAMMScDxguPm5/jji2GetVr2Y3//+k0wS6qaFeoVvCMIYmEBBBkS5aolOgFaZsKLIlCYKsnPw/0+nom25/a6uOQvIuKmh5fHFjMIttq7zTILiABILh6a6//NExOISaOagAMJScHvdLRUI3roJBMdCZUF////JXdZnBg9hwBpr5IdhN8IMSTM/GER42MgEhE5wtx4vkaT3ZluBedRW0+DAHmaCOYo7uKNVZWUxafR0HhuFRLOIiTHa//NExOsW4ZaMANPQlD1TdVZJ7Fr2VQCuJCwiY38kIv/5Q3oWPCtgpr84tNOIOLAo4QkhFmDBEwY14cUI2wkFOihtJxtLgl1ac8RTQ/JB9sVMZHeu3VUvZEDb0alNt0cr//NExOITuTKIANPKcBhZMKW9KP+lB7//5FSWmWFmRc5EpgqKEBYbqNoouEKn4OHzAgRlA8AyqhpodWcDeMACkBIgsCwoDlNkEjFS1qdHZTvq211qZTdW2uz9dhTORmdj//NExOYWOTp4ANPOcCWQ1Luh6Lt/+XT//X//63GKT4UqL3GiRAlxmJAIcXG2mQZxfhXSZiflIaMsRADYMgGA0AZGJlmJtCJgSWfB4DDyQ6xx0zafcw2cOpklpTuEVj+7//NExOASQTp0ANPEcP/V/8qCtRgOG1f8bhFQQJDDoFMHCUIJrQU/rzuy0nSHuLNBLaX0SVIF2Tfgw4tor623JDMNRKhhLVp6xy+VS6WsCk0UvyxOdGAysQyx4OCoKEXC//NExOoV2nJsANtEuRalq3dWjs+YV/+VM8dNbeMcOIi44BMMLQhnnqoqj9FaVCosIhEDQqIm4R60Gr9qgnUU4Y49LKMfeq2JBIGA0Git6kUTjVqYFCRpQxJ+aBxdlu3p//NExOURGG5oANvSKI8evcxCdNSdn1jHQKSNKkITEvHzWLYSLKz21y7ljSnQPNIkiMwx6M1n06zhKN5TJ8753zvkv+1Sszoxk3u05Kr0M7apR+bW527pptWzqCc+TddU//NExPMWATJIAOPGcMW4SxhqLAyul9YFEh/bQ9kqpdUfA9Lyv9njvL8cuy2+jQrmxwzWdb/f+BvMyFKNFypMR41KOWlhq4W3GowkuqjyI8kQ1Xpb9e/RHsJdu/nfWS+c//NExO4ViOYwANJGcH2W5/P39HUT+/ufp3wu0XWoZ/6lBlNqDKq9sOpPLtHtzVICC9BiR6YgTIhyqSkamZY66FEP0U+76ND/djhrPpwh8yJyb4xoHNvEM6xDJVwma1E///NExOoVie4kAMmEmKiVky1U5RxRaL1C6grTe1nahdBFaSjGxoM1fcq4P8dt3szCPwGLuOGZM8gltM0IqbCKizXWbLAUPIkSmb9uwmbU3WnlVaNOmj7ZF34fmUOMytfz//NExOYU4RYQAMGGcSVl0zLIrncUQqYkmK2sMkoGU1MpWtF1UnmVWQF8KHxig0dczd9lIqbgtkjwyDGkJlaJXlJk0n3EW97R6kWYI+30Pq7fbgL19e6vfSsrutb/kpDd//NExOUSmZIQAJjGlLe/67luf/FeO3qeNAV7xCKTduYvW8LesM8WJ46zMGMQnqQdRM1qlDAsYLw4fCljN+GVssmWkFGMmfMl2I2ECWJiqmuibG1AxsNmEOfUK5XZf//8//NExO0VsroMAJjGuLQV9jZTsld+E8qvGzCprovxlxoGoRrQVep+o7FZVfps6W5aqo1tbOVs4SKSnKuW3159OiDGJSj7IxrdkYyt/9HKrGUqOJDBmAukJAUkekQmMR6y//NExOkTcV4QAJjGlcE3f60t9o41QK1MQU1FMy4xMDBVVVVVVVVVVVVVVVVVVVVVVVVVVVVVVVVVVVVVVVVVVVVVVVVVVVVVVVVVVVVVVVVVVVVVVVVVVVVVVVVVVVVV//NExO4WoXIIAMDGlVVVVVVVVVVVVVVVVVVVVVVVVVVVVVVVVVVVVVVVVVVVVVVVVVVVVVVVVVVVVVVVVVVVVVVVVVVVVVVVVVVVVVVVVVVVVVVVVVVVVVVVVVVVVVVV//NExOYSaWngAMGElFVVVVVVVVVVVVVVVVVVVVVVVVVVVVVVVVVVVVVVVVVVVVVVVVVVVVVVVVVVVVVVVVVVVVVVVVVVVVVVVVVVVVVVVVVVVVVVVVVVVVVVVVVVVVVV//NExAAO0F4sAUMYAPru7u6IkREQvcOBg+HwQBB34PvrBwEAQBAEAfB8HwfBwEAQBAEAfB8HwfBwEAQBAMA+D75QEP///5QEFb2C8FiHaBKnDbyT7eAe+t2LSejXCefc//NExBcYEc5gAZhoAKx6m4LoM4AmMtaZmSY9z4HgI8pBc3Satl3mBQNKalKsyq2QWS6kC4T3f9aazRDPoLRM1Gn29CmmadZWXzUwO/S/1HtKP/YjyoGVV5whLxAAdoYS//NExAkUMWq0AY94ANMxTk6GIXh/UXUqBP15jaleI8NMcgDWEMPBncI+xdjdarAOh3knl//+9VxeBmLHef//7riStrVjv41N///2zrW9fGdzhh3+XXEfZAC6GE/Vbp0h//NExAsUeVLIAY94AG3zm+c6HpNaFeFIQKuNYZ44h8lsFmJATBUOZ3jtY9BJVIptUpulNfVNRYtN73jT++75+Zb7tCezWzfes71T1gYULgsJfinSK4HQvDQqgPSGJ2lW//NExAwUeXLUAYx4ACCkNiQAscEAV47S4DBJ0gBgFgTY9JYm3YpBL2CwJhgb5s6zq16YvS/3TXteNFx90gS2pnfj3+L2zTNq+1b+/paBo54D6DX5Sm9ilK30qfXGCZPN//NExA0T4WbAAdh4AUM3FlQJHyI0sL/uKz5pd1KSVNjDRTgDWYrcj7pjEmawPL/L4O8V9tevtr29d6dysFoNvB1Xfru2sV3uJAf3hKmjN8X6EcrIioNwqi8rLxulKFFr//NExBAVqXq0AMYSlSsAj7QkSVIo8oqQEosuu8mm9IjUqqjyky60NQPjT2q1vnbONjLeG4SlPz2W+eRhqbKoqkuS4o63eD+3xA9Ih7J+Rukn+82Kqx4wNn4KioYI3qeu//NExAwRaV6oAMvGlWmTE3BZbeZEMY5gLx4qU0WAgxJnKRDyfDyaZGnxbsM/peusbpWbbIzFpDInVD6qrf+/7fGZmAn8Gy2XNAOfBB10cFn6GqkZUAo6kVLVfuUKTs1G//NExBkRQP6QANPMcBiVVrm2qSEPYbiUNBbjsRQMeWglqWUX2WUyCYm1ZRsShJy2v//f///pxxoWrQCMc1A2vGHVApJAi6TMAFqSoB6EVCZEtUanP7sLEI/odDyT24Ao//NExCcQ6O6gANMScAIQggKBsnikg9wpWdrIKZgR/ECWgecLxwIQ+m5KxmhT5ZyIvgCSwqPgVbt5hTKiiLVHlQibTvW4Me0u60vqYs8qJBdIVgIOlCAywRn3kirAsC6x//NExDYRmSq0AMPScTiAxi78n9yd1BegJVyAiH4V5ffkjkey+FhrU4OCjQ+cBNbvsgirn1E1c6YPll+cfnGOw6cqchQ5o+q4qI1iJNhELmFQqbumPFTKlCsRyaTneN4S//NExEIRCUq8AMsSlXJOqssW7HCzCqQRiDwktLA5eK7TLa6wlA3NEDfnOEK2n9qnB9jiUZQSheJCUCVC0uLdFxVRnJJCQsnJU21lGWh+3r61s5NttqzhQ5X9VzF7DkNE//NExFASQVK4AMrYlViWuCNskEQDFxAfUZx3lsebVrkyuBcWQSwGTOBGbbR8lEeR/0Bi9xKuHJ3NXtj1Y3H1B5T2//////9TPrVV1XWwM7TpfYRPAwaJpUfkEniw1Alb//NExFoRCUa8AMHWcGb2ZSTYkVq0F7lsV07AostxMSFLVFc+77d21qZtK5XRv/nVt6xbOa629ihoOFTv///////9asIaR0OG6CbSdYk3trZceD4xXpjBDOtCx6OxhdXy//NExGgSmTqsAMIecPzdQs4uC+UGB+1ZQjIW5ggCi9+F//k/9PI9zlOH14lPOejmlECwRAk+XR//iCqpPp3GpjhMkDY2dQPq1TP8M2WQkUTE+yz+d1vWqx1mWTFE4ahS//NExHASkbacAMoGlE02/9zpv9PJUoBii4JtrkbeXnmu+Zc3vMLd/zv//+Q2f1itjSgClZz0S91OjCAg6lteAcJjNG9WHa3dcvo3zbdI3xr/MXVNau3stGoe6i5BDy0N//NExHgR6U6sAMtSlGv0y6etGEu0Fqo2E9rLElp9EqaZPG3l3AUd/////SNVb84oMLzTBAAj5AtXpkboBip+xgUGhGtWXbLedC1lJuNMqrfj/MDfw9i3f0o1qmZ6N4lR//NExIMU+U6oANPYlN4OwFePEJGsIQwn82u3B2/XnK7stxYk8XVUubIoktDRR1ZjqU+mM/jhq1Prrd/X/9Rz9YoGQAUsU6qVEol/ro0oeYc0cY2k8CEZliYkBaQFBo8B//NExIIbcVqYANvelIGBaHXYrFWKwcpR3KrKr2rWrWXfZc86SVgNgSAcnOFS29cexcueslJrtnum26tW8ytw8mVO+AoaKyddFns/0npaR3lgaWHbvoiUSwSBMchOAIM3//NExGcXuT6IANIYcBTrpAh8RBgcFBQFHVltm7liUMDqSUWa1XT/1Vphr1q2CUUAR/Cfywk1R15qM+ubjP2uUdrF0lvx2re2/X/r/tyqaE3f6Ukm2bYUI1r7CX516WKV//NExFsWkaZQANIMlBACTFIiM2B84qijBomFgWgTFgLALDotZDoFw6QkdTh0/yLvCPMmZVCgIQU40OgjuAyxZomU24khGWanQDQUeZFf//r2RJW939RQgyKoJGjIMvyv//NExFMSOOZEAODGcOl9Xme63cMb9fOksc7h/6wDh3Axb6IaYcXgQjvX/5TtWp3p6P+n7+ve0ufuSD4fggCAIBhYfldRUI1iEljyKwSQ10LeaJ+ipEUbkwuHiEDpJxLj//NExF0P8KpQAVoYAOFB3CqCgGYCWG4kAi41iNkpfBGDQZBKF0GwaOYpdBBk3UbLU5mozRTf7szUlTRJFEyceun+6h8RN1myCRwky6PE6ktBf/911pve7JLdJNRqg+n1//NExHAgmxqQAY9oAb60/9daCRiUmt9CmtjQaUSgkzUv7EcKtYlEzn28XnyrUUEY7ShV5Y7L9OUNPxnxuuKvs9J8cccn6JRp6EQ/ewhbDec5uqGtWp5xpAtEzqe94Emc//NExEAg6pKcAY94AMl8ZxfXw/zHrTx4d/jHgt2rwKXcpo2s1h03iJvFMUpf/11q2M/Wa61871vP9N31/v5/3jHzvdvT7rqWCCZp8HGvF/yClU6nuusLynGPWoZdMKcq//NExA8UqTqgAZlgAE5qYt6aw/CjmZOnjpkf0gnCUaSMHkyd6Ja/e/893T8HV+cbf13Lbe88xqienNzpUhIcgJVDCNjTlPc77v0s73jUf/9FqtJBkwjzfFt5B6enILac//NExA8V8W6sAdhgAOK5CajtF5F0wW5b2QUzinnI7TCARD6pLMQDh8QR8X8vsd/Fn1fyXKwTyF11CuN29HJzb789/36cylumlKbTnFAg5f///hOfMF3GJBZi/pQUM28D//NExAoT4XK0AMPMlE3NPd+ZKie6qIEvAO84WtCmVrP5yT7nEZFEvHSnkQUsSV9aXWr13Fy0u27rScK5wpHJptz7lO/d829xWsjVfEVOZ///+OX6otaQJKMHlbrSx22C//NExA0SeVqwAMPGlDoMVZs6YLI4lYoWQ3WXahcF2yw1c+TiHdBKFganKj7cK2razXUqWxxtqlAoxse3/9zV0xNOgoWc3///6tK01g8QNM0hjMoCpdgcQFirepJC5H2G//NExBYSaQaQANPQcKRDUUeRoGkll9DWBXMy5YkWlWRDjqDILRMaKoU5NWLJF0sdtCNBtxJY2gyPd7g0WaCs7K1kIysPGdXsaXGiYClo8CVtHiiE9SDOsMh0uBguaHjx//NExB8SIQaAANPMcNzPWRqa1Mpl3O0ZTIACU583L5evcuiWjFOfAGgaYCAEwHP2FV////+ihbyR4+Xl4UaOgQCnOL7kS1NwICi/ALzyQZyEwJu9RjYuX5provgxwxyb//NExCkSKP6UANPMcbi4LAg81H3O5E+PL3DZDRFPTr5ObVI7qcx0B0cf1fyCoCXJZJJQ6dYCGOeJFljhksNOAPwPyYH6fI61WtIYaB5j1mCToOU52x43vaU9TVZNf1lb//NExDMRwSqcAMPMcJju1M0nBbs75n+ffHKRGPiI6HnrVUBBUSuKXC5NvShK0IFIkVgcqMQCBBlf1XVjS3mtsYUsVK1tS4tqvWV7nsLvMHOys2VUo6shoqgigDKVyDq9//NExD8SmSqYANYKcXucaBDiF+xsdvd3lVFkJ4SMGB4ZaphEBYGEFFVyskpURjom6t+js5lO19faKCbzE53Vizupr+NT22ts+81WuHZunvHu0NY2lBZH///ra5CcPj2J//NExEcRcS6YANYEcCHgnaWGycBnotUnstdD8TKEJgeSzViEGp5R5PRkxnShSCkONIr8b1QePaptjLKaVmFQfA6BAID6+q5081n///s4tWRh1elU4jBGBSOAsBoRbGmy//NExFQRYHqYAM5wSENIBiUI0raUu3EIBXWBxABoyXrsxPKipZvG7/0r027W79614UGCxcDBNbNiHYZNGP///2Wip0TRNKqZJFAiFSgFsv6HKWgAMh1MqEv0I2lXqLTb//NExGER6QqYAM4EcAomIjBKxdgJ0uo3J1xCrPWfjj7GPtYhClrvQKPadQ13V40Uf///9LQsVEgGNhFVhkqzAasdMPUNYJLd0DJBvkul7mGUNJzXB0C4YEb5ugZp2o/h//NExGwR6IKYAM5eSE+WH1OnDII8qbNpVX0OdQSJNp3DHjnrPf//9TQ2Akg6pDxcJDxZhkZQh8KAIOcKIK3Ao6CoKYaBF3DJhUFAhjwymAXRZoIQ8vQB2gccEIBeYFUE//NExHcScH6QAM4wSHw5BBhjCKmCKS0DZJIvsy/01uitFlut13V3WtIqrSjksi0ko4I6q7SoJW37//////lVWDlw8CX1qoZJTYcpBIUG4CqwAJhEbhQFjQDCosKxAYBD//NExIAZSmZ8ANyEuMDgsCQcxkVBQYBhkUAcgWW+CToc1+2GdbWltQ7ndllWcq9lneYZ4d3Ytf++V8d59r/newq4Vta7WZzolLuyRVFmKZh5xxxUodcVY1lQedG///////NExG0genZoAOYKufnQ1QGFRw0URxAXOXaPN1TL8Js3+S+xjZfHuxEYSFBEnzIa2Dh8EC5ACIwSEDRpbhFmkZgxTEDDZHEMqSDVpcpy70ZgW3DMJls1BVqVyCM8xw13//NExD4cSYZcAOYMlBwyxx1C51WpG0TVT42uc7Yh4nNcoG2J8f5VHNbtUpOA4sFhCeWyCoG//JlkJEpIRdn9laoZBRkHFHTSsYmJZkQUmHgijQscMALku4qaXwze0uhM//NExB8U4bZUAOPGlJoEmLEmNtzMfyFSq2lo1p7Z+fnEb2z7bVZGVYHJVpPSOhU63YfVYMJ/Uvp/+X3jXWBaAa6KEgg1fKOhSBkNLINtJYm3CDrVU1coTwQQIUy0MR0///NExB4PsRo8ANrEcLavnbNvJZZV3Vn5jUc6Xl4aSWMQo96euVIq/+3/a7//olIm3/GiAuVK6ludpeZ3aaRww4G1JEzGK3GaOXqdTWmdqvS9EZ344qXAwlCRxJC5th5j//NExDISaPosANGEcCTsa1+olQkVcm5n790UTV77zaWiZMWbVQUkKJEwsmdmYoONBYIyE8EKGqAQFkwoYFToTBYg+BiSACSQpJ55c2sEp4KwoOMLtLapo3b5XOjXT7B2//NExDsScG4kAMGGKElCjYFnqFHnVdhWkJKfrQZhATQ2RSegtFwMhQBMIRgRijUJsrX9rWjGNnQcCoFPB9BkwbHuAYAaSUHBggFXNGpP7CS9PdHoUqYDA9SyycysZ3ei//NExEQSEMYUAJBGcDbtJUUVBnfVlLmaCgPQtKCubhmlXfw9SkFAJIjhYBmIYAgsl4JBKcAp4zSlasiIkZ9pvaz/ax17h1HMLF3RZopFC6XFSCoKkUup6K26kbbl5z+7//NExE4QCLIUAJBGTALJUJgZnFRVILeV6Yzr/X7FnWsG/49y3T+KXKV844x4+CDB4ccHFLStw1WPirREPm0Peps9SPbIKrHPES4Gd/23bpG9AF7nQcpLB+hz8kQopa4j//NExGAScZoQAJjGlHV8Bdqp3dyXHHMOfUscM99zOnwtat+7fXb/kO3rWvp+n1f1e3fQMpO/ZjnmK7oC6ila5Oo8CHIIIk1FDTRyuashoKCp06p5aAh4SOkRFEws9UqF//NExGkQ4AYUAJDGAWBT08HZVESPLPU+i8DPtbApjtK54tWy/1C4BYKkfnmLMwSRF9QBdbTG/eV3oZAzDzCYwcAQYUeYeQTGkhIGYeZaC0aFRURmRfMgsKhkz/AQSFhc//NExHgReIoQAHhGTDLuMFhYXDICbuFhZugKiypr/Hs//iyKxRVMQU1FMy4xMDBVVVVVVVVVVVVVVVVVVVVVVVVVVVVVVVVVVVVVVVVVVVVVVVVVVVVVVVVVVVVVVVVV//NExIUSkJG8AMGMTFVVVVVVVVVVVVVVVVVVVVVVVVVVVVVVVVVVVVVVVVVVVVVVVVVVVVVVVVVVVVVVVVVVVVVVVVVVVVVVVVVVVVVVVVVVVVVVVVVVVVVVVVVVVVVV//NExAARaFogAGCGJA8K7x5tw4s4A2uaU3w4sHwfBwEAQDAgB8HwfD+j3CAaD4Pg+HwQhhRgHHAhE5d4n///xPE4IAgIBgZLnxO8EHO8nZOEPJoSKkRc2lg1x05atl5W//NExA0TeUpMANBElAzNICgCnokA1+pX0PQ1o2gGVgMkAZJkYkAZK7OSRUT/6mKMOIsdEGGPA+D4PlLP//VD8HxOODFYP0/d3s+sc6ozbkFg0ykYA0aYSEmxwJoIQgqq//NExBIWyWaEANoSlEZkWwY7L/8afVINP+rS/0Rb9KLfm0BuwOCS0b/n+/////+6pAGywoDCZG3PV0bZAKHI0YHf///ZW9JzBABvTn1DT5ccD5Q5+zWqmn3IK7Bxg2a9//NExAkUEWqcANIMlIScVAjwSIKnu4RS8S/OsccTUXzU12lU/djw/KBWTLXrft2f//9/mwUgBE1TCbjzgAesB0LWjoeN///NfWtIsEgWR7mqIqCC6sYsYYwRAndOEZiz//NExAsTaW6oANHQlFkeOUy2ZHbz5Tebn/1z82h6kSZoLhaSJ0lOb///T6aDCST7PqxOoTCaAmNFSDRWf//cWCL7q4fAIPExOfcxD0V3lFWq9AhjJAMaNTWKwmBCBuPG//NExBAVGqqkANHKuc45dsfj817Zm/q87e5JFDI6FRoOmzTdN96M56iwDmERIccUDoWLACLAQWAcY4ia//t///V+h9/t1L5HG6XN7yb5kFCsyu2AaANUQaKdlAuQhCge//NExA4VUraoAMqEuOtN7vH/45x9O1NN6mVqaew/jENT0T7V5klPYY6ucBCOAggowoGJQLO7tznd/R1f/f117p+q2JayVi1QrqRe6J9Eu7OCJvT6qsrpLkSazOAWIxlV//NExAsTkl6gAMFEuFZdKotaz5r8TGN1b/+pUNEgFFTGM//0LUsMKerflVkUqZpS1b+/Rsv9HoajVy5f2MbRAwEYGox9TxUiS0ki09EpY8WqTtMGEMxFGqYVIhQ+PVFg//NExA8RGMZgAVoQAFA15JqJW91dZax3h+9//U3/0MjyqFARLMluSRDzzPGDWLd/r/V+msJHolETxVr+giGtOe+5dRAUnAhJkweHPZkaOCj4OQWsoky5Wm9O4/lQaMAP//NExB0ZWwZMAZsYARpc8jukXe1oq6ptNP5AZgJfn514+VVS9rJDzRBFd741ufnlKS8JCOsRQkLNmt+0kznpwoVN0wjmL/9/z///haT+f5kmLDABmOoI4V0f2////f////NExAoUcyqoAYJQAJ///2U7/32cgnoab/56nM0xxBi2F4LjxVFYlIP/8xXdZjHsMx+SCSLjAkBYHw8EIO///PMa2x7unEWPhcK54zPPHgXg8G46Wv+MY/////////////NExAsTgt7MAcEoAaeTneznQmRBpBOJiCu5WRTKzxFxMhDihR50dZFdBp4oYKVg67D7KyOquRXQezkERQ4wo8O3sdjiAcExosQHrAQd3Ab6ZHFvdfJc+f18jiP//+SI//NExBAQWq7IABBEuEJ/+tEVxgwYOdCspUDCkM6GFIVDdDIGMWWpHuqOWyVNRyzaaP+3zW5pgwKlgbCT1cK1uVUGDUwHMk0oXY2kbWO56Kwmi43pO0mjbgRhtUEAwv8I//NExCERwRKsAMJEcMQOyTpKhaf9tFugYUcRUCr4LJPAq4UfusOr+2o904toYy1PO//r+w+wb9LmVPskPFdkoSJ0aAI5jpMLl9iCXieGGOeWmY94uIADKgr4fW8y9/s///NExC0RcTq4AMPGcG4ESBBjodDFihMAKRSMCJc03////qaXUG3VyJm77F7DMxo1uukaTCs5p9noUYi0nC3jxnQeCGYiThndZS5bu1A9rbtG/5/G/3jEDchGu4S8AiTQ//NExDoSGV64AMNMlHo0YbkKPDP////UoChRCvzlBhay5mCEouOsTUXCpIiF0EM3I8gHUeVFLCn0iySvzDFwJNtIrO+1uXvF/3n5e6mXM1DVDCoY6QwqgE2+GFZWhnhz//NExEQSSV6sANPElP///t71VWQgoPEAcad9gpNbiOoIYrtNaYHKLXnqvS2o50QpjvkrtZw6OceOcqi8IP4IzEr2yPgt3sr8s0uzNYENNskfIG2AS5zP///r/+uhkgjG//NExE0SQQ6QANvMcE51GJg6HzAhAmJn2QRInvPBV0JvCBq+Uv6XnPxKNor46nT062XWjzewJMOzbNLxFZBld6ICGFHNxOPqOE1BhZTDQgDnoEN4+Ji0FI8ZkGikqcIG//NExFcQoQKcANvGcDV45wkTtgHAql8kUWIElV2X9M3fHXbnmW6lEbi5GgQB3DXQ/WnCQhQtjoXa4cj////dQuT4WTHiEw4KAAe9UgIx5hUbhZCyYduKW5zC63VrDrZT//NExGcRqTqoANPGcO7TJs6Gd/l7GTXUtd2uVjlodhAOsQUztXUqmFShMw9qLn////2bm/+Q1QkCsCjF+xEhCARbsmaNkTH2xJR2qyF0niZN2KL7L7QfjJO7pf3b52/D//NExHMSQT6kANYKcP+H1er1fFHimCAyeGbHw0UggmYAxc63////3/+pBUkuyogTiSCUbNDKNqAQ8M+bN6eVVSONJVxDKI2PYuLAC5CUtUFWwKwr2kvhLHlqbzl/pdNA//NExH0ScUagAN4GcEPhmZul/kWzEGBidv//////+Vpwlqm9KHkBDqE7m0SVBUEPGC863ANVarRXcktKpjF5hzrLwEIgRFyiypxsvJJViLWwakgkwLiA6xBcNFZdBcIH//NExIYRYUKYANPGcAkRDXtaNfq9FY02YxGDHllAWXONXIwsEAERZugoYmGlzJOC7FLPglBLzcnizkooQEWs/Al4StVhAAB4DcXJdxGGN+5N+3ysWICGKBTqN+fiGLDB//NExJMSGLp0ANYSTBHV/r3jx5Z4FJsXziJSOxxmSBMGAGxw6EnwWAqrgEvK1pSGMWrUsVfiywOKh+loyo41QJlFvuqFfo8sc4wDATRPaZnyTo1LQu5KDcuUEVFg155s//NExJ0foUaAANvecJP6lqqr7ybSM8YLcyTKl7sofpav4IzqFRhfEJjEGynTO/qJgV42kXEZ+X8uRT5XP7huftShhUPjg6cCgwgDh0QDBF2GCiKf//56v//92ECOpyHc//NExHEh6uKUANYKuIm6T31s6uQ5F9dE1UTOIMHDu4fOLoxa1BpLXbizAQQhIUl+MZ0DmRBCxEp6UAy0uCEzohOzKdqspFrqRHQ1ejVYqDyTiAJsSscYEUsAD4URfzuQ//NExDwfwWqgANPelONA9zdJeSAuw+yRO2pW6a5I7Xp+1WgN71vY07DXDE8P9Sn+mYq+5K9mdRIjv//woBRzwis4m0XocPQxyWuReHjEE+rlsGPSjloteKMjCgqRAQPm//NExBAWSWawAMPYlJc2Odqf1MqL3cawI1my1m2uVrEN3ZTxGs/i4nSEAersplRmULgoSV4Hx9Q0L2nejdqsnN5mvd8369ly4/dhe1sMHf///26///TVxjwWoRCpRbMr//NExAkRGVKsAMJWlVzhIaYZUgdjFeYQspkuePW3dykUk8oq+aGLYBRSsAUAwBSI8A5BNcNprPSprU1o1t4df7nfydcw8/YrauvodkEXqHjYshUHNcfQhVeLEYICsaTE//NExBcSqOaAANLYcD8PyQ7VWta1Ha7dsXiaXLznITA3YJwCjQShPIry2i72z2APYdLTzEYsGipH1jW//////01hQzqaV54nn5mIGzLLHhQqADGtdY9PTcvqOxYoJylp//NExB8R0K5kAM4MTMnQIEKAD9HZNNAKTzhIKYitocJztH7r4s87jbwVNbv////G7cXcffpVlIUGH40GQEGCDHWSAgGZlqasijgig/4r5C1KBjPsqQDQSEA3FrUBlsy7//NExCoSmOJ4ANPGcIdpokGPoOaJTI8nPQoVfoghOnf/LvJipq3/////6LvyiqkiOzBUsECgBxWpGabkS8yTgJwJBo20jc0+IHexCwCAB8IHpZyVyLUr5SUueaSbVybV//NExDIQKTaMANYKcKtYowMRjqav/WgoUuJwJWYMcNwaZmEDgc5LLm/RK1GvIAMSjkpIGCDkuQmIPTMFhAlCloS63/lNqpbz7/9s32+260oPOgGG1FE91WNOYcCQrZT///NExEQR0TaUANYKcP//+tWDEEQAEykEMZWSD0umXG6TiAMYKFBZYIow3BrL4goTSVDwUBPdS+1Wscyu932/v/rXNWpnDREPwwGAwQCYJvIGT7Q3/////pXCBibeLCB6//NExE8R4QKgANYKcFzkqclQVX1CC13MTyUJVmlVZUGyBqJIy1YaDntyhVJLM7vbUtXam67U3VDADoMm8JUZxA1w17nNTV////9NCqzVU9JkCrvKGQMrOqKCStkMkM2r//NExFoRWTKoAM4EcAJAOwT2HZKIvi8F6RSpNBUScJ0ukHSLl2teurarvP9N9GDqDaWwqoVsjMqMTxhqXUv///+uyhgozDIUBK17Zqpzz1MtHOXJ8TcuAvFSb54qwlRf//NExGcSMU6wAMSGlAzR4gpAPg6GeMr5wGgjV5mWh3ThfPK+asoNjyJUUHgu0y8NEP////cyymryAw0FugS1WeXwS/WmIozvtFGJGwZrgnl5VvI66UrK8VBVm0qHOFHf//NExHESEQ60AMPGcFq/G7e3zu2zNZadW0LdPb/VSlUjiiBo1Df///1VjeEPhWcBQRtxeKzn4ZOgRdVQiVyqeEehD5qX6M2xXuVbGTzGN1ZgWks+/9vvGfvG02UqFlB8//NExHsRgWasAMPElBEBDmb//y0UzBjZX///+hRGRpABV4MkTCaUzIJMCVmlDwMtoAgD9r+K5GQh+ltYkPJKcKqYMRt5zi8aEqTws9H/7XX61Zn+F5uvisW1kh6Lvvyo//NExIgRsW6UAMvElIUFgqdd///+V0WKkwofemG5kV4OTBlFD1iQgKrqcCzANQQy6CFRhYZqDVv5+dq0fHp4rpNvv3Tm5J6EVOKNJIaecOFwgLicgYbp//+k9mcuxAAH//NExJQSqQaAANvMcMv////iynBMDfH1pkhwlmKlVFFDlOCMYyqHX3eanNkEWsKSy88sc218mZrQnFu187czq1r5p1IYiOUYh1gYkM6ru3//0VTIUKOOKWbMf//9NV4j//NExJwTmY6AANMOlDag4hC8ABgowpcRLFAFeRhwO05ocOxileWgwOUhehMXsr30ycouTpVj//lvvbZ8qqdkYjnYzlYVCioPen+3/zOWYoocWZMYVnMO5QFJmakAGOTe//NExKASmZZ8ANMElEJFAELgDUgEZNtm80ZkoZE4VeeF+1K479lXngmXcUnOKKsqFxI85nVWcrGLCiGCDadu+sy99UlgxAE5KMpFIO2T3RE1Q/McTQFIjIWiSo+salhu//NExKgSOZZ0ANsKlCsarHR0hPkRoRWqknFFkJ3RVIhmWlJV3qUVf4YGVOaxfycQpjOuuX/dPWnwmdRPzV6cZjUQgwzHWDaouMVAsKgEIAq0mQvYQA+OVzMTNz2u6tZh//NExLISIZJoANpElIEykxqVpViNRplIKd0syXTjgwZbJk7o2i36qcCqTb6wN/Fz/pUWBJBFChdmJwswBRCnh+1Guw8EkSpMseYkWi2Z3N6LnLaCaH/DKoisWjsbZwUB//NExLwSWXpYANpGlYqwPOaacYFjVmZoS5rhct+67k5ihxFt9n0P+tVCg1u2CAhJ9qDjS6VXghuKXcKAxDMEKNtj3SdzHKKswyBYmwTCp3UcGGwy8RUB2SDdVzxJ133r//NExMUQ4KpIAOMGTQLSvW/9bOp1GtFPUlUDBTVUxLi37q8d2rQcpbKoKokKpalaJGRqJwFilEtGZc4cbOlNj8nyz7+Qosky9RIGZYNe49JHnPAtTzwrAYBi9pJ45dT5//NExNQSUPo0AOGGcFcaSAX5HETWBS1lRtUXBDbTZqvhax3r9/3YVR0OtuUOq5uRcPrYJf4pm7Z2at10NvI2o5Oxul8/C2le27y+YfMtH2bG9zsNvzdxP62/Hf93/QAO//NExN0Q0LYwANjETDtO1zm8HU7/WuXqrQrR3ZJS2r/QjNMOX5sQLCweqp1aCc080ZxZ9Lu7725oVMIldljxEyK6go1MjBYQxAu6X6nteUH1WEFCC3U72XBJ6+820ETb//NExOwUkSIkANDGcK+X993ONm0at4pMBmkmUqjQWpqkSDHJ5OEj7mYZFGWE2rh4IhrMsG6CDIw8eLTzPiDGV80WHMix0KbiBwPePmilK3SYFzpvW0OCJr0qiYTpHE5U//NExOwUcVoQAMDGlU1SzRoaUC+PMk8KlWhQnQZqg6qrqWtTpO+5FKR1oUphVOwx0McwHLPWETvhpM3H7+GOhskrc8brTrd9ffnbeuX2q2TIrROGpKqubl5z3fymjVz7//NExO0UeYIMAJjGlfx1VD9Elt6l4S2xX/9NTFlu9YUEyaCvZGd1PFtaDiyx0E0ms2BnDJiyaLHQ1Iln8cj42zCj2qGuFJv4K40ZDQKHSwsDsSuATZUyWbw6SXYIZU6j//NExO4Vqc4MAJjGlLORCTiPdq9cShUEiQIqAL3aA5zquU6MEwxF6K/eJhSIhougbhOD2UKydWkmkvN0oyisqklPDJlDBQYR0NDJmsfyNVln2WkfkwUMCBw0aAotizf4//NExOoVoZ4MAJjMlbC5F1Qriop///1CsyCxNUxBTUUzLjEwMFVVVVVVVVVVVVVVVVVVVVVVVVVVVVVVVVVVVVVVVVVVVVVVVVVVVVVVVVVVVVVVVVVVVVVVVVVVVVVV//NExOYSgToMAHjGcFVVVVVVVVVVVVVVVVVVVVVVVVVVVVVVVVVVVVVVVVVVVVVVVVVVVVVVVVVVVVVVVVVVVVVVVVVVVVVVVVVVVVVVVVVVVVVVVVVVVVVVVVVVVVVV//NExO8V4W2UAMJGlFVVVVVVVVVVVVVVVVVVVVVVVVVVVVVVVVVVVVVVVVVVVVVVVVVVVVVVVVVVVVVVVVVVVVVVVVVVVVVVVVVVVVVVVVVVVVVVVVVVVVVVVVVVVVVV//NExAASQIZAAHmMSTgE/Axo/wHjyJd2eTJkyYWEECBAgQIECBMmTJk0w8MAAAAAA8PDw8MAAAAAA8PDw8MAAAQAB4eHh4YAAAAY/45+AAAAAgP8/NYwkA+hQQgA4MmE//NExAoPsII8ANJMSMGbZxn+IQMgiCIIhkKhklOCg4MSOJUmibMqOi5scDTBUMBgFTAdBo9PDYu5McCS0DaPW1ulMd2OK9L9xdxKfGetS+UyzuVjOht7oJzmrmZ0JA2T//NExB4QcGZAAVoYAFDzZ+IilL3JHDRpRrFnnKDw6glT+9b38VF3+X/ijGKlNVn/qV3VGtpjjvYuvztbgMEOBH/tyuAXG4pQRwI8EhAWYCp3cd4ZAAUgDHMRFgFiQ9Xj//NExC8eGw58AZmIAIhwEHJsg4+jEZJJTfFwGpuybkgTw7ywkn/My+nebyKmqjYwV/1GhPugkgyCaBiWj7Ol//a3+gpd0HqW51P//29ad/6CjV01mTkqmXKWyeLLGglL//NExAkUuWKoAdhoAOS5pRgCE1qygRs4pqy0wrULiqqizJPm3CUy1YcYElRUBsD2DqG+PQvCaEZRnZEl3nDRS3yXQUTChKxg0pg0zetPU1es3oWrN2oX3XbAAAyybLA7//NExAkUsXK4AMYQlLkolB9PQIP1Jskm0LNLQSB70K9+XrRg6OM8SgoJ0WBZwZX+E3ew5LPzlfIGjooypD8cgHikKHq2Ty7cL8+XHBPrc47DEz///zOp/lsm1PYKYX+t//NExAkU4VrAAMPQlFMtx9Z1xJicTnuAVkNZBIFUzosJU2noMtCS/gaZNZkwzasy1pDi5i7y5qETKEqND8PTRgQuLjGRbd75jhfRoU4DgkJgmxj///+itcyBTkGhrxI8//NExAgUMYK8AH4MlE5K62IIjnoyFWGkJRxSUwA+uFCn9P0IyR+s12tCpdvL+EV5nLu/S/9V+V+f/ZmwBhOiUnqe9e67TnKrlby65iOwj3XOf//pu6neRYGP0sxtB647//NExAoS6RKwAMPQcAyCtJgX2lWAKXroCdOGpmF6fwwjLImAB60cNUeQ4DQhos3Grwd7XuuvjTYGHTINh+K0We4s8Sw0JgISCJ3///i3UtvoYXJ8JyRB5fLmBUYeFRuL//NExBERYP6MAMvQcGxDzRQknyXTqHLtZUyuSJLT2FuQkkQ/kOaWAFziCHz02q//XrTVyTTM5qwE8NM8lKg0FHkqUFKEAOIDjhAwkFMUKV6PS5BcZvmWltX1oEVB5vE2//NExB4SaV5MANvOldwt4yoXy4IUuxbQHyXBqblpte6/9c6zjm/znKoSHQcjYqLfp/sprDYk6J8tSMMOcAhgBhysuYkGWAas7WYdivxa3zlq1vdLjj3uX40UBhIIlQba//NExCcSWJJAAVowAMkDqqphRYODDzL1V9tr30v7TG16wJo2Kvk6hdA0Lj1J//1KfeXsEWEMOl059+2TMKfVTOYsT8TYnDyb2JBj45y4y5oZk8l1F81JIciFBCMAXS1S//NExDAeSwaEAZloAQJWA3B4DqO1PT0nPm6bhyRLyXNiaX/5kembrdNzEkkCUT/63VToIJslZ2QdW30+ta90EFaD0a0yTY0XS1N//7P3erqdzU+QNu3VYypIhEbrAbEJ//NExAkSeVqcAdhAAH0a5SxB6ZI/EdlVSkmJXXj+FvK33/ZiVqlYalg6HQcA1JBfIhC8pkiAaokFrNgkqml+JqK/r4/ymArGf///f//UpaBYIFuHw43gSXmTIRZ+61MA//NExBISGWawAMJQlD3BkXvpv8lL8Ufuo71xP+MF9SQN7g4OtTruAFJQShHCaVl38Jy/71ln+Qv////u7i/TZ/wiozXlySjMbBbmZMDI824BoFn4+U3oi5/h5v99v95///NExBwSaWa4AMvMlHd+6LcqKwPyFGajK3yifZxrQBI7QncYvM+d3Rdy/8ILzENfpMQPfpp/9dP/bIrXLYAKoXOOmNikVoLaTJERwIh7KBV6DOotqNyOcR4S01k47AFi//NExCUSaQa4AMHYcPHqLl51HsB7LZ+plememi7xOdIBUHBwRGAzBIoG///+3////LWacR9wTIUBysdDKwIag8w4CJ6YkrpH2l8tfqyO/nvYzXYIT2ETib7AFQM9Y5Pc//NExC4QsVawAMsKlNWlIJgUpBGxwKzWyq3qUvoHixEVoZJDMOC4qxHbcKVQ4x2UNuBoVgDbIGaOo9mjRvkkSQRwwBk4EDJOjPDN7TfkyeGGCjXPqLiqD5NocYhS0Cws//NExD4QUN6oAMpMcJrt5pXLKRgsPdIIBI1L2EBCLqwOKnb6yw+lyuwxauRnLcbnsZXGspQmkKVY3DRzAY4uYUXcfVoEvjx54LHCmEPpclwfBsOLN8tt+AXY+n6kHHA2//NExE8RcO64AM4ecTriGAIAEaLeBnKVOEvYYjpXR4ytititgp9uRQSCfQRD0+QV1Ymci3rZ7N4ofow62zGRKU9/XvQ+LnY3ZtX8yU8O1EZG2ruXLpKvaEegeXJQDjUW//NExFwRUPrAAHvYcZXR3NQxGVXMjC+Z2KwBAqIgIFmpy2rytcnjVSjUo6nKCzsDjytqtJwBpGvEitRgcprzAr9mG6bh6aDcJG0HQEGQpshNR0vXSqhK98xNr1lUTEh6//NExGkQwQLAAMPScOFCUiibJYsW0lLQs6i2xvwvqbFINMzbG44K2x4vT7xQbVffFarhm2SETBWRStlsMoZIpOMAMFR0AMOzS11pdY6eaXdb4DKMqLjgHSFRJsXuPct///NExHkSUQq4AHvecYdbW/F8bTriS/yqwnFToKpMoymU82doBmUAhBiACGCXgLOssQeadFqcPaxWotVbaJWBaVwEjCwbD6ZrWVgzqQ110FgiOeHn+v7IYrWoYRKodG/+//NExIIPqQakAMMWcO//q+xNAh0aDYmBwhlCqIjtFJC2QQRGbU6WBSmg9l7OlJ9mQ2eYMLDBmbzmZVuenCIOFQCSnGlBGCcVSoc1Jbb1/oX+3bv3///0KgI+EliCqkwQ//NExJYR6XJUANIKlAgSAzcuuQekNOCaBCaikZCxhD6QhRgs8kKnVAQRjJEuBQTZExgVi8WYHAMghAbRMmZU3tfY3/+tNRWaMtVTOAVLFD5q7/Q7LA9NtOHKs5zDyV/v//NExKERSOo8ANmGcEcOxM5k8x3HYcCjDWbE61qOuBdswRLmEdbiICimoumtta6ehD3vY320Uu+/QgvWlQbYOWGVzFE7n4zsR2RTdKIo+qrTmI5uxP7VmkRZOdXeqVqQ//NExK4QGHo4ANpGSIqXwbqNtYLl5woi3me4USemaakjl0uZYbLF76DOdPtPe+1HJJSqS+I5oKlNLFdb4AFRleikUZaKKZ8VmuwOTG4/x8510jatusVf1uTfV93mjaEq//NExMASYKI0ANsGTLnG9Sks6DyA+m1+YJryW8orZu2nyb+25ffvZ9nPWvz/ziAMTrmZ6Uxjf565hezx7up0NAgs+EJsUDTC48WUIwuxSHE3XQBjwAqusufkGisPTbrX//NExMkSCPI0ANGGcD2iA4aBBXbKxkWrGBhTi/eL1OexkRnx1ZVaMcmMsQFaxpkd7iFhjAxmlZp2v8DgDEyIwTAGTcYQSg4C2CWF16aY3EiSxHBbCXFcCb/EDDfGDMRz//NExNMTcIo4AMmGTYTIFMAchqHH+U0RzkmfTEnGGJATA0KX6kXTPLL5iXR/ccYkBjEj/zdNaqKTMXjB0Vf/+k3agkgmj/NkUDT///Vvt/+mbuYJu56VkqxmEo4HEvAo//NExNgSWE5IAVkYABhWHKaGsmMWmW0gDDC33TDhmA6ZunxiZlkO0k7BnVsNQw3B2diwYKcbQYRIA0wggL1dm2fpznKf7ih6eQhCT8UB1LzXRO4jVzFg6zjVZq4pCkjT//NExOEhAyqEAZpoAK6jPnsV1psrB2Rf6///TFgoEnOb/r8eBWjnMPPJqmxkJglWvonXc8WSeMFHKJG9GpE3kBoKDk8ZCqbstki43AjQHHDjEVrgwul2olIaRKBvBAA0//NExLAeiXacAdl4AIIQ2kvso0IuSnyUoLlycjC4pXLrrQOQW8tlD53dnGeig0YRGJEmN0Otd///2Na1rGf//014V8FIyIZogPukZKhYCyYqSwoKCWao5MOyRdLLxxwq//NExIgaKXagAMvSlPLltrzHq3UXFqKlsUKkazqBjk1ELfIZIY3Hs5bLJTHYFzYzMkMpWP+e2DMtMVJ79e1qU/J3dRYa3R3e8KHOKf//pjv//0VK41Ue0xkHkgRTWstf//NExHIZWX6gAMvYlIQLcsgTKW5IA9n8J7Z/tu1FvCzBvl5JDjONlPOhzAGseJMEpCiljZU4yEcESEIiMleXYnsc97tXW1V34z+soE0OpxLkzH////TV0xlu1whLGmVW//NExF8VSW6oAMPSlFmMhfFLOAWWcJaYOkaa+2lm2Wams5W1rNOrVbIHB2K56tPgIYo5RBRApwQEAlmlva9Wv1qyVMgmEe8m1fsk1KQqMhElkEGvzHWYSaC5xUf0iQNZ//NExFwREXawAMMElR2TfqvkaqdyYtRzSSEOgy0kfsnnJEEqBRZKj8uXr3n//3v/v/vvpU+4gj///6FLxeoAhxAJ1wx+EzKcW0y3yjq3JBExTLcyzurcTp8ra2ephZQG//NExGoRgWawAMJMlFcPjSkyUMUVFoYcCoHQO4MxaveaulN7W3hsYOPn2////0LTdy21GYDy+S4xx8tMhVRgSQF1QZ6WQ3YbXn6je+ccuzhEYCRImrKoSe5elk9PsJWk//NExHcRaXKoAMLKlJNOa2m+RSSLR7jqUazcSODGTuqBnl00iBZQy6eZLJRCJQK4+iceaZ3Jr8z/d9cterp8JSmNRcxBOOiLjFEwQ4nPuldr1o8yLR44g6aIuFGtIrV///NExIQPOQKsAMJScP/6EqySg/0hmNNR469V90JVDwBSq+egSJRGtaPmc79ps5eOtM1LgYBAIYm5CpozDA5HCsCrwkccw0HgK0BQeAp0Rgye5///+unAqmhcKFjI0tGR//NExJoSeYKkAMMKlI7sDRdI6US2CGADMg+CRpyFXOtK4VW35x9bsdcAbFtvin53nMeDrNiFwso954OOWAniUUyIqd///iJIBlyg5+e4iDixigIOGoiMuk+cQcamrX2G//NExKMRgQ6cAMMGcIKk0jiTbN+N35eNxu89SbMqmjWxaxjTG+FARQUSaktPl1K0xs0MHQ01bloDv//+RKpqBBSbd3n4AIjBTEA1iK4GvQCm46ZayREOKmFSIiuyVVE1//NExLARcP6MANJMcPO1sop5tahYeFWzJIDKEMSiVYi6gq6uwJBUJjFAU7UtT//0f///+uocAmHLHqRpPJrspAKcW1pu0PQnXpYLgNjgiOC5UXcXPxpYyoVtcwmMGuk0//NExL0SEXJwANJElKSjEovUJf1pordS21X6Re2t6EJ/6vpqMiTJsm4qaraHklGnFbPYXmzTThWhkkHQqZMBoXARUq4qAYsgS0kUVpLyFtt6d6W2LUt71ujBjXI1yCr6//NExMcSEL5EANpSTB4wj5NSFIQxCRrKqh+pbkt68v1pmM73Z1Lr+rm46mx5PD0y9xHG1GrLqoOO+9IbkM2sySHuSJsl6+Y+LyMGYCbVVYfPdZnMrCZ3yunnNuZivhob//NExNEQUF40ANMMKPUKMYSm2927ggy9VMrKUNRijkbTJmHoV7DiKirL3jCFCqV+9I8zMiDMqKTBwkyjmMSMHrGQO6qL6AEYf6XbdW97uFDd7h5b64/ff8u3Gva07/o///NExOIR0GooAMGMKPxf4Ltvo3pzlv41RLfA8Y+f3af07buqBnOtfdBr2kacpBQVoSlD83cPmzPAgNzUUtCbxdcy8QAQlFzYvRULjtPdSoZKgKk0SFRMmNVLCy3QIUOs//NExO0ZqrYMAMGGuKo7FLnyeuoGIkm60kEN62VaH53jdntJH0XCem6j6x/z0EoxsbpkVjfFcr+SCajPCXBI8CussQuKMCopnMOzMpMNM1RLJrZ/xjVH18459WpD/td9//NExNkSWJYQAJjGTX46/3zBt91XDFPvSs4e37EHFafajF6nzpOYYb7c02IaxyMdkEIgyCtqwxMj8nctio3mXQqQ/qGRkp1YYIPDip1hI7amwsNyppEmZkn0io5rm7XD//NExOIQkK4UAJCGTKwNseppEKlV6xic0gahGJImEO1IoZooaRBgoSEnEiwkGJjOAoBVqJGm/9iTfMZZitSW2yaLqJKVRFUV1ZjiTBVFr//qJEllv3f/+Mv/9yqKLjL///NExPIW+qIIAKGGufpcr/xKimOfb+S//2tNKSpMQU1FMy4xMDCqqqqqqqqqqqqqqqqqqqqqqqqqqqqqqqqqqqqqqqqqqqqqqqqqqqqqqqqqqqqqqqqqqqqqqqqqqqqq//NExOkTqVoQAMBGlKqqqqqqqqqqqqqqqqqqqqqqqqqqqqqqqqqqqqqqqqqqqqqqqqqqqqqqqqqqqqqqqqqqqqqqqqqqqqqqqqqqqqqqqqqqqqqqqqqqqqqqqqqqqqqq//NExO0VoHnkAMGGSaqqqqqqqqqqqqqqqqqqqqqqqqqqqqqqqqqqqqqqqqqqqqqqqqqqqqqqqqqqqqqqqqqqqqqqqqqqqqqqqqqqqqqqqqqqqqqqqqqqqqqqqqqqqqqq//NExAAQuK4kAHpGTB7ADwnoh5ls79+rwQBAUChAogQIBWjRowMDAwMDAAAAAAAAAAAQBgYG4cW4PggCAIeGCgfE5/IRB/B8PlwQBAEAQDI2ljNzEIbW45Ozsdmaafyt//NExBAQeEo0AVkYAOdNa1WGgANECLxQMBgQCgmAyA0AQmgOlhEp4uoWMsJk2qmlTrjvtv2Mor0X+r3IRTxJErdE6URpTaz1rtn+/nlhu88t0FrfZSFzic//W9SmWY////NExCEaEypoAZhoANer/TodkVUWTT//V7orTJce5YUx6If/3TprTdNNNNSSyTLyA8D4wAwBsSH//pzd0D6DM1NXMxvDjHwoCLJAc4JwPE+JEdg8FROGjv////////////NExAsUgxqgAcc4AP/////f/6anrbW6TFeymF2c0eYUMPmKQZUGh40ERphw+YsqTNJiWOA8FI3IiWYIgPBoNCgDBeeJBYlERgfmCgaA7GRwHAsqC3////////5///////NExAwTCxqoACgWvf56t1/3Ub38Vuc07KJ+9OGmzCI17XjYWPWuE0So0Li4d58knWEBksfzggsdoESpiWgnCw3Dy0cA0KY7Fz70DYUqCp/n//m//+bJZK/+v//////+//NExBIVKxqsABBQvWK4R37iPqv//+Km1S2tkpR8Uowf4qWflFs11DLSECsnQ49UcMOKOo84B4NSDglBSOkRQbALCOo0SiKljg9okQx5FzWGj53z5eg7GPEUYieDkyep//NExBAWEtKsADGGucxjkz7/7v/dPn9vd1sNmv2fw3z3K0Pj5f37nUnCoEAwwcpN5fefJf6f9i/8bJZKTdJjq/r+GDG3zOMwYMYVnX/gqX1CrgVh41W51Bg3QDEPXGlM//NExAoToQKsAMPQcBlntjRXFLdm+LeZZOy4LlYORDUe1Ok+rKqxoaHgOBwJA7PdT7mXiERapKmYcb3eYBitbhI9jCzDYnHhgNEn1f//9AxBFdW5IRqU9D0qRT5xO9uV//NExA4UsXq0AMYMlLpVgUar8AgWMCxmAEIfiKN7qXNsSgXVx15bg8cPduTmX/hzCo+PU+Eau43nkeeA8YxFmzf473PfZ/PbuuSjf///3o3vpdfKwA2L4PGvbOuqndxg//NExA4QyW68AMQKlTSqJJNwGY+sgZLJLD3S6mM+HumqYuitMDJ5YeoxarjWr1LjDKJhIepmobQrIXQVYgoDUEjuqtdojL5kkFviAeCg7uKYtafZ9y3JcU+n4SUvT1tJ//NExB0SIVKgANPMlWsun37CDlOGz1G/qZl8lfpujbx/zK7qbx/0Z6pRLIkc2f5ntVaJR+hsJxvKxkhKATAEbb+Ch0Vg41Q+9YECtftbr7P1K6aotMpObtxNs1ylHi1Z//NExCcQwQaMAOPOcEbE+UL5c2wtPiZrFWiB3HVy1C2Xrpej///2/5CtBKdxkqcJhPkQkFARK4kFAxSVlzvi6PdrhD8dW38Nw+V2jUg2MHYQeMH3DuIUntBnQJOKQZ+c//NExDcRCRKIAOPKcPIzoqlfYtSkf+l3/XXVxlyBE0XGSIIu2VRqTFyMSswGC3Mqu1rVzGcrSEm+G63zF1tti5WmLQRxjrDyMM2K5CvOAoqCz9P31IkddF3/oAz/+hbN//NExEUQ+QaIAOPKcJQYOvmSRwQnl4zoMKFSEQCJfOvFbdZsAo2DYYHrQLxVkkWC48ERYGh9zJK0Gg6SMCJrXsM69zVGg8KpIJXb/6yPcpBxT2PF6IifBMgLrwgrRlqi//NExFQSQG6EAN4SKNrf4tvP/////7uceImc8/9zPQv6+h10pp8J4Vc+hzQG9Fo7u7ue4BXc9zLd9wgjy5RZwDJ/wdA6k3VDFEDI93//53//L/mf/m5j2ZpecpP5PfRi//NExF4RGsaUAHgGubsP5NjikVV69DfWoJh9UhgYLEbiQvm4gEwkckNEQEyWg2Ji84IMcbjMb5mXWysYFUlGK4llh2RAJoJjwWDUSACE0yRH7iteelQwwJw+KrY5h4Ux//NExGwguxagADhYuf4li9oljmLC8aK0796EgnFijhUO074A0JSyeOLd50+Lx2UZEn+Y9l5j//mM3/+ZmZnMtBb17DnQMLG2iYtX9gPGiGQiyn8SCUZstLokhOPx1MT8//NExDwfixawABhYuWs5LC9PFcefTrLJD99nl6GsZQi/zUVKrrY8hHbqq1XK3WpaMnpR5SXH0ETlBKXrjmMqicXS0evNvP4cwbmOZVx6rdXFFTQXEwMCGQXyTK9jXVlW//NExBAWqr64ACiQucjsREVAxuul3/9ZAa1Mf/t9KhyWHJACwfDA+JFTWJWpFYyix0zf+sXLcar/cM0qsfDFHT//tfNcz99cWtQ00LQcULJVTpULuAqIaqC6IGj+6FsF//NExAgT6WqgAMsGlO6NhcSBYdR7RTc+kqIZbBwAOCEG5PuHYHzMqHB4dSlraVmNZnrs6b3LP705+hV2HcNHCAeFDn09EkmzBgSZZln//+F18UvTRftPEcFTB9MShB4L//NExAsVGWqsANYMlKtAQky6fesiBz1COGZPjQrU1TKorflz7L5q8tztW5GfzqX9fW1+8ObL983lf9PyWs4sqrBF4kM9F7uhbyUrOe5R6f///8WOhANq/5Idy09gSAK0//NExAkRsWa0AMvGlHI+LF1M1O22+QYa110Yusk8S2GsUq2F+vo5e8m/uL8y65Ny//ofGgQGJIQKatm5WivCa0IKAh7////QwOhOypXaOmxo33QuU1violLyXythEKmS//NExBUSEWaoANPKlGTr0HaeOdKnMBENNVITbGU9P2+L8Pf2u34tiTzloVomWIAZ76JtzHjRVDh0VmP///7aJGqGWFEKCZdiEQHCgItobqakBKt13rmHEhIljgpEiq0b//NExB8SiQaMANvScOuFw8nbS5OTUEbgVmhSjXUlaBrUkLNoo4pLrw04ssPKnNYd6FfZ//yv/8lVnW3MIKj/l8oHHGMMTk450qC7L3tL4MpIYBlSwAAtYYI5OI+bWehk//NExCcRYQKMANsMcKrdrwtovIKrtjnI5i/APIINJFnx/PgdiFen/////pWVNFC0YZ2FrGEQkYsOtQeIlDn64VTSfhEw2w23GjVZsQyMwKtQtbmoYqjLCOm0dPbhLJxj//NExDQRQQKMANvScCVTkhSTWRFw8lFrQZZ0CMILqvgBI4Ian+MKSB4uUeMKHAcGqrmDhZSm+JZUl/HE+NA3WQ0D/MguDS/nUMtnokIDgcbdVNZZKXkys1FCoBbvFBZX//NExEIRsPqQANvGcP///9RBvvwZ3kXoCpE64xp6sg9jT3AKUWLEoBevE4JVTkoOYT8EaOIwFWyKyLNDmiZVLCzLMpnYfJrYQzjJP0LHuf0f///qv//9KvkgMvWqBees//NExE4RWPKQANPGcDRVBFIExnCUYIp3C1svmv1+F6QGtcuKssUApWuOMRiR17WdzjFInr6zu+Qz0IUCCgkL3pRtI5rWM1XjcwkzvDZHXFRqwoTFAmND+CKwja0JhCfM//NExFsQWTacAM4KcVKSLLBqYxkoIX0VbAchn5u9Y3WhkW8lyMylszInqQY5r5R3Cjhwg0OIYlSnP////1KsvkOZHydXqYw8WATyfxErRAZTcueyhBjK0pKcTVk5MdXj//NExGwSaS6oAMYGcHCX1pdSUubO7mXE/TPvPPLbC4YcMVkekSjkMbyTWIL6Hf///wuTTcl4EaUpRYkFojPU/8BpfLDBrkQLSXMTZDTgKZBH6oxYRCQxg2BTk5AVDbDU//NExHUSKTqsAMYGcFhtThwsoWVPP8+5WQJA9ULKFSoFDxYMRqn7v///mNEjieIzUa68jbJuSNrtIMEb5z6wPkuJcHA/W9whqZmTw+jcHEc6MVMuI0bNN2xvHzvGat4d//NExH8SgQqsAMPGcCLmfd09vzn9X6W0eicKJDYr///+OWpSgZMBoUYuixAhWW08mCF1pEkaPpiYCVMcVqLcwn7Fi63aLttoh3EviRuM3qZX2bdmM0IjqixKEf2xUNAU//NExIgSmW6kAMPGlFhGCgVf///9NVHBaWHrTZQSgWalyuceIK8HkjSXegds0WaHwqgiA0GQ7Os3np7nfN+OHLz+Zta9WukR7WKOiC3kEjOBs/zf//uQS5/////6lWQg//NExJARWQ6QANPGcJjwUuEEYGGRnwEGDbE19iIDZ7IW0kqRShMmFFMCoZm+8L3z/jD8Fe2991U7hUK9+oR+W/up84HUh5lX/0GQeAoXOBdTv//+qhVn5kUWAi80MzCw//NExJ0R0YaAANMElPGxk4CCiYbHBdWCHc1BYJpA+gYIJg8k4vJLmx8dOewllqh7c7p0tY6tjHFluweOxwMERURr//+lbJM5XESmUDtqRON56Kax3j5gx5g5RhQZdYZF//NExKgSkQ58ANvScM9BVZu0WkqADI4NJk8YkuThXzOk8iXJYZX+1PIchryo6qysoqQNErPTr/09L3R49BQrICoqBAwrMAYKjNJeULNPD0wIDZ9WFTzU7sFlhEsG7Aoi//NExLASmZJ0ANrKldks9m5SjVzkMxGYTztmu1b27v91tqm1OUhyAbo/6f/fn0cGjIoDKSDHX3UWADnUU94TMbOx0YQrBQVVY07DBorHZjM4mNJEQa6JU9ft6sjUnanK//NExLgRYZZsANJKlCijX9JVVY4R1cyNFQdSNTVnKuVYp6c2DTZmMSMMCqePa/QKBEztNzcgNMCAQwcF0SUvW8gZNQGiMEf1NV1F4kFqFI80gSYsiWDKwsKuGOQYYaYV//NExMUSWRZgAOJMcXmSsWLQClk+5Q0yhP6a9/9C+tFNozDxM0NSAIUOVM0KOU12xQy6jGCpBIrYjO4vW0yukPYmOChPSjfAaP1a7EKOjCbxIIpFzCwxJ5qjz2HIvgGB//NExM4SeYpQANmGlaealiaJG76IcHNlE00k+RUK3UprBvPFeKYLlTVqTWt0lVRulgpSC2uC5wt6989c5WpxwVU1cnS7TI/oxlhEKw6gRKQn52eUbTrlmvcV0KN2OtEw//NExNcQ+HY8AOJGSLbo4LPpoeLWOcKnXcrVIwGGAO1ANLGb1aNS29vudFEPA6kMYIKrM2R08zPCiVjrUxmJfl27kMszqzQrw8+1t9Yo72LqSO78RX2osDdFIy7wLoKD//NExOYUqP4sANoGcAzl/+Ql5SX/o/XRSn+y7W2l1QqRPT71TOZADCIQRBDIIwTrmHg4uCMRyv2dQjLFYm8hCpXyfYkFvOauluUujkUgKDnRX8xi06qwY7qT3+/d71/8//NExOYTSP4oAMmGcNk6/lfNftxv8+19KgZpBls9lI2ZkSQlVTXFMTKOagxaMHotqIuxJc7kIJ3OCMrSRBiXCC0Z1uRQPs/0zhhM+ttzWfub5/lx3PbRcO85hI/oH1ib//NExOsVkNYUAMDGcR//dT9oGpefvxcRP160z5YK1brU9S00mzQQSjaHOAhyJbAdEASxPM6b61yMNRDmDGc+sGHKBV2XoBjdeHE8QEl4LiB2Tpc49H7SfN8Od3s5ElU6//NExOcTCPIQAJhGcW5HNw4/fwbjPtaE3rWu1QZpadNmspb1uQNNjNXVA3ciN1GWE7PubI5o24gLQbRiGspnpk8r0nOLSKGGeXOOzbFn6MUsGYcxoX0kE3PS8d13PlKi//NExO0VsgoMAJjGmeh06fShDwKBhdjhc0TVA1SGHEnWxzcXzbeZ8FEClhgwGOTLHAnE6xto2wE3DpVV/hRj5lFJjCoywgxjAaJFjx0KlZYkIlHlHioiiVZ5Z0s/neHd//NExOkUSSoMAJhGcUeLOfBVk8WKiLHu6tZZAFwMkMwXMsB5n0tOOrQYUsIhGhkZKF1E1io0MjIwjYbzcu6//9Xf///3YxQwUECBkORUUECVFqiggQkf/wKFRYWULC4r//NExOoUUb4MAJjGlP//4sK4qKC1QsKqTEFNRTMuMTAwqqqqqqqqqqqqqqqqqqqqqqqqqqqqqqqqqqqqqqqqqqqqqqqqqqqqqqqqqqqqqqqqqqqqqqqqqqqqqqqqqqqq//NExOsUsS4EAHjGcKqqqqqqqqqqqqqqqqqqqqqqqqqqqqqqqqqqqqqqqqqqqqqqqqqqqqqqqqqqqqqqqqqqqqqqqqqqqqqqqqqqqqqqqqqqqqqqqqqqqqqqqqqqqqqq//NExOsT2W10AHpElKqqqqqqqqqqqqqqqqqqqqqqqqqqqqqqqqqqqqqqqqqqqqqqqqqqqqqqqqqqqqqqqqqqqqqqqqqqqqqqqqqqqqqqqqqqqqqqqqqqqqqqqqqqqqqq//NExAAQ8Ho8AHjGSToKsDOWOPAeRKO7gYGBgYGBgAAAAAAAAAAIFi3Dw8PAAAAAAMPH5h4AAAAABh4eHh4BwAAFY4eHh4AAAH//+PAAAzBVME8B7hDgXSRyT6daGn2H//NExA8RILI4ANJGTEDIBQqCJKIRSQnBUs0GBChxxKqMQnW4ImaAsVEKAVJB0GiLzQwNOaosRY4aAUb7uh32I/HepTOfj2vwcDYe4EDSitBN2hytVbOd36mWN3WH74Qz//NExB0RyIo8AVoYAFMNiwuIDQ54utBRKxRdoFFASKmIuZoY4l3bkk03Vp776fUKbLH2e5n7DCoyoyLNMOU4/1WTh0tfnQ4J06eMIJYMAEjGGE08AXwBfDfEwFqABICt//NExCga2m6EAY9oAAefiWDADDj3Nw5Qm4kpeNP0GoIIIDzQNE1/zdN2TlwmlMoGZUX3/6DJl9OhmqjpqUzLb////UmggZudJd2f/9Y80Jl1096swLER+i6zFN3VfEEF//NExA8V2VqoAdl4ABeGRFUA0iodfGSOBLWRr309adcuzCoNqMfAdF2oYCV03qPGH+/fW/mfWX9sMESzAhkWjyfN4/99/H/+/e+sUicEHC53///2csr95jW/wVQebswu//NExAoTeWq8AMPMlNqXYuXpikgAFKlXQYFqjnV06QFU9XAGpB0xj/idTxvAcfl/vw0thCtjZPCkYBEWhWvf8UzZu2zH1MEHk9M2Lf///vXV/KOg5FXS0r1tsDzZQQjj//NExA8UyXK8AMYMlDvCwpiUYEBnBwjiTNWhT2+WBYkr63NqkWrvxPfMUvM7HcLPeQ1mU3FoqABNGU8jGaP/vZ8hW8tLmOzEIOBMAO///xy0KsSjIAIXmwxXC4nEKMGw//NExA4UEXK4AH4QlO9rQL4zk2JKlF2RN7qJoGy5/Eu6WYRBhOpLLe1KXmpTzVbLxnwTUlNiEdZQAUfB/usu2jX36NkNBEqWLPAt3//+6irVgcML6uRhMaedtndlrAZU//NExBAQ6QqsAMPQceuAvji0T0yYi7IS4xhun09ArCWem8ZR4oCqmXhm2Xmtvhask2BoqQQDYfCW+3wvOfkcVK14CAcdPMC3wCDJ1IrJ5AwSAQCpUQkFoi+yeVS1Kmma//NExB8SMWpwANPKlQ5a2hCi4jlFhVB6oScO9Nu6wa/OrbrrehuaaWIwCAI83/6IrRo4orlNxSoNDQSYASmL4iE9NIvlaXdHGBOsTIUrC6P5zspkKnzFhXYuyqZ/BJEA//NExCkScQ5IANvWcHFS7++O6+OpuHxM1thJ47ZQHcuAg4eqRUIp5Klo////rSUoaogCCJ9P6/VfNBe6nFmzZsY69Z8HcxGSaiVCDhZ9La1ouopSdhhOmjM+3bKqzawc//NExDIPqIpAANGGTL5ezrRtRaPi6Pv1+KIyhwF3VRBydBGEmzM7GN883BjfHMt0OBAER39v8tn9llV69/l5AAAA4CAeJyeTIoHIxWjmRkiYXE6WIwuT5c9xfYQpie+e//NExEYZ8W50AHsSlP/ukDEIKMNvcD/WHw9l3g+lnqnwQDAIBkmXuP9QYE9afl5kAaWi2YjxQqXHfZlcPulNUUWXO8B2taFKJMs02kZFcGCJEczuVsSC4PlKrlwb7o4k//NExDEbKWqEAMvSlGjFRCZSMk+qKC8mwqJwEEYEMWSIF+1KW0zJfKuKVXLpEzplFMOHnXUkl3HWf+KB8TvEr1UlhvF+z6XNVZiLu4HmKUxaKlz2nTCiYOOtM4MotLhv//NExBcRSP6wAMJScCVfJMP/vbgg+wjtCAENYGCSSpPK/OHLiuekDHRKORECg+UtJ3////8T///y4YWq+5JSGFxdWEHLVZ9Qgir9wL+0z9T83+T3oHeCRbyWA/LVR7BJ//NExCQRgWK8AMrQlKeIZkwYI2QFRPLhGOhzuIX3vcfUIb7G/R0z////9VX//hnLkvMgSJ85fBS/yVmCW4ZxwL8iy5gm/J7mbk3D3JuCQU5uCYHZJIHY2g9PUeBN4Ckd//NExDER2V60AMLOlIVF9NDc16kHyLzSyR57v///////WdLVeJSxnwUgC90DkIKltK3hKog1p9wBQfWSB87VMEU+huQrR6XmK1JETFANPYGhNdfNoVNUsGpl0Ln+VQqP//NExDwSgT6gANsScPUv5f1LfJEeBX////4djjuIETS8XL4usCBKZeAEHRlL8oBMZth5kEEKekEXZVdqWvDGSs4qqNtP3FHWYZ+JV+L1izUSoLasUHYZvVta+7/pR/8a//NExEUSePqIAOPScOeVhv/QrXVVjwpwiBq8OFFK1BkYVI1L6l3HnEN8AFvVIX8hsSq63iWNW6jmtN/6n9RzJ510r6NmlBSqgARdIXS6/FUEd////prKItKP2/bBOiMQ//NExE4Q4PqMANvScCU13AKfMGOZNKAQCFU46USFRCAQkml1N2eVLX9vdwVjTK/p8XJ1uxi4yAAsYyk///ZGQYzZ////2IT/+7oKVbr6BfM6bF3rYAH6eKjZtcyuZURQ//NExF0SCUaYANYGcDZtMsHKhqYEr5SuNdrxulzzs/zKGRf/xV7JFttsyUU6d+f/krVwAH3M////5Ive7/ubnX1qqzRDVHzDOXXPCGc5S0+ZBmziiR1/UjwuGIOH4Ad0//NExGcSGUaYAM4GcB7w5gopqiRQ/PLWZJVt/U+lq3tYzmEp1/9DoosCEkDam////4TcP/5VyCWwreDK82IhQFgAwAS0QihghyDi5UxggaNAL0gQDARIKAAlgDSJsFCI//NExHESOVaUANSElINxLSiikpdFT///M/piLX//o+InGgUJP/////y3+IUuoIWowSMVNOpROxJNUXBgkwqwyAkYAIAneWkpcHUC9Jg0BOi6PUuEsZGy0knu/ootX/8u//NExHsRsVKAANtKlKv6G30bUqoYxQFFSlnnf////yoUGRlMImG4sBlUYfEIVFgOGXxDCs9VzuWyyXCBYgGDdhICCS4BAYwaE5ZhM8FWGTEIiqmEZUY9P0zX31//r//9//NExIcRuVZUANNKlN//VRBENRHPgOUoBikyAVK2BaYcZMSQRmilZgcIEo1TPxJjpuNmRO0ZItWSQty2rUkk2/PWUdlm71Xivu/7moVJKiFoHhTbE2aMFv1uzrh5C1dy//NExJMQqGZAAOYEKCIuICIUHaQlrSwUicq5/QaqIMSSFBDelhZTiqQNou6dtyWWqVZLNGsdmPxZTLG3rk0Pf0eWrpULZt6lmGWPe1Nx//h04Rk49jN6SSqPUbAnF9Hj//NExKMPiII4ANJSSHAgjWF2CNKOsL7PcbUiHyzlsaBCd5R5+Jz5zOHK2lw+GFgeCbzgIIFjiPz91ySHUMUoAHIEEwQBOfRuqslwZLKA/25WLICQAcFY5wU+o3yofHQh//NExLcRsIo4ANJSTOu1U0Pri2FsFfNIto7jQHKI2EcOpF2MAYjGzwFY7YKvI7zMlPDu/krD3mJut39k6QuLvXXEdsP38pBoduYhFtmxcYeVRCHPT93D3pkeIT173xn///NExMMWMM5QAMPScL/+e/v/aGeM//7fum7Txe92gI7EED1q71VgONyURXQILgxEuLsNMy1Q1NkdiewFLXLxIJ2K9VMZlIADaNobp1jnXJfTENE4RLFhMtVwVPLlXxWy//NExL0gmtp8AHvMuVeVn1DvvVJ62phDrjspdEMaGMhQEqtik8pAO3ROK40KJtKB05Mnn1+VE72L3Pb9uqmQm6TjMj9/tO8592Pt3lV9PUzVUuJG87xVRJ8nVZUmgaAK//NExI0h0s6IAHvMuXpfTxSkhiL01h5HUkp+vTUM4cLy44dZYMTgUD8nODIlYJZ4nSPfbEvdpxIl/DkoOJisbyR7x7fvptbjdyqY60a+5+VstSO7ynGlSwitkcm/dCq6//NExFgXUaaQAMMMlGlDX6E6FeCo4ysNAKDTI0uVvGg8rfxLqGTEi5kLiVvIzotGkEETxCGlMhq1yHGjSQGKkEIfPHJuPxxUjjJNbW8atExq+Y+GysjLCYMQI+LfDISd//NExE0bylqQANPEuJSQkIVTAKlMEcE6i1OUPOJRDbH/////91sdGYcuHhm7QwiqwXmfWLWOQlTJl14KL9MmUoLXI7lxk0izDsBmNw9ZNjmFsO4lc5fSxLZLCDIahQmb//NExDAZ4lKcAMPEuEolzwyYY9t023Cj/MKBWfb+69TSPvGw/z+U8ioxTnIikEnUEQScPaHoWd///////qzUigoRZ/6667I1CwWieVfdm43m2lWWFzsYDGhgNtsNAri6//NExBsUWXKsAMPMlBcYCIfqxCjQJqnxcl82YSnxd/quKZ3enqO2Y7GXBQWDp4jtd4bNrHZt7ZLcvtrJoHO////S8nXJgEtUgDCqDxkVj1Pl5Xaye5GjLJMuATBzEgck//NExBwRcW60AHvKlcKVgQ2OgmUg5WlhPZcPmOLH3e17X9uZka171jcMZJr0dPWa7Kx0OOgcqainEPGkKM9kG3Ku54zH0wDFUAvUNAhlKhbiT/Zf3E/3xdFEOQ8hhMKm//NExCkSIYKwAHvGlYMHGfn59/ToeeeWWWRHXAXWrWjScja666mxGMogVve1xZ8i3DxWe261O72ETxduSsWTo6yEh0GU8OaIYyLMZTniTwyUMOlZVs0G2P8f/4/e9//R//NExDMRcXawAMPElGppjyW9/ZVUpzEDAkMdd///6qnJYAWMsRAdAvXslkBRuaQZeWMXEg4dJKCDFgINDJlMZzaf6eOddQ3waEh5xz09nv//a8eg8iggxhx7wqDYoUHB//NExEASiRaoAMPKcEAwbVV///o0//SqmhiykiWznNPtwu46t5qEdZKz01QxS+IpYOOErqLcaHBVzklnkaFZszn5/+f/v//q5VK4KnL29qSSoVmKM6lFv2/////qmArE//NExEgRQYqgAMPElC5g0fYajIwWRRSVRuZf13YZQkmJDC+mSQVUvdYw+qrVDFYnyqfRvX/49v/0m//tdHdymir6zIZHRQokKDQCEsS////2f8tVUBDtYPYCSYxC01xd//NExFYSSWqMANPElBgh6JRx5rqjUAsJgSFIhZJV1T1IkLK16NBwqCTY1XjdUqX+pf3yXVOMBBAI3Hbbw6GxEJZ3bUe///SqBBic19nBFZaMxoZJgmTW9VYzeZiyQgKJ//NExF8RiS5sANJGcA+AoBQZJjWInrasKk0JQESY4C1vqq6yu/dDaGshhRYTIuKuJRopSxSkLd9n//pqkxuCRxRCP0nlUStUx50JnXTIXxGQysDUGFHAjxnEGDbzoBDI//NExGsRkSZAANpEcAwAZfBZqxRhw8CZkscSxzjOhI1dXZ1Jx9L5fQv3Iq/sQ+l2ihIgz4DbChT/XeVbO+TSONRZYKjMhOabU4+GEjqyaXoTATQaeAZVSImS+VdsaEOY//NExHcR4IosANJGTKHaUdW8qjaWPNu6ksMMHutJPcVlR7lT1RsGYya6P7mRBuREMxEQzAeczhaAokOwl3Tew9xWHWijGgoVex5dY0INFWBoIPMfc1idVtzLSjr21ILd//NExIISAKYcAMmMTLJ7BZNB0pUGUv3r+UxexlS53OmEkI+gy4qZXuCFbWfEooasxZUnEsGjRpRNy54oVewAGkh8cYQlas41XHLPStxVInVeg4sClwgXrvSHnrBpBmKs//NExI0QGP4UAJBGcPW9bKE5GSJkE1FHGbNflhrmd1sVcy5Cnw1LIj4UzEGWAU4bInQ+UKlQMRkCCjo5t2WlUq7SKL71FmP0tjymxSnOL1IGYyaCam1q8Ryszbvr4OmS//NExJ8SMSYQAJjGcPQdIxlD9Zu+Y3vcMACVrThA2kJE3E2LcF3DxIPa86yFJm2H6RSz6WK+KLvweyFrgBFq6iQmKnn7i+hxYUHWGsa0pk3G1WGpf/SOkGO5GIoVAQxT//NExKkRaTYUAJBGcMRQVnQ6DTxKWqrGFkFXN/Ku4NeInytR0kzrdDWiHSRH1QvhdSYADAgGxw2eAQQGMKaBiQMsWLGv9AqKigs/4SFxVn/i2kJC7EmRYVpU3+puAhYV//NExLYQkO4UAJDGcEgIFhcRmQEEhUR/ULM1KkxBTUUzLjEwMKqqqqqqqqqqqqqqqqqqqqqqqqqqqqqqqqqqqqqqqqqqqqqqqqqqqqqqqqqqqqqqqqqqqqqqqqqqqqqq//NExMYQOLYMAHjGTKqqqqqqqqqqqqqqqqqqqqqqqqqqqqqqqqqqqqqqqqqqqqqqqqqqqqqqqqqqqqqqqqqqqqqqqqqqqqqqqqqqqqqqqqqqqqqqqqqqqqqqqqqqqqqq//NExNgQCD1oAHpEBKqqqqqqqqqqqqqqqqqqqqqqqqqqqqqqqqqqqqqqqqqqqqqqqqqqqqqqqqqqqqqqqqqqqqqqqqqqqqqqqqqqqqqqqqqqqqqqqqqqqqqqqqqqqqqq//NExAAQuK4kAHpGTB7ADwnoh5ls79+rwQBAUChAogQIBWjRowMDAwMDAAAAAAAAAAAQBgYG4cW4PggCAIeGCgfE5/IRB/B8PlwQBAEAQDI2ljNzEIbW45Ozsdmaafyt//NExBAQeEo0AVkYAOdNa1WGgANECLxQMBgQCgmAyA0AQmgOlhEp4uoWMsJk2qmlTrjvtv2Mor0X+r3IRTxJErdE6URpTaz1rtn+/nlhu88t0FrfZSFzic//W9SmWY////NExCEaEypoAZhoANer/TodkVUWTT//V7orTJce5YUx6If/3TprTdNNNNSSyTLyA8D4wAwBsSH//pzd0D6DM1NXMxvDjHwoCLJAc4JwPE+JEdg8FROGjv////////////NExAsUgxqgAcc4AP/////f/6anrbW6TFeymF2c0eYUMPmKQZUGh40ERphw+YsqTNJiWOA8FI3IiWYIgPBoNCgDBeeJBYlERgfmCgaA7GRwHAsqC3////////5///////NExAwTCxqoACgWvf56t1/3Ub38Vuc07KJ+9OGmzCI17XjYWPWuE0So0Li4d58knWEBksfzggsdoESpiWgnCw3Dy0cA0KY7Fz70DYUqCp/n//m//+bJZK/+v//////+//NExBIVKxqsABBQvWK4R37iPqv//+Km1S2tkpR8Uowf4qWflFs11DLSECsnQ49UcMOKOo84B4NSDglBSOkRQbALCOo0SiKljg9okQx5FzWGj53z5eg7GPEUYieDkyep//NExBAWEtKsADGGucxjkz7/7v/dPn9vd1sNmv2fw3z3K0Pj5f37nUnCoEAwwcpN5fefJf6f9i/8bJZKTdJjq/r+GDG3zOMwYMYVnX/gqX1CrgVh41W51Bg3QDEPXGlM//NExAoToQKsAMPQcBlntjRXFLdm+LeZZOy4LlYORDUe1Ok+rKqxoaHgOBwJA7PdT7mXiERapKmYcb3eYBitbhI9jCzDYnHhgNEn1f//9AxBFdW5IRqU9D0qRT5xO9uV//NExA4UsXq0AMYMlLpVgUar8AgWMCxmAEIfiKN7qXNsSgXVx15bg8cPduTmX/hzCo+PU+Eau43nkeeA8YxFmzf473PfZ/PbuuSjf///3o3vpdfKwA2L4PGvbOuqndxg//NExA4QyW68AMQKlTSqJJNwGY+sgZLJLD3S6mM+HumqYuitMDJ5YeoxarjWr1LjDKJhIepmobQrIXQVYgoDUEjuqtdojL5kkFviAeCg7uKYtafZ9y3JcU+n4SUvT1tJ//NExB0SIVKgANPMlWsun37CDlOGz1G/qZl8lfpujbx/zK7qbx/0Z6pRLIkc2f5ntVaJR+hsJxvKxkhKATAEbb+Ch0Vg41Q+9YECtftbr7P1K6aotMpObtxNs1ylHi1Z//NExCcQwQaMAOPOcEbE+UL5c2wtPiZrFWiB3HVy1C2Xrpej///2/5CtBKdxkqcJhPkSkFARK40FAxSall3xIHu1wh9Mq2+pXD5XaNeG4wdUQeMH3DuIIintBnGBKKQZ//NExDcSYRKIAOPKcOi5UXaGVhoVSPTsWOUQ/9Lv/rrGXFgBmoaGPBlyyUgkxwjETMDg9jnXaWpDJstWkHVui6j3y462wxf5yanwbPM3yS+Fb+jcSl7BUX6Uq/m0jiSw//NExEASmRaEAOPMcM66Lv/QDT6v2oH1zZQYOvmSRwQnl4zoUKFS8QCJfOvFbdZeEpfH8mG1VjdQWAYCHnyAWvuFIltBp5VRFrv+1RI0xKC67f/WR7lIOKfPiWiInwTI//NExEgRAGaEAN4YKAuvCCtGZItrb+Lbr/////+7nHiJnCz/3M9C/r6HXSmnwnhVz6HNK9Fo7u7u+4BXd9z933CCPLlFvAMH/g6B0M2qQxRAyPd///v/+X/M//PMd5ml//NExFcRCsaUAHgGuecpP5PfRiuw/k2OKRVXr0N9agmH1SGBg4jcSF83EAwJHJFCICZLQbExecEGONxn3zsutlYwKpKMVxLLDsiAWQTHgfDUmAEJpkiP3Fa89KhhgTh8//NExGUgaxagADhYuVVscw8KY/xLF7RLHMWF40Vp370JBOLFHCovTvgF0JSyeOLd50+Lx2UZEn+Y9l5j//mZv/8zMzOZaC3r2HOgYWNtExavpgPGiGQiyn8SCUZstLok//NExDYfaxawABhYuYTj8dTFeKzk0Xp4rjz6dZZIfvs8vhWMoRf5qKlV1seQjt1VarlfWpaMnpR5SVH0ETlBKXrjmMqicXS0evNvP4cwblnMq49UqvEWfHoEIaP8mV7G//NExAsUSr68ABiQub2XZHYiVQEb/f/6yA1qY///pUurJQFQjDBYkk1iVqRWNnqf/1jm+NV/uGaVWPhijp//4vmvn7/i14aaKhmFkrjpULuAqIbVoLogaP7oWwXujYXE//NExAwTmWqgAMsGlIFh1E9FNz6SohlsUABwQiGT7h2B8zKhweHUs1tKy0GT67Om8ln96c/Qq7DuGjhAPChz76JJNmDAJnln//+F18UvTQr7TxHBUwfTEoQeC6tAQky6//NExBAVEWqsANYMlH3rIgc9QjhmT7oVqaplUVvy59l81eW52rcjP51L+vra/eHPL983lf9PyWs4sqrBF4kM9F7uhbyUhnPco9P///+LHQgG6v+SHctPYEgCtHI+LF1M//NExA4RqWa0AMvGlNTttvkGGtYXRi/JPEthrFKtZfr6OXvJv7i/Odcm5fy9D4zBAYlBApq2bktH8JlQjAQ9////oYHQncqV2jpsaN90LlBb4qJS8l8rYRCpkmTr0Hae//NExBoSGWaoANPKlDnSpzARDTVcE2xlPT9vm+Hv8tvxbEjTloVomWIAZ76JtqY8aKocOisx////bRIqhlhRCgmXYhEBwoCLaG6mpASrdd65hxISJY4KRIqtG+uFw8nb//NExCQSiQaMANvScEuTk1BG4FZoUo11JWga1JCzaKOKS68NOLLDypzWHehX2f/8r//JVZ1tzCCo/5fKBxxjDE5OOdKguy97S+DKSGAZUsAALWGCOTiPm1noZKrdrwto//NExCwRYQKMANsMcLyCq7Y5yOYvwDyCDSRZ8fz4HYhXp/////6VlTRQtGGdhaxhEJGLDrUHiJQ5+uFU0n4RMNsNtxo1WbEMjMCrULW5qGKoywjptHT24SycYyVTkhST//NExDkRQQKMANvScFkRcPJRa0GWdAjCC6r4ASOCGp/jCkgeLlHjChwHBqq5g4WUpviWVJfxxPjQN1kNA/zILg0v51DLZ6JCA4HG3VTWWSl5MrNRQqAW7xQWV////9RB//NExEcRsPqQANvGcL78Gd5F6AqROuMaerIPY09wClFixKAXrxOCVU5KDmE/BGjiMBVsisizQ5omVSwsyzKZ2Hya2EM4yT9Cx7n9H///6r///Sr5IDL1qgXnrDRVBFIE//NExFMRWPKQANPGcMZwlGCKdwtbL5r9fhekBrXLirLFAKVrjjEYkde1nc4xSJ6+s7vkM9CFAgoJC96UbSOa1jNV43MJM7w2R1xUasKExQJjQ/gisI2tCYQnzFKSLLBq//NExGAQWTacAM4KcWMZKCF9FWwHIZ+bvWN1oZFvJcjMpbMyJ6kGOa+Udwo4cINDiGJUpz////9SrL5DmR8nV6mMPFgE8n8RK0QGU3LnsoQYytKSnE1ZOTHV43CX1pdS//NExHESaS6oAMYGcFLmzu5lxP0z7zzy2wuGHDFZHpEo5DG8k1iC+h3///8Lk03JeBGlKUWJBaIz1P/AaXywwa5EC0lzE2Q04CmQR+qMWEQkMYNgU5OQFQ2w1FhtThws//NExHoSKTqsAMYGcKFlTz/PuVkCQPVCyhUqBQ8WDEap+7///5jRI4niM1GuvI2ybkja7SDBG+c+sD5LiXBwP1vcIamZk8Po3BxHOjFTLiNGzTdsbx87xmreHSLmfd09//NExIQSgQqsAMPGcL85/V+ltHonCiQ2K////jlqUoGTAaFGLosQIVltPJghdaRJGj6YmAlTHFai3MJ+xYut2i7baIdxL4kbjN6mV9m3ZjNCI6osShH9sVDQFFhGCgVf//NExI0SmW6kAMPGlP///TVRwWlh602UEoFmpcrnHiCvB5I0l3oHbNFmh8KoIgNBkOzrN56e53zfjhy8/mbWvVrpEe1ijogt5BIzgbP83//7kEuf////+pVkIJjwUuEE//NExJURWQ6QANPGcGBhkZ8BBg2xNfYiA2eyFtJKkUoTJhRTAqGZvvC98/4w/BXtvfdVO4VCvfqEflv7qfOB1IeZV/9BkHgKFzgXU7///qoVZ+ZFFgIvNDMwsPGxk4CC//NExKIR0YaAANMElImGxwXVgh3NQWCaQPoGCCYPJOLyS5sfHTnsJZaoe3O6dLWOrYxxZbsHjscDBEVEa///pWyTOVxEplA7akTjeeimsd4+YMeYOUYUGXWGRc9BVZu0//NExK0SkQ58ANvScFpKgAyODSZPGJLk4V8zpPIlyWGV/tTyHIa8qOqsrKKkDRKz06/9PS90ePQUKyAqKgQMKzAGCozSXlCzTw9MCA2fVhU81O7BZYRLBuwKItks9m5S//NExLUSmZJ0ANrKlY1c5DMRmE87ZrtW9u7/dbaptTlIcgG6P+n/359HBoyKAykgx191FgA51FPeEzGzsdGEKwUFVWNOwwaKx2YzOJjSREGuiVPX7erI1J2pyiijX9JV//NExL0RYZZsANJKlFWOEdXMjRUHUjU1ZyrlWKenNg02ZjEjDAqnj2v0CgRM7Tc3IDTAgEMHBdElL1vIGTUBojBH9TVdReJBahSPNIEmLIlgysLCrhjkGGGmFXmSsWLQ//NExMoSWRZgAOJMcQpZPuUNMoT+mvf/QvrRTaMw8TNDUgCFDlTNCjlNdsUMuoxgqQSK2IzuL1tMrpD2JjgoT0o3wGj9WuxCjowm8SCKRcwsMSeao89hyL4BgaealiaJ//NExNMSeYpQANmGlRu+iHBzZRNNJPkVCt1KawbzxXimC5U1ak1rdJVUbpYKUgtrgucLevfPXOVqccFVNXJ0u0yP6MZYRCsOoESkJ+dnlG065Zr3FdCjdjrRMLbo4LPp//NExNwQ+HY8AOJGSKHi1jnCp13K1SMBhgDtQDSxm9WjUtvb7nRRDwOpDGCCqzNkdPMzwolY61MZiX5du5DLM6s0K8PPtbfWKO9i6kju/EV9qLA3RSMu8C6Cgwzl/+Ql//NExOsUqP4sANoGcOUl/6P10Up/su1tpdUK0T0171Vp6CCCcSzKwVeK6EdcwODiwQjEGzvvOoQ5YrVeAoylGM4p8ixnPbOUzWm0uTwiWISuRdUy01qy5UEEMdSSe/z9//NExOsTSP4oAMmGcN71+nmydfyvmt5uFfy1r6UGUQrvZSNiKkhKtNcUxMRmoN0YPRbURdiK53JCcz0ytJEIi0FgVd3Z5H9XlMfllztv2e/3Sr5cuflqUT815qfN/9f///NExPAVkNYUAMDGcT7MPt78WzD59sq8CtW61PUtNJs0EEo2hzgIciWwHRAEsTzOm+tcjDUQ5gxnPrBhygVdl6AY3XhxPEBJeC4gdk6XOPR+0nzfDnd7ORJVOm5HNw4///NExOwVYgoMAJjGmX8G4z7WhN61rqoGaWnTZrKW9bkDTYzV1QN3IjdRlhOz7myOaNuIC0G0YhrKZ6ZPK9Jzi0ihhnlzjs2xZ+jFLBmHMaF9JBNz0vHddz5Souh06fSh//NExOkTgSYQAJjGcQ8CgYXY4XNE6gD0ZhxHKuHNxfNseZ8JQSltLCSrxKSkwEej5Zto2wEKONSUKJ/hRj5lFIMOFQUsIMaIKmyONKofyiwmCuR2MK8Xp3Tcjv/zf/wq//NExO4USSoMAJhGcd/DoTjvBbedliFfxt3/8L/xhQBcDJDMFzLAeZ9LTjq0GFLCIRoZGShdRNYqNDIyMI2G83Luv//V3///92MUMFBAgZDkVFBAlRaooIEJH/8ChUWF//NExO8UUb4MAJjGlJQsLiv//+LCuKigtULCqkxBTUUzLjEwMKqqqqqqqqqqqqqqqqqqqqqqqqqqqqqqqqqqqqqqqqqqqqqqqqqqqqqqqqqqqqqqqqqqqqqqqqqqqqqq//NExPAW+S4AAHmGcaqqqqqqqqqqqqqqqqqqqqqqqqqqqqqqqqqqqqqqqqqqqqqqqqqqqqqqqqqqqqqqqqqqqqqqqqqqqqqqqqqqqqqqqqqqqqqqqqqqqqqqqqqqqqqq//NExOcT2W10AHpElKqqqqqqqqqqqqqqqqqqqqqqqqqqqqqqqqqqqqqqqqqqqqqqqqqqqqqqqqqqqqqqqqqqqqqqqqqqqqqqqqqqqqqqqqqqqqqqqqqqqqqqqqqqqqqq//NExAASKGoYAHpMKBNC+gZzHgJwEGUYoJLXXmZKegiHh0+ULvqCzi74IAAYcXnxGD8Hz8PnH/BBwggmfh9Gmt8QU/h+UBA4UOLesHwQKQQBN/v+QJovoJQZozaOqX6o//NExAoPwH48AMGMSGwACMKMCDiJQDHEU2RqI2OY5hG4mhJha3e3TaBgkop3Vff01DrfojTbqLGFNAEWxacpUy3oXoYpO5tOGm1x6YUD5oNMmXwGOjEyqNQ4CgwAJ6mB//NExB4XyXJcAOPElEEgYHp2AfB8ADwBzHGh6rTiopSZ5rN9Z39///0p9f8/rDuiudCE61P9Ttue6EOLB4Bv///ky4WOLLiAMWX/1v/01YaMQETXupWow+dAVQIwAzyz//NExBEVWHZ0AN6YSCY7UVOmFaMRFG6CAcJNVHzFhUMANAiEtEyq8n8GfpQvYkGHiEmlamETkvvISg0+lTGf//eAz0WB8LHUyjdqz7S58VeCCqjCDCY2lEcmAjFmZrL8//NExA4V+S6AAN4EcIBnnOnK02Um1hDP1LkdiHmBQAFRujDUg87W7UnufvvPye/vfe6nGU0ZbnciAAsDODgtWwUMEWAAMBz//96dxowLW+7FioDeaT/X/QjcPwKM4IbG//NExAkTYSaYANZKcGCXsrGBp4Ryt4W+DIAQGZwC9DAhA5iOhongoeXP/ZhyWTWe8MNpX19fs2lkjhMTKd1UxAwPhASCoft0bif///+Kd/9RJcoJCrOBxEBNUCh14SIm//NExA4VYTagANZQcIvnOCuuIbDhXjRUVe9fZjhtxFFxBILCEJACQik3ROlOVInm5Fafz8Pxx/97JSi+DQ0wXOPYeYBIG+IsAgH3Uo2NT///yefiReXyzDHowKFz08TJ//NExAsUOUawAM5QcMkBtDmNKMOZcDMUUJxkLbN1CxIkDKhGmoJGlcMQmuXuXrUpxXXP6bV/McpRwbFjROw0bTjmHCogGKQiR7aP///9qnOr/9TGPEsivKw6xLI2jJGy//NExA0VOUawAM4QcFMW3deMbBZfdfm5DPQysy4iCLVpFVi8rnvtIKgPCIgqey21bXy9y7LSxRNsKi4kEcoo9inslEJgolxoMCOfsT///9Z4lGf/191BVYe4iYJHV7Gi//NExAsRyU6sAMvGlQNi6LhxgRV2UvWRWhqZl00zIpRspdkLSAfwIqAxMO4zjiFH3C9o2s63Z8mtVFGH1EqRrnaWtUnULiop0irCbAioGwqgJhCWFA5IousZgHJ1LZTK//NExBYSCQqQANvMcHl2fS8QoUCqhzQHKLAVxgnMxlgiPqkGRrI5xyO9bNrNNauqLJOEibNow6vkyX///6al1a0FjM4NKtgEQsFZFwPAFUoON119pr3Qh5rLJ7GRMoDo//NExCATaVacANPMlZmwuCooQdNpiKpEIzIq3OHPHvvMOlqQzQ0J+ydHhaTkK2O0Z31nTb+Ls+w/r9LKqOyN441gAhzdxIli8ZYCVpozdA9quAPl3IO9/OizIbmodbPC//NExCUUMWKwAMPMlBnssdBx+yqu8GNmVrj2J7SZBptzTkDRwRpFOy9x4vbbrIRqdun+nOf///+m/CNhPpf6mkjqtiVfqhVs4/AbSLukjH65LhXJAWS5upbZuhKPBLsh//NExCcRUVK4AMPQlR+57qya7VjJuZHcmnqEqEqdyj6pUkVq+5jqMZR4/urmUpA+JDcIRQjGNkQ+3UO9HCA7CjlhGlNlTrG2tQxpU07wXZWxtiztNe50hQdQp2LIWskx//NExDQSeVq4AMPSlbQ05MUih0ULdLT2451arvzpZGLFC2XVWVGs9NVbZzaRLdwrpfxXndCNHlro3WFLNlvVW7q7fKSrF5QlYTAyWOFHmDl2U7u3j+66cgW0vB80tOvD//NExD0SESK8AMPYcANFzpaKqar///DyFfqLAmMEWbixGBYlFaWGXdluH5dNI5Va+T/v84cciVZEUAgokSI5tU8vL93mc1jTcz/D//J6SUjc9CKn52C+u7hxemloGYIY//NExEcaSmK0AMGGuURAibvvv7yuMaV5XHpAlwMDF9b6c27WEiaqp3C1zwjjvP0qQ4FY4SP2/////yX//4DP//7729fM/sufb+0HbLXjZsLIngxNEgGNuWRPPDDB56aZ//NExDAXCuq4AFBMuRGHUtWBCCKWwQLgwEyGYg6COxNkU+59Y0iAM3AYnfcqPk7UYdBWuZKeLcjTVYxf/////////5f/8LSm/S/Vzapw2CmopK4aLRAzFTQPTZizORAX//NExCYR8rbMAAhGuGC4ECBgxVAQCbDuZuEClR3oUyNieKtWIbByJQAEiFhKNjGYf/////////7Iwf//v3/3O31mmDHjo5r27TJZrnaLWi+OzF/IuFz5bfWZsHVtVyzE//NExDESOsbMAAhMuK8qfmz7bayoZ/83bZbw3b2xYEOmWrfpNKGRtOi7////8Qo6/87NAMKqt7f/X7flNp2nAKxMd5I5L1td1EYtLzMacSuv9dtec742/M+uajv+uG28//NExDsSmjK4AAhMudq3eVE1N4K4FExTnfi7/3X8l0gL7QCy6fcMll04MmsDTya0Sf96XbM3f/tS1GIMgIKGe3rRmIKDhwTCStXCoZQODp7v6BKCsNON/8U7NG//pi5N//NExEMQsPqoAMGKcKVlQAlCR5/DOGGLPCDlC9GEKdihIRYH24ONYQZBtF+Wu/zVxRVcYRslpSXzvy5L1ZVFYLKJMh2oOgkH7//O///0//iIse1PIk2SpaGU1gOaE3zh//NExFMSMPKgANIScM/QdCwUYsDu2QghQHxmG1ERlkJz0gC3XopOa450LNnYKotVT8FXzalGUiBEUBlQjierV41ohf///9Cwr/+htPkZWOTkC/4DKFANBgBPks0CkKhY//NExF0R8O6IANsScPisVipg2RBttGgYV2lkCh0jEZYkDajB5vd2UF9eolF5VVsrIAGzbP2f////t/qVsVwRVPQMfQAkDplWLssNKIUxcYFEUm4BAqEsPwxDLlSSoYG9//NExGgQ0OqQANJScDkyeWMMKkWEYa8iwLkQgtgwQDMSchQ/Fe3VTkcQDAsn+CeQgYCgRQ/O7R2cXtv9RfC2f0gq9EYKzwwile//T/5AVHnmxIg24Bhat/UMcfDARD41//NExHce0V6UANPYlKD4gWUVuULiAsy7EbAgxxn0EA9AZdcJPqTPlo4ISmOueEr/mWHGfKd/2FngvkrphFsdKw8kIb4C3SIjOaMsjzwYLskUeh10HwrYXS9LTWxlhGml//NExE4XuVqoANPSlBaGf///7P967I0eAGwoaNsQ18eKSor46EwfkRAAb54wC8lxB1jpv9odun+4b4qasFgYSAMB7dMm5mgCZBUyjguiRJXrL7x+/zGx8vzaw6EB7/////NExEIRyU60AMpMlP///k7VVdYPudD6r7DKha+RRIcgfrG4zlSyKL2RtZbovcj5mWowmZsolhF1Eg+kbxIfS3NRguxRvClfXM1039fyQ/Yd1f///7AcF9FelKD4pFTY//NExE0UOWKsAMtWlC63KEz+1DPynqqe4clZiIQE5sfZNvAUDje6W+Iu/Djft9qQEL6D4BtkKDU0D/SjU5sRkQGpo0ShCNPamKEAoEQ6QPf///+z/agNMYQ1U8b4oAej//NExE8SePawAMvScG0FToHILicgGghjLuu2/1GXBY1AqRamRPnJKETkrLQwyBoeSGRTBOvKJULsIipxwDC48tk//23RyyxZRn///7P/9T+06giS28Bg0EJHSTxgy0GD//NExFgTAW6sAMpKlKvcAhTtoQIDAZLEo6jBDMiMpIxbiNlTNKpoMJSKiKchC5JVlJVqcpLyWmsdo6My7LQis/W7kMlZzrgl8GKiGSbpwgE2DhLSxYu7LzS2bCyJRxAQ//NExF8QgPqUANsScOtmCybbL04dDabkperrcqWwOPHjhwkYEqA/Hjihzf//+1Z46zf////9KmjIASeYmKcG0tBp4cyYAYUU56XsxOXGcVNjusFAftA1Fql/kpMpTjDZ//NExHARmXKQANJOlCqtYw0YRExAPA4OGjhUBg6HR5k///6WIcY+e/////RViQ4eNkHBgA6idQkAmmvA0FULmQ0+GNbjgPcjeTuGNDCNtbC9d7I8y//9b1vNGWIuNBkb//NExHwSCW6MANJKlBQYFwRCk00fs3///1U5io9597////jlxGZCmpI+JmbThLrKQwqVATLWwQ3uoHgugJmxM8maH4PpA3W03slZMwj8rI3FSjRUTEHGiYFGip0rX/////NExIYSYXaMANMOlN2YRpJg2Sb///0fiqqZHciOBYmBDaAR8I1kMKCEpTNyx8bEIjGwftn/CXBdd8NFu1+S0Y+ePGNT09ckUsHw+hMRIN/+kXDYjMioTd///1vtkX1F//NExI8SCXaEANJKlGwmWI1ALPgwkEeUGAcNYcLK4CDOKGw1MhImdaJh8k8qVvWHpx2zf8/vG0zTKAkySRBZn/9XXNh067d//+gqNnJCug/JkAgjqniVwWFIXAA4G/Rg//NExJkRAOp8ANMMcEVPAW2kYmnoHjVW0OSu3Ljxt2vaqm9x6d31KyNcPQlxzFnd3fWhSGPGKUJgKqt3//suOocmawATY8VGDgsxwXMFEDLy5EqUR1dr8+0QnoAsa5S2//NExKgQMOZ8ANMMcKr02+ZrSb0reY0MOEoaba3+lTJBp06wqCZ0Qh3//doi5pomPGCVFSEcAjCc5TIrmOqwCDxviaxwvjWZ4kPFCrRIKDsSMgoHwkHYJPaB1jQiddao//NExLoSMOZwANMQcIEHL7lHfCq3LtDqCv6fwZcWPVnZEZUFRv7qahkOGATkcIE4cHGekwglqtrObqkwxUH2INBZ1RQOFQucnCYcCDwiyfIFVl/F73tVEN6mPjZ2vuuW//NExMQRGNZkANmEcGHr9yfI/ZOf9elaEQAz9o16dYJdTAF2PE7D/3tQ+u+B6BwJwT0YNCwQwJmxgTAPvLDArltyE4A+rbJ73XveZu/dt/82Zp23pznTS7yFZXFCK6Oe//NExNIRwGJIANvGKNnIzu6nEgAEQoCGU6nU572on9/V2+v9Knqe1iai6TqTup7ndUIQhBAPmpn01XDSaZEAUo1sAZZROGnRBNGqRkqD7KnkaWX0k6CZFKZaIOk9EKJw//NExN4QqHJAAOGGSOk+p31WNbYIHiQ4akVFYlKPKTXt8ap9Q4+9Xh21335qGxnaI++IQggoIPT5h5DdpBu/7+/2b99vfetl+IjL2I772k9Pf7J7Dn3rIXZkRJNTQDpg//NExO4dCtZEANMKuOU4gE5sEAGQn+hRMGuBTl1SDOCpdRr6WGSVSXfKvKIYhVuMTkBr/acKiLerXn5Q9tuAZVYo8q+V7mH2d4a7ru8ec33tN21n3DLPlPd/dbI1ttfu//NExMwgwqp0AMPMuMxApRQwLgnhUmYPd4u43K///aMh2yPN3sOexiMEJqCddDDEGlDaOz5R3/955zJ9G1pyddQaBtYcnIMC7o2Wuqvs43BY5U8CYkRQUYgxtY805BOG//NExJwhcrKEAMYMuYIOhDaGmwDAWiDzuCTkjPYW4O77t/j41fOs49v///yXUJVb1Ru9DZTK10dD////T6NlaFEmQKQUeQ6bR2d367jzCAaa5yG1kckng4ubQA1xjphc//NExGkVQhqYAMPEmOD07LoIMWLIhtYiIBsEDQghtDGAY+GDk5WMhsCpmqBFzzIkYbZQPZ0/mh/Jt8pn3mxauITppHhO7GDUKE5hItcHjWCAMKPAACxTS7Zn/+pN8xqv//NExGchEnaYANUOucz9GvIVQ3k3qecNRueiDUm6P+lnScP8yp3mcvd3Fc6XS+CundjIqdHssFTxhmY+mt3RgyqHRTAopAsHHaLLAIVhQebOJcKmtZGtnH0j2cfKT5i+//NExDUZEqKgANUOuM+SrWICSbrHNJtFZfKtQRmeEZZEB2WRTe//11MfXUj15v9dDu3HtSL49q3RakaqFdYtGMNCNmSaqsEZheaQDK29M2+B50ZfovamrD67yghb8ZYS//NExCMS6UKYANZQcCEBPqracJ+rv2ceBt+tezcf7Nw16r0NDo5zAFh/Kt+sYrEp0Snf//9SAgAIQcVLD4wAzMMUCFRdGkEAbQRGDhw6jVH29Ycg8yEQFRwEjJisxWK2//NExCoR8UpkAN4ElCkUUmaSNWq1/G5394///+t/5n//cMDASlb5fcBeVgagGsABpJId1Um1mZkYIGETDoHW04SRUWjMNVe6+lYCulhqwqpWIuSGmmvJMQOBRxKlJ5sa//NExDUQWH5IAVtIAOAyQ3ChYigqYqk0fRUQmg/MIRBqRRkmQ1YYtdm501pMOK85D+kBCVaVRomodI6Dyuyz7lYdI+AdfQc8m4og4wxgNEOX/SWmbsmFmw9AG8AWgC/I//NExEYiKypcAZqAAM/ptdTMPg0JwfxAM1Gj/1IIWbYgxOkNJoukNMiLk7/+7N3ZrMQApkaXjpmTC5oZn////X9aeg5cNFGRqfKxqbFAspIZAcKNo5Mz616Q4ck0PHzX//NExBAVcWKgAc94ANvT6//+t5/tAvFkj/GKsT95BiQXjk0nmZBjsqF5KgjK8cZ0KxvY0OSrdNmHPSr/ddzM6fkUjhkRkAGF1FG0Hnv7XWO2f6ogQqjnBtmkEcPoeucy//NExA0SMVakAHnSlOSDD9tKHnnO/WrXOf1WNzgXofOEq3Lo1FVDlOiyAZAKRKe3UoRdWz92hQiEBhoQgJ/iI8e/+ipbCn93rpqbjIofJxji5tzKJ8A4zMu/zEvPUUHr//NExBcSgUqoANNSlEtSPNNa9RRNpgDoHMkYFMrpX/ktpLZPiEouSCPsgLxyAs1aM9R///+yzcRS9W/zYeFGk/1QjpxvuGnEHjTONXf/Xs/curfp1fGCznFgBdx4rq2j//NExCASCmq0AMFKuNTMQgQAyINArVMa5UiPt/9CW6Sf/06N3/9z8jHOgorxM+/40805ZoVVXUABROJwjhKRbMywTyST////81Ez//y9//lfMazOiPeY7ZnSm63rZe9N//NExCoR8mqwAIhEuVnVDPNYsyqCdGKyozGFP31uOx8Vw7e3NJtHHq7bycZAEnQ7//+/9Op2uOiHN/TxZP6d///P18/RER+ISf/7Fol69poh1+Fu6JuiCKYQATsTw4GB//NExDUPYu60AFAGuZhAAAAI5/Q9tfpeDUEkq1FsUEfbx5nH/MfPMC8AEQAKXv/kiV6LtqqqWrKZ6lbKanmN6tR+v/R6P5W+9DVbmearllblUpHKUqG6wxgwrQVPCG1K//NExEoSauLAAHhEuNUroFGyOkPRo3/YLfhsfULbPhX3EMGm1Q32zs7WwLQNsUFQVQtaPSlTf68s5U3mED9pm/8/rfzidSYFfETSdFv////66qs0xsA4UUZqoaQRF77O//NExFMRES6oAMMScEekMvM8vV4ASc4aH4KRGgoYLVaE5uVcGEt6v7O3xOZJK3AgNM8VZRDPuVu1VZYCJQDjbTclv////ugvRaaMsSOwAHoTulUcMk4xOL+DIsCxKEtK//NExGESaT6kANPMcF0FgvV2DRi0XTl6Ky3bGf5f936kvZxrpErOEYpMnREhijYt7YmDpoVN/////SdWydK0qsI2oAbbeBwhD7Bh6+gd4TASkWGY1Cx/lUIzRrHOlf5///NExGoSSPqYANPScKfOPhoXWxvJ+vX6TO6Y/1A2NlQMS2jdYNgKNh1biH////flf02KuzCW5knumG6AjJxKGgeBzEiF16IsvV4AkEWFKZFe8d7ajprdJrXJtwrxoOnM//NExHMRgPqQANvWcLgdBc8gCHXkKi50E1qnJ8oGvP5Nuv//u/9KCFXG46I71JxThYPRY6lqyzHQ5oXSM+ME3p2M8cKc4o2D4jWU66nytva33VydaYjcbHmg6JzTc189//NExIASCPqQANvWcHi1q3JhmzFHyhJn//Cf/1oAqkxy74yGGtf8tLnigePM63FURZYUYMycw6PZ1E6DrtAvpNxPpJBQOxA6UzwWK4OWQHIpUBiKW+ITqvquPelgUk+7//NExIoSGPaQANvWcPr//9TEM/1J00lQaABUDP9lEN2smIMQcVXxUAGRGNRgoCoih3uEzw9tSHq/1h98NdflJlPXwcDbrCPFhXhlr/ke78QB87T+1Pcrp/+mHrSo7fn5//NExJQSeTaMANsQcFHBPd///Zu5Q48wfotcpGX/jgGqaTaVwcAEKLLCiA9BgsviMGlCPb7ELgGW5NVhPoVdNODlrLh/F3lqxWIpLL5JkDhdk6xAWY3RDTANw4t3UbjZ//NExJ0XSUKMANvYcP4/XOvBKTmY3qYNgljZx4Zm1b7/b//////Tv61TRNkT6THzRAWqVyyTNqkGgiqmjKRR6ZWl0xQxUSDoR3SAjHA6k0mBa+DZN2sWLWlNTFayQUKo//NExJIbQl6QAOPauKQGBM11InokIbFokUBjRpQMkCfQU8sUnYdYrF+JN/l0UcoJQxYOWOa///////7f9I8g8Wl9bkfWTYwVNCpWpYCEQ882BlLxgGuLRYyXJOQChNxn//NExHgYskaUANvOuLqUd8eyyNXacQxxO8FOi0USkxH8UpMrYW8FV5STc6HliQqMdMfbYz5r54i/W2jtiGHS51VH//+79ijZLuZ/2Jq5AYoaN1fVIucyF9LuHQokD2Mt//NExGgVIT6YANPWcIMIkbyWFhUSFAJYX1VihN2IQJjjfkOsAr53wbobWVcCASMIAVVzwIOX/fv9ryduH5uX6XN////kchW1IFXnThCLbKDBkoSAmDiM8FsR5WRJ36qC//NExGYTGUaYANYQcBJOUCmw1iXt2DwNMtrXnNvjb1QTn6vc+v/3MP+i+BfykyQhNkC6vD+5icd6RBN+RWMMj2WVxmhwc8IHFoA45WBqRC0DjYhKwKUxXIdave7GRomF//NExGwTUU6YAN4QlaKPK0T67Ifp5uL9whu/y3z7vf1T9/uHN8FplGZJU0CoPFJd4LfP9XcpaYt3EAXtRp4E/3////Sq1deAwKZqOki7ywMMgBjd92SR9fsPEApdKMQ4//NExHEVSXKkAM4QlJuz1KFlV+aYcHgT1uQxfW4X+6Xv1e/9zv1f5j/c/Qw1SUiQBhoJHKZzTMcr0aZkiIoGR7Lhjv///9H/rm+29kh3vwtoCrNskK58uhXhDykGoEKg//NExG4VOXqoAM5MlDKgSwSAtYBOAtITLwxVy6W03P5i+f1v6+b4rgq1UIPL4JjxtwVU5NwUIkCwpqSqsoDp0/CZQ7aULGUEgiERdRfBiEgSYXgbrcGz5MFYIAQLFXSG//NExGwRyXqwAMTQlAXUS61Gl1n89331eo/UeqgfCcxA7jR9RZ3IPwO0IFx3/+//qtsW/RX+XTey/tWVqXJtNbu2QucYDVBdGNA6x6PsfCReDih2pJh66SiGPME8weZ8//NExHcS2YKwAJ0KlBavpg6EEyAAqpMEapsLVRSEEOoc6Jv////1quZugC0YTTKkaFOtVW7jNqrSJjFvFJhLhIxLGCqaYJa6soDqsXQ6Z4a1TEOL4f+IpQY9F6h0M5oO//NExH4RSWq4AMSElICUiJr/k3IdbzVWC6H////1pTXs2h2A8d99wCFZlY6KuCoMsYsRdhgzZUzlpqUW7n9N48W8hSUEgXBMzHYZso22TW74v2+ittNj2vlpK3U8OqaV//NExIsSmXa0AMvGlLf//NM/QKJEA9yP//epj7ZjBqOM4LCsUUpVyXVLXRpTJg2NNWjVqreyprWWXcbW3KunJNJQ5FEESzPfLXPAtcFXKBmCrv////+mJRjfZlmDkbVK//NExJMTcRKsAMvWcJKNfJQdtJytOT27P9130Hqe7q3S1af+2tTLT//rdNdf9qnzOcY8kYG//Wy0kFMfJwvHyBl5ZEBjy0HT31L37SfN0ycMEjcpnyfHYTQN4CCjngbh//NExJgQMLqMAVlgAHBjFJsZwdAndqm33XqzdaZggmyRuplKbHKMBxi+DjBbh2DjDnk2OWMwShBFnGDO2ogIAMjV70Rj6Upj//4//xq+7//4////////xTX/////xj5v//NExKogoyp8AZiAAJvvG6afv7yRHlbYre/98v9Zu/mjzqNiWHJTVOdgQC+wMLKq3mILEnXivypkkTEwswXzCxZgybewbNrU5Onb5kgQr4jxGaZ69ZGFTRcs000kbxNY//NExHogYw6sAcJ4AI3a70xmbcFl0OmvvIO5vojgYtkTXSZu7n97DEiSuWaF5Tyy/1qOqW/6yecGKZxJxEoiZ6Pu10cqs4io41HK0sxlKW1HEQ6wFISoB1qQteIgkBWC//NExEsTwja0ABjKuMefPZKabqa+nMMBTMP1msMvpnAdiMyg0DlL2LQWE4XkVnY40TbpxbHJSLDW3ttYDBXDVPWTM5uWHiZmLnbNtrM9u6+5ZP0jYMg9Wm3G8G4VCw6E//NExE8V4aKgAMPGlMN//0xc+E7+tcLYQUWtGwuO28a4qd2Gxn6YIzzjBNoUOAGgoiUIbIgE/EXUR4yJ5ID2QBIBgvMjWMw6kUOU9h2VkvZqalmK0V0u9USPvC05EwLr//NExEoWERKsAMPYcBOAx4fCwgHf//t1irySFfuDKJpsqsU/AMXoWvWpSt6RiEIcfI9Lo/miZDrVWtTxdO9tiOdlHHwsTTzaj0vMQeobg7KsIh46S2W0zLMiMzRKsB0B//NExEQSqWq8AMPGlJoVt////IqtHQTmMxEPJewc7BH3WlfaAGKEINrsE2o8xXWVqgScvPCEyPYVVLSnjGWa1Sw6FMt5bpdkZBpxHy2139N/stvqZRSpQceBf///Moq9//NExEwSoW6wAMMMlBYfRKzRAQYDLpEBUaaUUHxpVJaC9NWyRiWLWE9g+P8VppmcASWUOtTM9s1G3adnr9+TluigmL3eXHtRtfzyv//1WtqDtQ/RqtkMPYUEaUacFG0n//NExFQR+QacAMvYcJmdt3IPl5oRYIBlgeqRkT7exgNcUnJVKaaZcjCJVxH/p/t//9c+XsLjzZZyDKPL16lBgUGrh8mqw2gT4oVOKTo7CTVRUbH+N6MO//+n//////////NExF8QyPKcANIKcP/9//QjZGOQi0ILqL3odGWp0GIRT3gAgwd5zndiJIpzEIjHQinkO5FFwCCQRyPVisHI1HTDqG/////8+r+hDuk52dFIxD0eexDuWPclx7DjMUgu//NExG4SSuawAHiEuUOqsyGOUzOpzOtxBQ4dBdHQ4mkOHElq8SIQTD4EnIInQD2YJn//////n//D7CFK7IQs5QAx5TNJXe8reZ0jpMTxDjMZxT+qyHck1pSMTgmN4CZG//NExHcRcw7AADgKuXztfeVCOAjgC9RVoJ0ozszf//99qAynZfy///9sioHRg0xCsFI4YcqBRJSoti2e5irN6KZ23M6JuJN/LenNoZG2cqWKS5WZVMUyGB91Ymwl5NCA//NExIQO4vbEAAgGuQAkLUdyOtff9lkAz9+nyp3T9+mnuzg8cZ/9mkNpyl3tbf/+3VmMpStoXzOJEJZR7352r7xZHf98lU/cdYI/rJKtMAmQCa09YkfIjn1TnCML+Bxk//NExJsRIu68ABBEuaJXZssdpY/aFjKgQiZFChaV3uZg6UJFzKvqqnLL1/iMmH1PLz6iYqPCT/////+79NWmkDrH1XDQNRsKkBYs+ohImaEuwPA+oeCo+qvPZYPmk4qL//NExKkQqYqwAMDElDQRwO7ARyADKB6M0b1myxoBmwVLWr//7vbe/yGp2SkNX///b/1itvIqpW2HAz4yKAVHQruDo7JKWLBtu0FpHYbP+Q9fsW1/qSxEybarJIV+nP17//NExLkQyOKkAMsYcEtfuwsP0Ktpcxy4IQw/lH0f////1vdJkBy/pp+82QxX9RmMjlUm5Q00UW2t83pEa9qHxqp2oZiqcxG0mstpBUKVyFA01thPo847mMfWEMjwlcGH//NExMgSmTqgANMMcB5jPWr4f40/3Tv8eHKNROf///rGjm3WCBjGH0Tj//RVoIfiANqWqUcbhBavLDGhlGFxWJpkMzuUjDm6tQ66BYf01nI+wNBktKus1PianOyDzDW8//NExNARMNqcAMsYcOW6umu3ywV1LjWWPfh7ef////rEhKy/6zC5LqEdrw/QDi+apY+BFc3YLTyZMFP4GNNWzLRvfDpRuqdrgdxqbglhny3JqlS6vrolVWiqV34ONeG8//NExN4VyQ6cANPecNQVjWdOfgsmJ//93/+/Ra11nxkkhGo8FC8FME43YwAqJgKK2i9pzO1fBe6+Xf8Sf0ZbYM6JtTA32xsLsfepDzcdt55VXI+VT50xfMs24J0xtQr2//NExNkS+S6oANLecML32+VdPeOkOXf7V//l2YinarNM0k8PMeIwMiiJvYOpDGjHkv1JHULjvF5OdPZOdkiPjUzpiiPJRJAJNBILS2RRLw0t2Dtp5WW+N16B6sq+S1yk//NExOASKTKoANMecJd6bitv/9XZcs9rtH0K5TLIOIKE45CmECmG+zgFDLm5Y/sJGpCupmOzN6y3b9jZ9juOj0CwRDgCTDFjVWYSxEKSo2XwiMROSazZOcjs0HKpJqLk//NExOoVgUKcANvecOgZSSAEcH+ln934o68u7/Ly/+m5DYEiGBGvEFDBrEKLDhCxeVNbeflQwRJE4pTkqnKN393NlmofFOph9kQg8CJ9pqGZ8t834t8Rc1DlqZqblRop//NExOcTmU6YANNWlD0tOtXbOhNxL06e0hV3Tm1lDyfOEEDrtWnrsEnyFQjHNeZmzRhUVSaY8OW+4ykitHdmWzvv/7+N+9twxbA4wTBV9bWNfmdrp2QWPDjIWhSZRyJx//NExOsWAVqUANsMlAhouFjCGP//7EC3bKUQg0AZXSs2IHs/YNrFuwVLykws0DFRkWCqTNyYDIqK1N0xggLAOY5jEMTb6+96M4aoPhe+Pf/+eHLr84RKA71hnQNYViA0//NExOYWQWKUANJMlIICjNHev/+76aAIPJd2uGyh7+eM1cFFz+CFn4Coxyo+ZuqScbfblLPwIkAoybQzeH4rv/54rPFAfcOw8U+6rTfiodbUeYzNeNqFgToD0EjmGjA8//NExOAUoWqcAMmQlP////nZZT//SoeLunZFQODDZXIIUEmDUwFNUHIy0yysngqLFCsgHWofRFXhRAFQbWPXCEqW1MyRCYKgZAKTOBEUqPI4oLpEhWDCndIVgxxLlLQ0//NExOATiWqcANFMlKUsrI9af/9X///1KEKVR90/vP5ViI6EGhuqg4rPomiQERUTUggFb9RoLuy4cDeeL7BEXVJFHZXyMCFsz+OOAM5xQBCEEKBgDDBQAOKiICL+9ic7//NExOQRqV6gAMIQlP/FSA93+sBlHO/6lYZZEY5uAo4MOoTJRAsAIkog4nLZGRg7zFUdbEWFHKoy29CVWrnCimSppNqbOo8HFokFI6haMGTUmDR5uDjR+DT5/NnVJ8WE//NExPAXSg6EANpEmRr3SFd34UHf+TFDf/9SgZbprtOJNpUKQHCI2BUSNPDyIIgASB0YTNlYDQeVPnC8Sz42Jh0ORwISc6Vnk0OCZODLivbXVm6Csnw+Z9l6vVokNKY0//NExOUSkOKIANvEcOrd8LXaGdC36xQ5/VqqrQCYWjaJ5e4xqpjHwKZKJBEMMDiVR5xifIe1iert+rVI44Q9mclWnlpkgxdqSyiJMjZIgUhJT2jvsV3fZXHNVY0IhdDW//NExO0VKP6EANvScC0c4n7e/9OCLrf1sPETFX9XUYc2nTLQkIhUKNHSS/TuKVoGS5VVNeeN4Q9nL8Tdw6lW++h11vD7N86iZzvwEWha5SJ15ghjt32bfjiHM/XAgDcR//NExOsUkQqIANsScIKF6xMIiyFK9ccCYRBDs/hMWVP2wZHN//+2nHlDiC4gOKeK0o2b0fqVqR9Bg5DdwImYQiJK4EZ6BoD2ytTCKdeDK6UPO1Cp3dMuU6mUoeXYA5EV//NExOsU2QqIAOPScESkUsn99j265fhyT43R3Mw6EjmhybLkQxH5AF0NCAfCYYIkCyoxONNen////////1a5Zbv62Fab/UqsqRtzompXTIEBptSSELmZ2wzJRiRjFrvU//NExOobEV6QANvYlJ/XdGP2Re4RfGip/ley6M9SMapQ2FBeuWaCh5CNrLmxMmUIDUZrUiWxZ7VpI3IiCJEfnBC0l////3VVUN/+iqkmlovFYrokLDQau0UwIa1QiESp//NExNAY2lKkANMUuMcgJzTwS8tPhHHighDhQWorMNae11bfwmnfbf8OlZi3Ar2TgNrTVuVs/1frxppTYoI2hR2iXemcW////r7lFg8FxLWaqkAgvu0xo4BKTza+Ixwh//NExL8V4UqoANPSlFeRga1Yy8NksM8QlSWu8ZkwXUWVQuw5VC8lZa6hb/3//7GdAIzBQEhyt8z/XtXYxqBnMGGVeBiBm4APVFsSUQj8GBgQNBhMoAILKpqw4QlKdOYs//NExLoVmWakANPSlCcmGKpVIjjmF1AIT6Wo+cQtbxv//P/76UUSn//+bYzo5AIMnaP////5VCocNGBHjHk2awYAhcKChqHNLUxoxEaHo+4tmzVwy/v4/d/R4PRkB4zj//NExLYREW6kAMvElDRFF6GHIwOaDA7buRRNhqGmv7hAl////HpF15BlnL0wzoPVmNQAPz1ZJBCy1+i2MoDMKFsPgC4QbAm4ZsW5EvIqAyEAxCDGAXVgiWLCB3ODaXyg//NExMQSCWpwANPElE4dIubjJi2jhIiT/6JfTToSqW0y8e/ughXN0z550jQuaf7kwOMrzSyidF8H4jqHNKqB5D/9D/UyaNSmTSWyTL//9aazes3Qe3y2m5wi5ASMGIQF//NExM4RqJZIAVpgADjqKhXQgphUdMKsuJWm7TlrxLOd72TE2o+Ph8cEspD0YiYdhLK6YdXfFS6Kbex8P0Dlft7uNv/zvu7uYZV8TL4c1sOca2DJ0Ymy3/nJd0mL8ipK//NExNoiGxqAAY+YAZbywSfER1OCIWDMAXwkEuiIPzD7uv8uRByWsAAgUBDHQ7BQKMHASHGnjvrvlwdCaSUE/Lh4+eUp37YrgFgGwcDcWDVhbm5wuP0/OnoVSuLgEFwq//NExKQV+aKcAcxYAF///58oNBgWMFzRJa2Q7APoVlKyJTEdDh6aHCE8ep1q01yEGA+L8lZ0ulYZP40h2bqO5xT4Gdbuczixo91dD73avDZsv3PdFRDU6evdR3fwtvxa//NExJ8V4WqcAMsGlHHnOznIcTSgqc444TEhpxxxMlTHX//9fdqPTMzkcoxWcFHEE2IBTvFCXpHqM/OqyvLyKIytJdvbjAd5LvWKDhesa4iUVuobL4dM2rm6pcLqLU4e//NExJodSm6kAMvKuZwc39x6kNZrv0mjNfd67QHDTUHiXW5uCqp7//6N69Z11pLRwpAKotKpXLgfxcm4lSOe6tl7MVvfVqsYU4Uylc2hvTpSVvUv///9q///fJ6EJz2Q//NExHcRuPq4AMPYcFDnc7ocxM5z7k0ISmQh3RkYTEw+c6nECM4mLuIChKh8Dh90FCIic2qBASp7f/////1///Xz9/MSs3bPpSND3pAyhg1FuBjHVCmUYMRmoUFTjA5P//NExIMV2vq0AHiKuBcOQ4BqHRYhGh+QIdCOWEREFiCVmEniodCCDrC2opYmGtX////////7////+p+f2raJurh4R4PshbtDcpFemHB0Sp8Q6DRWzlFxAGCc06jcPhcX//NExH4TKxq4ABAQvRcRhAEwDAhFhOLhsWN4LNKOFcylHjH+pICn4/5f/t///9////n3ozy//7Mlph50j0FbsxnQtKqOqUpnVFQpSMaYzoaAodYQEw6MAwiodERAwDAY//NExIQRsxa8AAAQuSI4qlFSDWVrREoEKdjkAWCaQznUbmwIW3pxwkoJKE2mdzH562RmoQkJi8wuryWyEq7xgF7f//+pQzgrO9HiUtGB2ye53zSWP6xj1HgKMPCUqdSq//NExJASMwq4AAhKucVtBVqKIhKzplaw0blKYSgkZq06U/o7tb3j23b+223ZE3G286hCxBHBo7eD5jkhwwnCx6i996/75J54nE3JI////Qn///oquvuNeUrYhaaC+jSV//NExJoRiXKkAHlElMSbiz3IlHWF7f5G3m9TbdTWb1pBGhuVIqYBp4DW7FloXJskXYFcxLVXHX///1zpA5FotQSGe13//9KaqocRqTYRrrsL1pVRM4LewI+spkWHFsyL//NExKYRkWawAMMKlO9fzq9bZvWmWqixaThmwDK+6HmI4CnARQ6HxFbdu/2nUznK5xgUCpT///+VVfJHlaVtk8FUmzQWmyMqSvS2VHBd9DDCCkCKX4Zym0t+v1ca/FCZ//NExLIRoWq0AMMQlL0Pzk/XL2fFBYXkPAXWcfPSTH7/+n7qluTRqHgYj/Ypv/+vZSryw8mU0kjan5VaOmcocNKVOVzeuTRhmvZ2Yq089jeubwxyv16kFeYKKwHy4i7F//NExL4RKVqwAMMKlJzoZN9a24ItDJ17dtrHNCbZHb2W///SxKrRA8iGh+RkGQL8clSbPmXhQIusgDAzE16PhOQ1LJyLx2vGpyfsRKHITaS0DMlLR+PppV34tr73UdiY//NExMwSmV6kAMMQlIHDBZ8461+XSy+ZEvan7f3RYLJmmUlJKqElg1NaiQqctDhDws7UICmwjqrHrVYkDAeKLAzl8OkvADGgAMyiMJyRT6Du7i1bvF1PeVOJYfKUkCRq//NExNQRsOqkAMYScMEgvbdu/zvjN1mCB7TDg0+7s///zTrqKtIdWPPULFiS35KySVuRiIAqTSSAyAzi/l0RaXQ5oLwZQMNDQYgQYpmKErXr62/Td9Y3n/dr2pWhEFIH//NExOASgOagAMYYcRY7NXSuxDAmEniJt+sxOgJgBlyCRiCFyFVg4RbRimBEBiCjz8TLgotF3WtOAlWgLACACpQNlEjlszavXdYZ59/f/38f3/3z2/3z6eddRM0IrVVL//NExOkWkUqcAMvMlLNqGEizjjxhB/BBAoDjb6317SHG71tkJ+yARDb9RIDbj6m4DYAAk8Rpb7JcvCXBTHERQSgqCWs8sVkmVq3rLDuX67+X97//3/9VviAsofMo+JMg//NExOERuU6oAMPElZyD4vEhVgFBBgicasIEl////6nUfAlxa7wD1m0bqXYddBCWcbM/4PAKwALBDyaC14LKAEGAQwaQIVGIbkyXDAvLTRdJk0v6vfPz78/8pHoUYECc//NExO0V8XKcAM4MlYKY44pg6g2hpQbGOMoLXatMX0I9pkYtdmUJXJNP6S0vrEDJBdWJGkUWfACtbuuQ0pa/UY9YoI336Pt2xr+/vn6/+89f5/XvP7/z1fp+ll9Gidtk//NExOgVMX6gAMYKlNzLbbKOZCvJTYmZyVtZJiRX///qkE1o5WIGCd7Y4iRB4FUNvs0MUW64gRFxoAlo5hfDAAg4tgGALcZksaqJTPZjoaO+2u/3/3lzC7mF3ER8Sd49//NExOYTsY6kAMSGlcRF4SJElhlNiv//+5C4nXWqxjQU0Eyr6EkiCukgsDQQFDEuphBwR8M4BYHCNcAeGkNUBqJIzHEaIJoGhspklq1Orqd79U//60MqIdmZxRXFAzhg//NExOoWwZKYAM4SlECOCBORBRyX///7VWKdTbTADH/k9gaPNWgVFAoQOWWRA0uVVE/1CAgAIccI8C9JQUkGMJmPglzG1yvt5hSajQcarv13966slSImn//VmCnVrj0e//NExOITCX6cAMyKlBFQTOVw4wgVIKUkVf//76z32pQq6h4ANKZgIYjQlOgINTyuXZVscaNWiCAHEACQBUOEYlJD0PS590xdfMtbU/HPv7f///XMXSYs6BilGdygMFzp//NExOgUKZKYAMwElP///JJr8jVXpgsiHh3YZBDwKGyqRhsNBASAoCfJDFjrDnKZULkpAfQDqPSEZp1c2qZmVrhu71W6jQoMXUH7r7a/Z2ZuWVvspmssxkU15jlEhZEO//NExOoVyZ6IANPElIzGRbCQeKg8Oh0gGFX3f/8l/SoApCKACwQ9QMyOSSTqa9KndoaGMwvWQ7hxHSIa4n7Fnz3z2atdYcSVLZsvs94bMZM8+1vMK4JToiPOWJc6dErk//NExOURWYKEANLElAFioF/V2d/wrbQx2lVSa6PrRtPGoOjEgWsq5HCQllwxbrTTQ2JAg8JsiIeYBIkWPJAINuAIAAbQeDpYKFTMTTr7U0LCIlbKx1CkodUxhpHqPNty//NExPIXmapYAOPKlM83pj5amd76cnj6NVTbR8qtLXlEspFMZVNpwMhZDadOHdK8UkqmKvHrHzbedKcgz2H0jRDpsWkG5m0qZf8b99u7dXr+Tm+5mKPD1/MoW7pf1DeN//NExOYUQRI4ANPGcLu//ZnpHtmnLr3I/x+VA5TIcui113YzDuFNZ5kKUSoQKKwxwoVgWFCkC16ejNCqnmcF0KAijBkpLw00SMQAbwu5wYAQxobCEciYtReBgoHIT2CJ//NExOgTIGYsAMvSKA55NFF7xLnlitS+oKJtFBQGUt0WWivpurDcumamrDlBCPkuIiNCxejKTmbIbkUNucdzRImrF/ZTshNEr+RueuRaHeGV/tO2fK3/8+d41Kf5cvC+//NExO4VaMIgAMJMTefzOeCP4dM+3zVCzpiSBmql2W161u1X/GV+qyB/FRiFMWHd4FKkGIOYNgTDcQchvT7WDY9bjJmekzNnXcntEDAyh59RrcbMlBoEOnFEQTWp/Sg4//NExOsVQN4UAMCGcGc6lppKaWMKwWuEpgnVCtakrsnZOqvu8obhT57f61NdB3SOms3ed6cMjKGPyrLmwIEd9aray1cjp9TchCCDDazV7XLf9QLU2sK57ZtrctfvVn5f//NExOkUKroQAJjGuYvfdF5Lhvtu1v5PqdKqBmtmSdbaFM2NMaa1cja1wI5SH1MHuIsUExHQkO7jlqhMzhFvCUJWZ9lIG0NgVVFKdJqwNGQCYzDvuv5m+X9S3Wbr9T+O//NExOsUiY4MAJjGlKcuyZZ7THu+ZyW17uk1rtUGaQQazOvb1IMWG0W6SOvJkV+Hwmps2s/8Tm4X9S+offlbSUUhScSjZRFIX7wJkfV8LAHK4DRou1r3/n/D20R+yvxV//NExOsUiXIMAJmGlV0X5Ymwhzx/leZWAM62VQMVm8MTlP2k3f3fqYuIOxklFDCjo4Sg0VxDgS6lq0JjJbL61AcC4UhUKGqw0SULGjSoVFhMekSr0AsNcYExGdBoCsue//NExOsVCZ4MAJjGlXXFeygWgXUaIaxgSVKnZGoEoRzQpaVC39pIemZ6M2AEWNBkwWyJSRGEnRNQJFqJAybYy44kMgqkzrD2VB1ld0SSS6lJTFG9km+opirv7lMSSyii//NExOkUUSYMAJjMcYl39P//0at///7uSS7v/8VMQU1FMy4xMDBVVVVVVVVVVVVVVVVVVVVVVVVVVVVVVVVVVVVVVVVVVVVVVVVVVVVVVVVVVVVVVVVVVVVVVVVVVVVV//NExOoVAPoMAMDGcFVVVVVVVVVVVVVVVVVVVVVVVVVVVVVVVVVVVVVVVVVVVVVVVVVVVVVVVVVVVVVVVVVVVVVVVVVVVVVVVVVVVVVVVVVVVVVVVVVVVVVVVVVVVVVV//NExOkUoPHcAMGGcVVVVVVVVVVVVVVVVVVVVVVVVVVVVVVVVVVVVVVVVVVVVVVVVVVVVVVVVVVVVVVVVVVVVVVVVVVVVVVVVVVVVVVVVVVVVVVVVVVVVVVVVVVVVVVV\" type=\"audio/x-wav\" />\n",
              "                    Your browser does not support the audio element.\n",
              "                </audio>\n",
              "              "
            ]
          },
          "metadata": {}
        },
        {
          "output_type": "display_data",
          "data": {
            "text/plain": [
              "<IPython.lib.display.Audio object>"
            ],
            "text/html": [
              "\n",
              "                <audio  controls=\"controls\" autoplay=\"autoplay\">\n",
              "                    <source src=\"data:audio/x-wav;base64,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\" type=\"audio/x-wav\" />\n",
              "                    Your browser does not support the audio element.\n",
              "                </audio>\n",
              "              "
            ]
          },
          "metadata": {}
        },
        {
          "output_type": "stream",
          "name": "stdout",
          "text": [
            "아메리카노 몇잔: 1\n",
            "카페라떼   몇잔: 2\n",
            "카페모카   몇잔: 2\n",
            "지불하실 총 금액은 14,500원 입니다.\n",
            "돈을 넣어 주세요: 20000\n",
            "거스름돈은 5,500입니다. 커피 맛있게 드세요~\n"
          ]
        }
      ]
    },
    {
      "cell_type": "code",
      "source": [
        "!pip install gTTS"
      ],
      "metadata": {
        "colab": {
          "base_uri": "https://localhost:8080/"
        },
        "id": "HpcPSf8iA764",
        "outputId": "00fbb7aa-9305-4de9-f92b-ed633b351aa8"
      },
      "execution_count": null,
      "outputs": [
        {
          "output_type": "stream",
          "name": "stdout",
          "text": [
            "Collecting gTTS\n",
            "  Downloading gTTS-2.5.1-py3-none-any.whl (29 kB)\n",
            "Requirement already satisfied: requests<3,>=2.27 in /usr/local/lib/python3.10/dist-packages (from gTTS) (2.31.0)\n",
            "Requirement already satisfied: click<8.2,>=7.1 in /usr/local/lib/python3.10/dist-packages (from gTTS) (8.1.7)\n",
            "Requirement already satisfied: charset-normalizer<4,>=2 in /usr/local/lib/python3.10/dist-packages (from requests<3,>=2.27->gTTS) (3.3.2)\n",
            "Requirement already satisfied: idna<4,>=2.5 in /usr/local/lib/python3.10/dist-packages (from requests<3,>=2.27->gTTS) (3.6)\n",
            "Requirement already satisfied: urllib3<3,>=1.21.1 in /usr/local/lib/python3.10/dist-packages (from requests<3,>=2.27->gTTS) (2.0.7)\n",
            "Requirement already satisfied: certifi>=2017.4.17 in /usr/local/lib/python3.10/dist-packages (from requests<3,>=2.27->gTTS) (2024.2.2)\n",
            "Installing collected packages: gTTS\n",
            "Successfully installed gTTS-2.5.1\n"
          ]
        }
      ]
    }
  ]
}