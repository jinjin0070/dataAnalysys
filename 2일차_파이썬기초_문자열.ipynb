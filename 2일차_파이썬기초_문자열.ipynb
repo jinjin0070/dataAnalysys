{
  "nbformat": 4,
  "nbformat_minor": 0,
  "metadata": {
    "colab": {
      "provenance": [],
      "authorship_tag": "ABX9TyNcXP0BKxPIONv6IIG/wyIG",
      "include_colab_link": true
    },
    "kernelspec": {
      "name": "python3",
      "display_name": "Python 3"
    },
    "language_info": {
      "name": "python"
    }
  },
  "cells": [
    {
      "cell_type": "markdown",
      "metadata": {
        "id": "view-in-github",
        "colab_type": "text"
      },
      "source": [
        "<a href=\"https://colab.research.google.com/github/jinjin0070/dataAnalysys/blob/main/2%EC%9D%BC%EC%B0%A8_%ED%8C%8C%EC%9D%B4%EC%8D%AC%EA%B8%B0%EC%B4%88_%EB%AC%B8%EC%9E%90%EC%97%B4.ipynb\" target=\"_parent\"><img src=\"https://colab.research.google.com/assets/colab-badge.svg\" alt=\"Open In Colab\"/></a>"
      ]
    },
    {
      "cell_type": "code",
      "execution_count": null,
      "metadata": {
        "id": "v9QHsO1-OWxq"
      },
      "outputs": [],
      "source": []
    },
    {
      "cell_type": "markdown",
      "source": [
        "# 1.파이썬 자료형과 연산"
      ],
      "metadata": {
        "id": "tDDiHxwVOjEV"
      }
    },
    {
      "cell_type": "markdown",
      "source": [
        "## 문자열"
      ],
      "metadata": {
        "id": "BK700EzfOo7c"
      }
    },
    {
      "cell_type": "code",
      "source": [
        "# 큰 따옴표(or 작은 따옴표)로 표시\n",
        "a='사과'\n",
        "a=\"사과\"\n",
        "a=\"Yes, I can't\"\n",
        "a='\"사과는 정말 맛있지?\" 라고 이야기 했습니다.'"
      ],
      "metadata": {
        "id": "pxfdAmK-Q3Ed"
      },
      "execution_count": null,
      "outputs": []
    },
    {
      "cell_type": "code",
      "source": [
        "# 한 줄 이상 문장-->따옴표 3개 사용\n",
        "a='''#000 카페 메뉴판\n",
        "- 아메리카노: 3000원\n",
        "- 카페라떼  : 4000원\n",
        "- 카페모카  : 4000원'''\n",
        "\n",
        "coffee=input(f'{a}\\n주문하실 메뉴를 골라주세요: ')\n",
        "print(f'{\"-\"*30}\\n주문하신 메뉴는 \"{coffee}\" 입니다.')"
      ],
      "metadata": {
        "colab": {
          "base_uri": "https://localhost:8080/"
        },
        "id": "lpw_PuSvRfz1",
        "outputId": "23e7abe3-8d26-4219-9276-1ae69218a42d"
      },
      "execution_count": null,
      "outputs": [
        {
          "output_type": "stream",
          "name": "stdout",
          "text": [
            "#000 카페 메뉴판\n",
            "- 아메리카노: 3000원\n",
            "- 카페라떼  : 4000원\n",
            "- 카페모카  : 4000원\n",
            "주문하실 메뉴를 골라주세요: 아메리카노\n",
            "------------------------------\n",
            "주문하신 메뉴는 \"아메리카노\" 입니다.\n"
          ]
        }
      ]
    },
    {
      "cell_type": "markdown",
      "source": [
        "### gTTS모듈 사용하여 텍스트를 음성으로 읽어주기"
      ],
      "metadata": {
        "id": "GFf8ncdUT9a8"
      }
    },
    {
      "cell_type": "code",
      "source": [
        "!pip install gTTS"
      ],
      "metadata": {
        "colab": {
          "base_uri": "https://localhost:8080/"
        },
        "id": "ddbqZJUjdXaU",
        "outputId": "d464cf7f-efd5-48e5-a777-8d528af7bd9e"
      },
      "execution_count": null,
      "outputs": [
        {
          "output_type": "stream",
          "name": "stdout",
          "text": [
            "Requirement already satisfied: gTTS in /usr/local/lib/python3.10/dist-packages (2.5.1)\n",
            "Requirement already satisfied: requests<3,>=2.27 in /usr/local/lib/python3.10/dist-packages (from gTTS) (2.31.0)\n",
            "Requirement already satisfied: click<8.2,>=7.1 in /usr/local/lib/python3.10/dist-packages (from gTTS) (8.1.7)\n",
            "Requirement already satisfied: charset-normalizer<4,>=2 in /usr/local/lib/python3.10/dist-packages (from requests<3,>=2.27->gTTS) (3.3.2)\n",
            "Requirement already satisfied: idna<4,>=2.5 in /usr/local/lib/python3.10/dist-packages (from requests<3,>=2.27->gTTS) (3.6)\n",
            "Requirement already satisfied: urllib3<3,>=1.21.1 in /usr/local/lib/python3.10/dist-packages (from requests<3,>=2.27->gTTS) (2.0.7)\n",
            "Requirement already satisfied: certifi>=2017.4.17 in /usr/local/lib/python3.10/dist-packages (from requests<3,>=2.27->gTTS) (2024.2.2)\n"
          ]
        }
      ]
    },
    {
      "cell_type": "code",
      "source": [
        "from gtts import gTTS\n",
        "from IPython.display import Audio\n",
        "\n",
        "# eng_wav = gTTS('Hello World!')\n",
        "# eng_wav.save('eng.wav')\n",
        "kor_wav = gTTS('안녕 세상아!', lang = 'ko')\n",
        "kor_wav.save('kor.wav')\n",
        "\n",
        "display(Audio('kor.wav', autoplay=True))"
      ],
      "metadata": {
        "colab": {
          "base_uri": "https://localhost:8080/",
          "height": 74
        },
        "id": "bL9joQ94VLOt",
        "outputId": "6ad911c5-0949-4282-f938-8edbf8d792b2"
      },
      "execution_count": null,
      "outputs": [
        {
          "output_type": "display_data",
          "data": {
            "text/plain": [
              "<IPython.lib.display.Audio object>"
            ],
            "text/html": [
              "\n",
              "                <audio  controls=\"controls\" autoplay=\"autoplay\">\n",
              "                    <source src=\"data:audio/x-wav;base64,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\" type=\"audio/x-wav\" />\n",
              "                    Your browser does not support the audio element.\n",
              "                </audio>\n",
              "              "
            ]
          },
          "metadata": {}
        }
      ]
    },
    {
      "cell_type": "code",
      "source": [
        "# gtts 모듈로 텍스트를 소리로 읽어주기\n",
        "from gtts import gTTS\n",
        "from IPython.display import Audio\n",
        "\n",
        "# 영어 출력\n",
        "# eng_wav = gTTS('Hello World!')\n",
        "# eng_wav.save('eng.wav')\n",
        "# display(Audio('kor.wav', autoplay=True))\n",
        "\n",
        "# 한국어 출력\n",
        "kor_wav = gTTS(menu, lang = 'ko')\n",
        "kor_wav.save('kor.wav')\n",
        "display(Audio('kor.wav', autoplay=True))"
      ],
      "metadata": {
        "colab": {
          "base_uri": "https://localhost:8080/",
          "height": 221
        },
        "id": "ohuKJPZCdrgh",
        "outputId": "4add96d5-8bc1-483e-ee94-77f26e2af26f"
      },
      "execution_count": null,
      "outputs": [
        {
          "output_type": "error",
          "ename": "NameError",
          "evalue": "name 'menu' is not defined",
          "traceback": [
            "\u001b[0;31m---------------------------------------------------------------------------\u001b[0m",
            "\u001b[0;31mNameError\u001b[0m                                 Traceback (most recent call last)",
            "\u001b[0;32m<ipython-input-12-e8dba6d31249>\u001b[0m in \u001b[0;36m<cell line: 11>\u001b[0;34m()\u001b[0m\n\u001b[1;32m      9\u001b[0m \u001b[0;34m\u001b[0m\u001b[0m\n\u001b[1;32m     10\u001b[0m \u001b[0;31m# 한국어 출력\u001b[0m\u001b[0;34m\u001b[0m\u001b[0;34m\u001b[0m\u001b[0m\n\u001b[0;32m---> 11\u001b[0;31m \u001b[0mkor_wav\u001b[0m \u001b[0;34m=\u001b[0m \u001b[0mgTTS\u001b[0m\u001b[0;34m(\u001b[0m\u001b[0mmenu\u001b[0m\u001b[0;34m,\u001b[0m \u001b[0mlang\u001b[0m \u001b[0;34m=\u001b[0m \u001b[0;34m'ko'\u001b[0m\u001b[0;34m)\u001b[0m\u001b[0;34m\u001b[0m\u001b[0;34m\u001b[0m\u001b[0m\n\u001b[0m\u001b[1;32m     12\u001b[0m \u001b[0mkor_wav\u001b[0m\u001b[0;34m.\u001b[0m\u001b[0msave\u001b[0m\u001b[0;34m(\u001b[0m\u001b[0;34m'kor.wav'\u001b[0m\u001b[0;34m)\u001b[0m\u001b[0;34m\u001b[0m\u001b[0;34m\u001b[0m\u001b[0m\n\u001b[1;32m     13\u001b[0m \u001b[0mdisplay\u001b[0m\u001b[0;34m(\u001b[0m\u001b[0mAudio\u001b[0m\u001b[0;34m(\u001b[0m\u001b[0;34m'kor.wav'\u001b[0m\u001b[0;34m,\u001b[0m \u001b[0mautoplay\u001b[0m\u001b[0;34m=\u001b[0m\u001b[0;32mTrue\u001b[0m\u001b[0;34m)\u001b[0m\u001b[0;34m)\u001b[0m\u001b[0;34m\u001b[0m\u001b[0;34m\u001b[0m\u001b[0m\n",
            "\u001b[0;31mNameError\u001b[0m: name 'menu' is not defined"
          ]
        }
      ]
    },
    {
      "cell_type": "markdown",
      "source": [
        "### + 기호 : 문자열을 합쳐서 출력"
      ],
      "metadata": {
        "id": "pFOq3_8lel5D"
      }
    },
    {
      "cell_type": "code",
      "source": [
        "print('사과' + '맛있어')\n",
        "print('사과' , '맛있어')"
      ],
      "metadata": {
        "colab": {
          "base_uri": "https://localhost:8080/"
        },
        "id": "HSGadlQKetQZ",
        "outputId": "5c92d595-b396-486f-f3c1-4918a1a2d16e"
      },
      "execution_count": null,
      "outputs": [
        {
          "output_type": "stream",
          "name": "stdout",
          "text": [
            "사과맛있어\n",
            "사과 맛있어\n"
          ]
        }
      ]
    },
    {
      "cell_type": "markdown",
      "source": [
        "### '*'기호 : 반복의 의미"
      ],
      "metadata": {
        "id": "dIxgBG0ge8DJ"
      }
    },
    {
      "cell_type": "code",
      "source": [
        "print('반짝'*2, '눈이 부셔', '노'*5)\n",
        "print('*' * 50)"
      ],
      "metadata": {
        "colab": {
          "base_uri": "https://localhost:8080/"
        },
        "id": "bPcBiZWTfGRU",
        "outputId": "6cf492fc-5f95-427e-d86f-0b0d0951ebea"
      },
      "execution_count": null,
      "outputs": [
        {
          "output_type": "stream",
          "name": "stdout",
          "text": [
            "반짝반짝 눈이 부셔 노노노노노\n",
            "**************************************************\n"
          ]
        }
      ]
    },
    {
      "cell_type": "markdown",
      "source": [
        "#[실습문제] 문자열 출력하기"
      ],
      "metadata": {
        "id": "mzK48flogbkr"
      }
    },
    {
      "cell_type": "code",
      "source": [
        "# 문제1: 화면에   Mary’s cosmetics 출력\n",
        "print(\"Mary's cosmetics\")\n",
        "# 문제2: 화면에  박씨가 소리질렀다. “도둑이야!”. 출력\n",
        "print('박씨가 소리질렀다. \"도둑이야!\".')\n",
        "# 문제3: 다음 코드 실행시켜서 \\t와 \\n의 역할 확인하기\n"
      ],
      "metadata": {
        "colab": {
          "base_uri": "https://localhost:8080/"
        },
        "id": "AaJBcA1Zfjmq",
        "outputId": "d878b299-e03f-4ffc-f819-4b80070eae61"
      },
      "execution_count": null,
      "outputs": [
        {
          "output_type": "stream",
          "name": "stdout",
          "text": [
            "Mary's cosmetics\n",
            "박씨가 소리질렀다. \"도둑이야!\".\n",
            "안녕하세요.\n",
            "오늘\t날씨가\t\t좋습니다.\n"
          ]
        }
      ]
    },
    {
      "cell_type": "markdown",
      "source": [
        "### 문자열에서 자주 사용하는 함수"
      ],
      "metadata": {
        "id": "obfUsRahkmNJ"
      }
    },
    {
      "cell_type": "code",
      "source": [
        "a = \"Life is too short!\"\n",
        "print(f\"문자(열) 개수 세기:  {a.count('o')}\")\n",
        "print(f\"문자(열) 위치: {a.find('f')}\")  # 없으면 '-1' 반환\n",
        "print(f\"문자(열) 위치: {a.index('f')}\") # 없으면 오류\n",
        "b = '*'\n",
        "print(f\"문자열 삽입: {b.join(a)}\")        # a에 b를 삽입\n",
        "print(f\"문자열 변환: {a.replace('Life','Your leg')}\")  # 문자열 대체\n",
        "print(f\"문자열 나누기: {a.split()}\")      # 공백으로 분리해서 리스트형으로 반환\n",
        "print(f\"문자열 나누기: {a.split('is')}\")"
      ],
      "metadata": {
        "colab": {
          "base_uri": "https://localhost:8080/"
        },
        "id": "HYwPg34_ks3o",
        "outputId": "8e137785-4971-4444-bd8e-80d22de7632c"
      },
      "execution_count": null,
      "outputs": [
        {
          "output_type": "stream",
          "name": "stdout",
          "text": [
            "문자(열) 개수 세기:  3\n",
            "문자(열) 위치: 2\n",
            "문자(열) 위치: 2\n",
            "문자열 삽입: L*i*f*e* *i*s* *t*o*o* *s*h*o*r*t*!\n",
            "문자열 변환: Your leg is too short!\n",
            "문자열 나누기: ['Life', 'is', 'too', 'short!']\n",
            "문자열 나누기: ['Life ', ' too short!']\n"
          ]
        }
      ]
    },
    {
      "cell_type": "markdown",
      "source": [
        "### [퀴즈] 문자열을 입력받아 거꾸로 출력하기"
      ],
      "metadata": {
        "id": "syPd80Lum_jJ"
      }
    },
    {
      "cell_type": "code",
      "source": [
        "s=input('문자열 입력: ')\n",
        "print(s[ : :-1])"
      ],
      "metadata": {
        "colab": {
          "base_uri": "https://localhost:8080/"
        },
        "id": "IWNnCUqwnLhh",
        "outputId": "d2d4a4f1-4e89-49bb-c2c2-f7fe862f4436"
      },
      "execution_count": null,
      "outputs": [
        {
          "output_type": "stream",
          "name": "stdout",
          "text": [
            "문자열 입력: 거꾸로 출력하기!!!\n",
            "!!!기하력출 로꾸거\n"
          ]
        }
      ]
    },
    {
      "cell_type": "markdown",
      "source": [
        "### [퀴즈] 확장자 분리하기"
      ],
      "metadata": {
        "id": "2rerkqKaoZzQ"
      }
    },
    {
      "cell_type": "code",
      "source": [
        "filename = input('확장자포함 파일명 입력하기: ')\n",
        "a=filename.split('.')\n",
        "print(a)\n",
        "print(f\"파일명:{a[0]} 확장자: {a[1]}\")"
      ],
      "metadata": {
        "colab": {
          "base_uri": "https://localhost:8080/"
        },
        "id": "xFdzbJO7ognP",
        "outputId": "972ae862-f0da-4de7-9b23-f2becb87618e"
      },
      "execution_count": null,
      "outputs": [
        {
          "output_type": "stream",
          "name": "stdout",
          "text": [
            "확장자포함 파일명 입력하기: test.ipynb\n",
            "['test', 'ipynb']\n",
            "파일명:test 확장자: ipynb\n"
          ]
        }
      ]
    },
    {
      "cell_type": "markdown",
      "source": [
        "###[실습문제] 지불할 음식 총 가격 계산하기"
      ],
      "metadata": {
        "id": "y-rzhOh-u9AX"
      }
    },
    {
      "cell_type": "code",
      "source": [
        "# 음식가격:  4,450 원\n",
        "# 세금: 6.75%\n",
        "# 팁: 15%\n",
        "#1. meal 변수를 선언하고 값을 4450으로 지정하세요.\n",
        "#2. tax 변수를 생성하고 값으로 6.75%를 소수점 형태로 지정하세요.\n",
        "#3. tip 변수를 생성하고 값으로 15%를 소수점 형태로 지정하세요.\n",
        "#4. meal의 변수값에 세금을 곱해 meal 변수에 지정하세요.\n",
        "#5. 음식값에 tip을 더해 total 변수에 지정하세요.\n",
        "#6. total 변수 값을 출력하세요\n",
        "meal=int(input('음식가격: '))\n",
        "tax=0.0675\n",
        "tip=0.15\n",
        "meal=meal+(meal*tax)\n",
        "total=meal+(meal*tip)\n",
        "print(f'내가 지불할 총 금액: {round(total, 2): ,}')"
      ],
      "metadata": {
        "colab": {
          "base_uri": "https://localhost:8080/"
        },
        "id": "s5b4TE9uvNk-",
        "outputId": "0c95dc07-a545-4f80-9671-01979e9cb62e"
      },
      "execution_count": null,
      "outputs": [
        {
          "output_type": "stream",
          "name": "stdout",
          "text": [
            "음식가격: 4450\n",
            "내가 지불할 총 금액:  5,462.93\n"
          ]
        }
      ]
    },
    {
      "cell_type": "markdown",
      "source": [
        "### [실습문제] 섭씨온도를 화씨온도로 변환하기"
      ],
      "metadata": {
        "id": "80-SAULkxgLF"
      }
    },
    {
      "cell_type": "code",
      "source": [
        "C=float(input('섭씨 온도: '))\n",
        "print(f'섭씨온도 {C}는 화씨온도 {(9/5)*C+32} °C')"
      ],
      "metadata": {
        "colab": {
          "base_uri": "https://localhost:8080/"
        },
        "id": "FH8C54CHxygX",
        "outputId": "5f466097-2c00-4d32-ad26-334d275bcf38"
      },
      "execution_count": null,
      "outputs": [
        {
          "output_type": "stream",
          "name": "stdout",
          "text": [
            "섭씨 온도: 17\n",
            "섭씨온도 17.0는 화씨온도 62.6 °C\n"
          ]
        }
      ]
    },
    {
      "cell_type": "markdown",
      "source": [
        "# 파이썬 연산자"
      ],
      "metadata": {
        "id": "mmoER8YzzyeN"
      }
    },
    {
      "cell_type": "code",
      "source": [
        "# 산술 연산자\n",
        "print(33 // 5) # 몫\n",
        "print(33 % 5)  # 나머지"
      ],
      "metadata": {
        "colab": {
          "base_uri": "https://localhost:8080/"
        },
        "id": "ZSfuW2ibz1D0",
        "outputId": "2fedab47-2f6f-4f04-b29d-db05e05fa03f"
      },
      "execution_count": null,
      "outputs": [
        {
          "output_type": "stream",
          "name": "stdout",
          "text": [
            "6\n",
            "3\n"
          ]
        }
      ]
    },
    {
      "cell_type": "code",
      "source": [
        "#대입 연산자\n",
        "a = a + 1   # a += 1\n",
        "meal = meal + (meal * tax)\n",
        "meal += (meal * tax)"
      ],
      "metadata": {
        "id": "S_DYJMlf0JPl"
      },
      "execution_count": null,
      "outputs": []
    },
    {
      "cell_type": "markdown",
      "source": [
        "\n",
        "\n",
        "1.   항목 추가\n",
        "2.   항목 추가\n",
        "\n"
      ],
      "metadata": {
        "id": "o8m_SU5Z0o29"
      }
    },
    {
      "cell_type": "code",
      "source": [
        "# 관계 연산자(비교연산자)\n",
        "a=100\n",
        "print(a > 200)\n",
        "print(a == 100)\n",
        "print(a != 100)"
      ],
      "metadata": {
        "colab": {
          "base_uri": "https://localhost:8080/"
        },
        "id": "PJbLi2O00rdD",
        "outputId": "aa833ab5-d52c-4686-fcb5-fc1d52d5281e"
      },
      "execution_count": null,
      "outputs": [
        {
          "output_type": "stream",
          "name": "stdout",
          "text": [
            "False\n",
            "True\n",
            "False\n"
          ]
        }
      ]
    },
    {
      "cell_type": "code",
      "source": [
        "# 논리 연산자\n",
        "a=100\n",
        "print(a>100 and a==100)\n",
        "print(a>100 or a==100)\n",
        "print(not(a==100))"
      ],
      "metadata": {
        "colab": {
          "base_uri": "https://localhost:8080/"
        },
        "id": "2UgAqH__1BZk",
        "outputId": "fdf6fd10-f62e-41ae-9d3d-77d1bc7485fb"
      },
      "execution_count": null,
      "outputs": [
        {
          "output_type": "stream",
          "name": "stdout",
          "text": [
            "False\n",
            "True\n",
            "False\n"
          ]
        }
      ]
    },
    {
      "cell_type": "code",
      "source": [
        "# 멤버쉽 연산자\n",
        "fruits = ['사과','포도','오렌지','딸기']\n",
        "print('딸기' in fruits)\n",
        "print('키위' not in fruits)\n",
        "\n",
        "if '딸기' in fruits:\n",
        "  print('딸기는 fruits 안에 있습니다.')\n",
        "  else:\n",
        "    print('딸기는 fruits 안에 없습니다.')"
      ],
      "metadata": {
        "colab": {
          "base_uri": "https://localhost:8080/",
          "height": 110
        },
        "id": "gDnnaJY21Wzt",
        "outputId": "781b3506-881b-4465-e46f-76bb182bcfe1"
      },
      "execution_count": null,
      "outputs": [
        {
          "output_type": "error",
          "ename": "SyntaxError",
          "evalue": "invalid syntax (<ipython-input-30-b755a1c180e0>, line 8)",
          "traceback": [
            "\u001b[0;36m  File \u001b[0;32m\"<ipython-input-30-b755a1c180e0>\"\u001b[0;36m, line \u001b[0;32m8\u001b[0m\n\u001b[0;31m    else:\u001b[0m\n\u001b[0m    ^\u001b[0m\n\u001b[0;31mSyntaxError\u001b[0m\u001b[0;31m:\u001b[0m invalid syntax\n"
          ]
        }
      ]
    },
    {
      "cell_type": "code",
      "source": [
        "for fruit in f"
      ],
      "metadata": {
        "id": "h3UZ1g072lRN"
      },
      "execution_count": null,
      "outputs": []
    },
    {
      "cell_type": "code",
      "source": [
        "letters = 'Life is too short!'\n",
        "if 'too' in letters:\n",
        "  print(True)\n",
        "else:\n",
        "  print(False)"
      ],
      "metadata": {
        "colab": {
          "base_uri": "https://localhost:8080/"
        },
        "id": "xgaMIha-2u_d",
        "outputId": "12687b94-e559-4fc2-8eb6-9a2b16a14c81"
      },
      "execution_count": null,
      "outputs": [
        {
          "output_type": "stream",
          "name": "stdout",
          "text": [
            "True\n"
          ]
        }
      ]
    },
    {
      "cell_type": "markdown",
      "source": [
        "### [실습문제] 동전교환 프로그램 만들기(최소동전갯수)"
      ],
      "metadata": {
        "id": "2MPOhPD23li8"
      }
    },
    {
      "cell_type": "code",
      "source": [
        "money=int(input('동전으로 교환할 금액을 입력하세요: '))\n",
        "print('-'*50)\n",
        "print(f\"500원짜리 ==> {money // 500} 개\")\n",
        "money %= 500\n",
        "print(f\"100원짜리 ==> {money // 100} 개\")\n",
        "money %= 100\n",
        "print(f\" 50원짜리 ==> {money // 50} 개\")\n",
        "money %= 50\n",
        "print(f\" 10원짜리 ==> {money // 10} 개\")\n",
        "money %= 10\n",
        "print(f\"     잔돈 ==> {money} 원\")"
      ],
      "metadata": {
        "colab": {
          "base_uri": "https://localhost:8080/"
        },
        "id": "0MauJuDy4DoY",
        "outputId": "4e466243-fb52-4272-820a-0cd06265351d"
      },
      "execution_count": null,
      "outputs": [
        {
          "output_type": "stream",
          "name": "stdout",
          "text": [
            "동전으로 교환할 금액을 입력하세요: 4321\n",
            "--------------------------------------------------\n",
            "500원짜리 ==> 8 개\n",
            "100원짜리 ==> 3 개\n",
            " 50원짜리 ==> 0 개\n",
            " 10원짜리 ==> 2 개\n",
            "     잔돈 ==> 1 원\n"
          ]
        }
      ]
    }
  ]
}