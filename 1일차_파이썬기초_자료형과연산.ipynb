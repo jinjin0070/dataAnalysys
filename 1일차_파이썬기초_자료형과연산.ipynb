{
  "nbformat": 4,
  "nbformat_minor": 0,
  "metadata": {
    "colab": {
      "provenance": [],
      "toc_visible": true,
      "authorship_tag": "ABX9TyN5V7/80E7ESwNmqxsD6rkt",
      "include_colab_link": true
    },
    "kernelspec": {
      "name": "python3",
      "display_name": "Python 3"
    },
    "language_info": {
      "name": "python"
    }
  },
  "cells": [
    {
      "cell_type": "markdown",
      "metadata": {
        "id": "view-in-github",
        "colab_type": "text"
      },
      "source": [
        "<a href=\"https://colab.research.google.com/github/jinjin0070/dataAnalysys/blob/main/1%EC%9D%BC%EC%B0%A8_%ED%8C%8C%EC%9D%B4%EC%8D%AC%EA%B8%B0%EC%B4%88_%EC%9E%90%EB%A3%8C%ED%98%95%EA%B3%BC%EC%97%B0%EC%82%B0.ipynb\" target=\"_parent\"><img src=\"https://colab.research.google.com/assets/colab-badge.svg\" alt=\"Open In Colab\"/></a>"
      ]
    },
    {
      "cell_type": "markdown",
      "source": [
        "# 1.파이썬 자료형과 연산"
      ],
      "metadata": {
        "id": "IPwjkp251gQH"
      }
    },
    {
      "cell_type": "markdown",
      "source": [
        "# 오류"
      ],
      "metadata": {
        "id": "0HsH6Nhfp8yB"
      }
    },
    {
      "cell_type": "code",
      "execution_count": null,
      "metadata": {
        "colab": {
          "base_uri": "https://localhost:8080/",
          "height": 184
        },
        "id": "Px2jTGrUpyF8",
        "outputId": "68460e1d-d42c-4bbe-b247-8428c44f17f8"
      },
      "outputs": [
        {
          "output_type": "error",
          "ename": "TypeError",
          "evalue": "unsupported operand type(s) for +: 'int' and 'str'",
          "traceback": [
            "\u001b[0;31m---------------------------------------------------------------------------\u001b[0m",
            "\u001b[0;31mTypeError\u001b[0m                                 Traceback (most recent call last)",
            "\u001b[0;32m<ipython-input-3-bf82db565dd1>\u001b[0m in \u001b[0;36m<cell line: 3>\u001b[0;34m()\u001b[0m\n\u001b[1;32m      1\u001b[0m \u001b[0ma\u001b[0m\u001b[0;34m=\u001b[0m\u001b[0;36m10\u001b[0m        \u001b[0;31m# number\u001b[0m\u001b[0;34m\u001b[0m\u001b[0;34m\u001b[0m\u001b[0m\n\u001b[1;32m      2\u001b[0m \u001b[0mb\u001b[0m\u001b[0;34m=\u001b[0m\u001b[0;34m'파이썬'\u001b[0m  \u001b[0;31m# string\u001b[0m\u001b[0;34m\u001b[0m\u001b[0;34m\u001b[0m\u001b[0m\n\u001b[0;32m----> 3\u001b[0;31m \u001b[0mprint\u001b[0m\u001b[0;34m(\u001b[0m\u001b[0ma\u001b[0m\u001b[0;34m+\u001b[0m\u001b[0mb\u001b[0m\u001b[0;34m)\u001b[0m\u001b[0;34m\u001b[0m\u001b[0;34m\u001b[0m\u001b[0m\n\u001b[0m",
            "\u001b[0;31mTypeError\u001b[0m: unsupported operand type(s) for +: 'int' and 'str'"
          ]
        }
      ],
      "source": [
        "a=10        # number\n",
        "b='파이썬'  # string\n",
        "print(a+b)"
      ]
    },
    {
      "cell_type": "markdown",
      "source": [
        "### [실습문제]\n",
        "# 1.파이썬 버전 출력"
      ],
      "metadata": {
        "id": "JBrPIf9XzGvQ"
      }
    },
    {
      "cell_type": "code",
      "source": [
        "!python -V"
      ],
      "metadata": {
        "colab": {
          "base_uri": "https://localhost:8080/"
        },
        "id": "wLFE2vgKzaR4",
        "outputId": "181c9863-7a33-459d-dba9-9908993d651d"
      },
      "execution_count": null,
      "outputs": [
        {
          "output_type": "stream",
          "name": "stdout",
          "text": [
            "Python 3.10.12\n"
          ]
        }
      ]
    },
    {
      "cell_type": "code",
      "source": [
        "import sys\n",
        "print('---',sys.version)\n",
        "sys.version\n"
      ],
      "metadata": {
        "colab": {
          "base_uri": "https://localhost:8080/",
          "height": 54
        },
        "id": "xKq8utn_ziu3",
        "outputId": "ab60975e-9b81-4fcb-dffb-e319e37beec5"
      },
      "execution_count": null,
      "outputs": [
        {
          "output_type": "stream",
          "name": "stdout",
          "text": [
            "--- 3.10.12 (main, Nov 20 2023, 15:14:05) [GCC 11.4.0]\n"
          ]
        },
        {
          "output_type": "execute_result",
          "data": {
            "text/plain": [
              "'3.10.12 (main, Nov 20 2023, 15:14:05) [GCC 11.4.0]'"
            ],
            "application/vnd.google.colaboratory.intrinsic+json": {
              "type": "string"
            }
          },
          "metadata": {},
          "execution_count": 7
        }
      ]
    },
    {
      "cell_type": "markdown",
      "source": [],
      "metadata": {
        "id": "zk7mFzUR0bx3"
      }
    },
    {
      "cell_type": "code",
      "source": [
        "# 2.파이썬 설치 위치\n",
        "import sys\n",
        "print(sys.executable)"
      ],
      "metadata": {
        "colab": {
          "base_uri": "https://localhost:8080/"
        },
        "id": "HH5Lxpnr0f3P",
        "outputId": "85b3a076-f124-47d3-9500-1690ac7589a6"
      },
      "execution_count": null,
      "outputs": [
        {
          "output_type": "stream",
          "name": "stdout",
          "text": [
            "/usr/bin/python3\n"
          ]
        }
      ]
    },
    {
      "cell_type": "code",
      "source": [
        "# 물리적 폴더 위치\n",
        "import os\n",
        "os.getcwd()"
      ],
      "metadata": {
        "colab": {
          "base_uri": "https://localhost:8080/",
          "height": 35
        },
        "id": "fdsWL1YF18-I",
        "outputId": "08804c05-3b2d-4f0b-ff4e-2cc99c4bc419"
      },
      "execution_count": null,
      "outputs": [
        {
          "output_type": "execute_result",
          "data": {
            "text/plain": [
              "'/content'"
            ],
            "application/vnd.google.colaboratory.intrinsic+json": {
              "type": "string"
            }
          },
          "metadata": {},
          "execution_count": 10
        }
      ]
    },
    {
      "cell_type": "code",
      "source": [
        "# 문제1: 10 + 3 x 4 결과 출력\n",
        "print(10+3*4)"
      ],
      "metadata": {
        "colab": {
          "base_uri": "https://localhost:8080/"
        },
        "id": "OpZDSJDC3LMn",
        "outputId": "33c67c29-9e0c-4b2b-9b3c-199f74d78306"
      },
      "execution_count": null,
      "outputs": [
        {
          "output_type": "stream",
          "name": "stdout",
          "text": [
            "22\n"
          ]
        }
      ]
    },
    {
      "cell_type": "code",
      "source": [
        "# 문제2: 아이폰 15대를 가지고 있다. 아이폰의 가격이 130만원 일 때 총 금액은?\n",
        "a=1300000\n",
        "print(a*15)\n"
      ],
      "metadata": {
        "colab": {
          "base_uri": "https://localhost:8080/"
        },
        "id": "d2TDm-qh4bz_",
        "outputId": "20f819e5-7617-4dd5-cac6-b242dbabdcbe"
      },
      "execution_count": null,
      "outputs": [
        {
          "output_type": "stream",
          "name": "stdout",
          "text": [
            "19500000\n"
          ]
        }
      ]
    },
    {
      "cell_type": "code",
      "source": [
        "# 문제3: 주어진 임의의 자연수가 홀수인지 짝수인지 판별하는 방법은?\n",
        "x=10\n",
        "print('짝수') if x % 2 == 0 else print('홀수')"
      ],
      "metadata": {
        "colab": {
          "base_uri": "https://localhost:8080/"
        },
        "id": "xZnwSD_t4_Gm",
        "outputId": "2d209cff-1831-45d2-90b6-64aa09398754"
      },
      "execution_count": null,
      "outputs": [
        {
          "output_type": "stream",
          "name": "stdout",
          "text": [
            "짝수\n"
          ]
        }
      ]
    },
    {
      "cell_type": "code",
      "source": [
        "# 문제4: 2x2x2x5x5x5x5x3x3x3x3을 제곱형태로 나타낸 후 그 결과 출력하기\n",
        "print(2**3*5**4*3**4)"
      ],
      "metadata": {
        "colab": {
          "base_uri": "https://localhost:8080/"
        },
        "id": "0ntZRbN_7Rot",
        "outputId": "cfd2a90d-c1a9-4d18-ca23-8b94c22e7649"
      },
      "execution_count": null,
      "outputs": [
        {
          "output_type": "stream",
          "name": "stdout",
          "text": [
            "405000\n"
          ]
        }
      ]
    },
    {
      "cell_type": "markdown",
      "source": [
        "### 파이썬 자료형(Data Type)확인 함수:type()"
      ],
      "metadata": {
        "id": "rO_m1__g904W"
      }
    },
    {
      "cell_type": "code",
      "source": [
        "print( type(123) )\n",
        "print( type(3.14) )\n",
        "print( type(\"123\") )\n",
        "print( type([123]) )\n",
        "print( type((123,)) )\n",
        "print( type({'123':123}) )\n",
        "print( type({123}) )\n",
        "print( type(True) )"
      ],
      "metadata": {
        "colab": {
          "base_uri": "https://localhost:8080/"
        },
        "id": "INd9oj5X-A4k",
        "outputId": "1212a9f4-61c4-4264-d480-b60a5c562d67"
      },
      "execution_count": null,
      "outputs": [
        {
          "output_type": "stream",
          "name": "stdout",
          "text": [
            "<class 'int'>\n",
            "<class 'float'>\n",
            "<class 'str'>\n",
            "<class 'list'>\n",
            "<class 'tuple'>\n",
            "<class 'dict'>\n",
            "<class 'set'>\n",
            "<class 'bool'>\n"
          ]
        }
      ]
    },
    {
      "cell_type": "markdown",
      "source": [
        "#-------------------------------------------------------------------------------"
      ],
      "metadata": {
        "id": "w4iGnZC-CfYU"
      }
    },
    {
      "cell_type": "markdown",
      "source": [
        "## 2.표준 입출력"
      ],
      "metadata": {
        "id": "64eybCDkCnMT"
      }
    },
    {
      "cell_type": "markdown",
      "source": [
        "# 문자열 데이터를 숫자로 변환하기"
      ],
      "metadata": {
        "id": "UXAB57VbDHrb"
      }
    },
    {
      "cell_type": "code",
      "source": [
        "a=input('숫자를 입력하세요:')\n",
        "print(type(a))\n",
        "a=int(a) #정수로 변환하는 함수:int()\n",
        "print(type(a))"
      ],
      "metadata": {
        "colab": {
          "base_uri": "https://localhost:8080/"
        },
        "id": "dRgsjVq--g5s",
        "outputId": "56c2c5d2-b874-4552-ddaf-cee78e5be11f"
      },
      "execution_count": null,
      "outputs": [
        {
          "output_type": "stream",
          "name": "stdout",
          "text": [
            "숫자를 입력하세요:100\n",
            "<class 'str'>\n",
            "<class 'int'>\n"
          ]
        }
      ]
    },
    {
      "cell_type": "code",
      "source": [
        "# a=input('숫자를 입력하세요:')\n",
        "# a=int(a)\n",
        "a=int(input('숫자를 입력하세요:'))"
      ],
      "metadata": {
        "id": "B_APL51vEFit"
      },
      "execution_count": null,
      "outputs": []
    },
    {
      "cell_type": "code",
      "source": [
        "# 문자열 포맷팅\n",
        "a= input('키보드로 입력해 주세요')\n",
        "print('변수 a의 값은',a, '입니다.')\n",
        "print('변수 a의 값은 %s 입니다.' %a)\n",
        "print(f'변수 a의 값은 {a} 입니다.')"
      ],
      "metadata": {
        "colab": {
          "base_uri": "https://localhost:8080/"
        },
        "id": "qeJOKiJeFw9d",
        "outputId": "642aad98-4c15-49be-83d8-2fceaf6e21aa"
      },
      "execution_count": null,
      "outputs": [
        {
          "output_type": "stream",
          "name": "stdout",
          "text": [
            "키보드로 입력해 주세요사과\n",
            "변수 a의 값은 사과 입니다\n",
            "변수 a의 값은 사과 입니다.\n",
            "변수 a의 값은 사과 입니다.\n"
          ]
        }
      ]
    },
    {
      "cell_type": "code",
      "source": [
        "num1=int(input('첫번째 숫자: '))\n",
        "num2=int(input('두번째 숫자: '))\n",
        "print('-------------------------------')\n",
        "print(f'덧셈  : {num1}+{num2} = {num1+num2}')\n",
        "print(f'뺄셈  : {num1}-{num2} = {num1-num2}')\n",
        "print(f'곱셈  : {num1}*{num2} = {num1*num2}')\n",
        "print(f'몫    : {num1}//{num2} = {num1//num2}')\n",
        "print(f'나머지: {num1}%{num2} = {num1%num2}')"
      ],
      "metadata": {
        "colab": {
          "base_uri": "https://localhost:8080/"
        },
        "id": "dT3jeJEJG1OT",
        "outputId": "b73fa836-b086-4752-a394-00f67955126d"
      },
      "execution_count": null,
      "outputs": [
        {
          "output_type": "stream",
          "name": "stdout",
          "text": [
            "첫번째 숫자: 50\n",
            "두번째 숫자: 3\n",
            "-------------------------------\n",
            "덧셈  : 50+3 = 53\n",
            "뺄셈  : 50-3 = 47\n",
            "곱셈  : 50*3 = 150\n",
            "몫    : 50//3 = 16\n",
            "나머지: 50%3 = 2\n"
          ]
        }
      ]
    },
    {
      "cell_type": "code",
      "source": [
        "velocity = input('속력을 입력해 주세요(km/h) : ')\n",
        "distance = input('거리를 입력해 주세요(km) : ')\n",
        "print('-'*30)\n",
        "print(f'속력 : {float(velocity):.1f} km/h ')\n",
        "print(f'거리 : {float(distance):.1f} km ')\n",
        "print(f'시간 : {float(distance) / float(velocity):.1f} h' )"
      ],
      "metadata": {
        "colab": {
          "base_uri": "https://localhost:8080/"
        },
        "id": "bUpsez9LLzjy",
        "outputId": "63d9893d-6654-4b17-b37a-62724bacf999"
      },
      "execution_count": null,
      "outputs": [
        {
          "output_type": "stream",
          "name": "stdout",
          "text": [
            "속력을 입력해 주세요(km/h) : 100.5\n",
            "거리를 입력해 주세요(km) : 340.5\n",
            "------------------------------\n",
            "속력 : 100.5 km/h \n",
            "거리 : 340.5 km \n",
            "시간 : 3.4 h\n"
          ]
        }
      ]
    },
    {
      "cell_type": "markdown",
      "source": [
        "# 내장된 수학함수"
      ],
      "metadata": {
        "id": "rf65Oly4OzlZ"
      }
    },
    {
      "cell_type": "code",
      "source": [
        "import math\n",
        "print(f'원주율: {math.pi}')\n",
        "print(f'절대값: {abs(-10)}')"
      ],
      "metadata": {
        "id": "NoGDDApVO6j8"
      },
      "execution_count": null,
      "outputs": []
    },
    {
      "cell_type": "code",
      "source": [
        "# 문제1: 반지름이 4인 원의 넓이 출력\n",
        "r = 4\n",
        "print(f'원의 넓이: {round(pi * math.pow(r,2), 4)}')\n",
        "# 문제2: 3.14 곱하기 2 나누기 7의 값을 반올림하여 계산 결과 출력\n",
        "print(f'계산결과: {round(3.14*2/7)}')\n",
        "# 문제3: 원주율을 3.14로 만들어서 반지름이 4인 원의 둘레의 길이 출력\n",
        "print(f'원의 둘레:{2*3.14*r}')"
      ],
      "metadata": {
        "colab": {
          "base_uri": "https://localhost:8080/",
          "height": 221
        },
        "id": "XmOnTqBqQHnb",
        "outputId": "034de60c-82f7-4445-ed7d-39031d986d40"
      },
      "execution_count": null,
      "outputs": [
        {
          "output_type": "error",
          "ename": "NameError",
          "evalue": "name 'math' is not defined",
          "traceback": [
            "\u001b[0;31m---------------------------------------------------------------------------\u001b[0m",
            "\u001b[0;31mNameError\u001b[0m                                 Traceback (most recent call last)",
            "\u001b[0;32m<ipython-input-41-127ab0bd54fe>\u001b[0m in \u001b[0;36m<cell line: 3>\u001b[0;34m()\u001b[0m\n\u001b[1;32m      1\u001b[0m \u001b[0;31m# 문제1: 반지름이 4인 원의 넓이 출력\u001b[0m\u001b[0;34m\u001b[0m\u001b[0;34m\u001b[0m\u001b[0m\n\u001b[1;32m      2\u001b[0m \u001b[0mr\u001b[0m \u001b[0;34m=\u001b[0m \u001b[0;36m4\u001b[0m\u001b[0;34m\u001b[0m\u001b[0;34m\u001b[0m\u001b[0m\n\u001b[0;32m----> 3\u001b[0;31m \u001b[0mprint\u001b[0m\u001b[0;34m(\u001b[0m\u001b[0;34mf'원의 넓이: {round(math.pi * math.pow(r,2), 4)}'\u001b[0m\u001b[0;34m)\u001b[0m\u001b[0;34m\u001b[0m\u001b[0;34m\u001b[0m\u001b[0m\n\u001b[0m\u001b[1;32m      4\u001b[0m \u001b[0;31m# 문제2: 3.14 곱하기 2 나누기 7의 값을 반올림하여 계산 결과 출력\u001b[0m\u001b[0;34m\u001b[0m\u001b[0;34m\u001b[0m\u001b[0m\n\u001b[1;32m      5\u001b[0m \u001b[0mprint\u001b[0m\u001b[0;34m(\u001b[0m\u001b[0;34mf'계산결과: {round(3.14*2/7)}'\u001b[0m\u001b[0;34m)\u001b[0m\u001b[0;34m\u001b[0m\u001b[0;34m\u001b[0m\u001b[0m\n",
            "\u001b[0;31mNameError\u001b[0m: name 'math' is not defined"
          ]
        }
      ]
    },
    {
      "cell_type": "markdown",
      "source": [
        "# [실습문제] 숫자 입력받아 계산하기\n",
        "\n",
        "# a + aa + aaa = ?"
      ],
      "metadata": {
        "id": "hAyhtYqpHSpo"
      }
    },
    {
      "cell_type": "code",
      "source": [
        "a = input(\"1~9까지의 정수중에서 하나 입력: \")\n",
        "print(f\"{a} + {a*2} + {a*3} = {int(a) + int(a*2) + int(a*3)}\")"
      ],
      "metadata": {
        "colab": {
          "base_uri": "https://localhost:8080/"
        },
        "id": "qMZX6zLrHMDy",
        "outputId": "0f89d539-bf75-4dcf-d9dc-21266602429b"
      },
      "execution_count": 2,
      "outputs": [
        {
          "output_type": "stream",
          "name": "stdout",
          "text": [
            "1~9까지의 정수중에서 하나 입력: 7\n",
            "7 + 77 + 777 = 861\n"
          ]
        }
      ]
    },
    {
      "cell_type": "code",
      "source": [
        "# eval() : 문자열을 숫자로 인식하고 계산하는 함수\n",
        "eval('7 + 77 + 777')\n",
        "calc = f'{a} + {a*2} + {a*3}'\n",
        "print(f'{calc} = {eval(calc)}')"
      ],
      "metadata": {
        "colab": {
          "base_uri": "https://localhost:8080/"
        },
        "id": "YngFSC3uNLLj",
        "outputId": "71155ad8-1400-47dd-a496-8d7162d7f697"
      },
      "execution_count": 4,
      "outputs": [
        {
          "output_type": "stream",
          "name": "stdout",
          "text": [
            "7 + 77 + 777 = 861\n"
          ]
        }
      ]
    }
  ]
}